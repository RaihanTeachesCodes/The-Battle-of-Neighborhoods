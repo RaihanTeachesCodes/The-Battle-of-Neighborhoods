{
 "cells": [
  {
   "cell_type": "markdown",
   "metadata": {},
   "source": [
    "<h1>The Battle of Neighborhoods - Coursera IBM capstone Project"
   ]
  },
  {
   "cell_type": "markdown",
   "metadata": {},
   "source": [
    "Author: Raihan Insan Habibi"
   ]
  },
  {
   "cell_type": "markdown",
   "metadata": {},
   "source": [
    "Project Title:"
   ]
  },
  {
   "cell_type": "markdown",
   "metadata": {},
   "source": [
    "## Visual Approach to Determine Strategic Location for a New Covid-19 Testing Center in Ankara, Turkey Using Data Science / Data Analytics Tool Kits"
   ]
  },
  {
   "cell_type": "markdown",
   "metadata": {},
   "source": [
    "<h3>1.Introduction / Business Problem"
   ]
  },
  {
   "cell_type": "markdown",
   "metadata": {},
   "source": [
    "At the beginning of 2020, cities around the globe were under attack by an invisible army called 'Novel Corona Virus'  known as 'Covid-19'. While every effort has focused on solving or minimizing problems at hand, other professionals such as Data scientists may need to assess the current situations in the city, such as the availability, the number, and the geographical distribution (location) of health infrastructures such as virus testing centers or 'specialist' hospital capable of handling and detecting such disease that standard hospitals cannot. It is due to the nature of the viral infection requiring more sophisticated instruments, reagents,  assay techniques, and high-throughput sample analysis platforms. In this article, I would like to describe a simple analysis for determining a strategic location for a new Covid-19 testing center in any city (Ankara in this case) using data science/data analytics toolsets. here is a highlighted map of Ankara city in Turkey"
   ]
  },
  {
   "cell_type": "code",
   "execution_count": 1,
   "metadata": {},
   "outputs": [
    {
     "data": {
      "text/html": [
       "<div style=\"width:100%;\"><div style=\"position:relative;width:100%;height:0;padding-bottom:60%;\"><span style=\"color:#565656\">Make this Notebook Trusted to load map: File -> Trust Notebook</span><iframe src=\"about:blank\" style=\"position:absolute;width:100%;height:100%;left:0;top:0;border:none !important;\" data-html=%3C%21DOCTYPE%20html%3E%0A%3Chead%3E%20%20%20%20%0A%20%20%20%20%3Cmeta%20http-equiv%3D%22content-type%22%20content%3D%22text/html%3B%20charset%3DUTF-8%22%20/%3E%0A%20%20%20%20%0A%20%20%20%20%20%20%20%20%3Cscript%3E%0A%20%20%20%20%20%20%20%20%20%20%20%20L_NO_TOUCH%20%3D%20false%3B%0A%20%20%20%20%20%20%20%20%20%20%20%20L_DISABLE_3D%20%3D%20false%3B%0A%20%20%20%20%20%20%20%20%3C/script%3E%0A%20%20%20%20%0A%20%20%20%20%3Cstyle%3Ehtml%2C%20body%20%7Bwidth%3A%20100%25%3Bheight%3A%20100%25%3Bmargin%3A%200%3Bpadding%3A%200%3B%7D%3C/style%3E%0A%20%20%20%20%3Cstyle%3E%23map%20%7Bposition%3Aabsolute%3Btop%3A0%3Bbottom%3A0%3Bright%3A0%3Bleft%3A0%3B%7D%3C/style%3E%0A%20%20%20%20%3Cscript%20src%3D%22https%3A//cdn.jsdelivr.net/npm/leaflet%401.6.0/dist/leaflet.js%22%3E%3C/script%3E%0A%20%20%20%20%3Cscript%20src%3D%22https%3A//code.jquery.com/jquery-1.12.4.min.js%22%3E%3C/script%3E%0A%20%20%20%20%3Cscript%20src%3D%22https%3A//maxcdn.bootstrapcdn.com/bootstrap/3.2.0/js/bootstrap.min.js%22%3E%3C/script%3E%0A%20%20%20%20%3Cscript%20src%3D%22https%3A//cdnjs.cloudflare.com/ajax/libs/Leaflet.awesome-markers/2.0.2/leaflet.awesome-markers.js%22%3E%3C/script%3E%0A%20%20%20%20%3Clink%20rel%3D%22stylesheet%22%20href%3D%22https%3A//cdn.jsdelivr.net/npm/leaflet%401.6.0/dist/leaflet.css%22/%3E%0A%20%20%20%20%3Clink%20rel%3D%22stylesheet%22%20href%3D%22https%3A//maxcdn.bootstrapcdn.com/bootstrap/3.2.0/css/bootstrap.min.css%22/%3E%0A%20%20%20%20%3Clink%20rel%3D%22stylesheet%22%20href%3D%22https%3A//maxcdn.bootstrapcdn.com/bootstrap/3.2.0/css/bootstrap-theme.min.css%22/%3E%0A%20%20%20%20%3Clink%20rel%3D%22stylesheet%22%20href%3D%22https%3A//maxcdn.bootstrapcdn.com/font-awesome/4.6.3/css/font-awesome.min.css%22/%3E%0A%20%20%20%20%3Clink%20rel%3D%22stylesheet%22%20href%3D%22https%3A//cdnjs.cloudflare.com/ajax/libs/Leaflet.awesome-markers/2.0.2/leaflet.awesome-markers.css%22/%3E%0A%20%20%20%20%3Clink%20rel%3D%22stylesheet%22%20href%3D%22https%3A//cdn.jsdelivr.net/gh/python-visualization/folium/folium/templates/leaflet.awesome.rotate.min.css%22/%3E%0A%20%20%20%20%0A%20%20%20%20%20%20%20%20%20%20%20%20%3Cmeta%20name%3D%22viewport%22%20content%3D%22width%3Ddevice-width%2C%0A%20%20%20%20%20%20%20%20%20%20%20%20%20%20%20%20initial-scale%3D1.0%2C%20maximum-scale%3D1.0%2C%20user-scalable%3Dno%22%20/%3E%0A%20%20%20%20%20%20%20%20%20%20%20%20%3Cstyle%3E%0A%20%20%20%20%20%20%20%20%20%20%20%20%20%20%20%20%23map_7b75fcf72c9a40a5ab988b35627e163d%20%7B%0A%20%20%20%20%20%20%20%20%20%20%20%20%20%20%20%20%20%20%20%20position%3A%20relative%3B%0A%20%20%20%20%20%20%20%20%20%20%20%20%20%20%20%20%20%20%20%20width%3A%20100.0%25%3B%0A%20%20%20%20%20%20%20%20%20%20%20%20%20%20%20%20%20%20%20%20height%3A%20100.0%25%3B%0A%20%20%20%20%20%20%20%20%20%20%20%20%20%20%20%20%20%20%20%20left%3A%200.0%25%3B%0A%20%20%20%20%20%20%20%20%20%20%20%20%20%20%20%20%20%20%20%20top%3A%200.0%25%3B%0A%20%20%20%20%20%20%20%20%20%20%20%20%20%20%20%20%7D%0A%20%20%20%20%20%20%20%20%20%20%20%20%3C/style%3E%0A%20%20%20%20%20%20%20%20%0A%3C/head%3E%0A%3Cbody%3E%20%20%20%20%0A%20%20%20%20%0A%20%20%20%20%20%20%20%20%20%20%20%20%3Cdiv%20class%3D%22folium-map%22%20id%3D%22map_7b75fcf72c9a40a5ab988b35627e163d%22%20%3E%3C/div%3E%0A%20%20%20%20%20%20%20%20%0A%3C/body%3E%0A%3Cscript%3E%20%20%20%20%0A%20%20%20%20%0A%20%20%20%20%20%20%20%20%20%20%20%20var%20map_7b75fcf72c9a40a5ab988b35627e163d%20%3D%20L.map%28%0A%20%20%20%20%20%20%20%20%20%20%20%20%20%20%20%20%22map_7b75fcf72c9a40a5ab988b35627e163d%22%2C%0A%20%20%20%20%20%20%20%20%20%20%20%20%20%20%20%20%7B%0A%20%20%20%20%20%20%20%20%20%20%20%20%20%20%20%20%20%20%20%20center%3A%20%5B39.7334%2C%2032.8597%5D%2C%0A%20%20%20%20%20%20%20%20%20%20%20%20%20%20%20%20%20%20%20%20crs%3A%20L.CRS.EPSG3857%2C%0A%20%20%20%20%20%20%20%20%20%20%20%20%20%20%20%20%20%20%20%20zoom%3A%208%2C%0A%20%20%20%20%20%20%20%20%20%20%20%20%20%20%20%20%20%20%20%20zoomControl%3A%20true%2C%0A%20%20%20%20%20%20%20%20%20%20%20%20%20%20%20%20%20%20%20%20preferCanvas%3A%20false%2C%0A%20%20%20%20%20%20%20%20%20%20%20%20%20%20%20%20%7D%0A%20%20%20%20%20%20%20%20%20%20%20%20%29%3B%0A%0A%20%20%20%20%20%20%20%20%20%20%20%20%0A%0A%20%20%20%20%20%20%20%20%0A%20%20%20%20%0A%20%20%20%20%20%20%20%20%20%20%20%20var%20tile_layer_7ad476d725a3497bbd1066759c31e4b3%20%3D%20L.tileLayer%28%0A%20%20%20%20%20%20%20%20%20%20%20%20%20%20%20%20%22https%3A//%7Bs%7D.tile.openstreetmap.org/%7Bz%7D/%7Bx%7D/%7By%7D.png%22%2C%0A%20%20%20%20%20%20%20%20%20%20%20%20%20%20%20%20%7B%22attribution%22%3A%20%22Data%20by%20%5Cu0026copy%3B%20%5Cu003ca%20href%3D%5C%22http%3A//openstreetmap.org%5C%22%5Cu003eOpenStreetMap%5Cu003c/a%5Cu003e%2C%20under%20%5Cu003ca%20href%3D%5C%22http%3A//www.openstreetmap.org/copyright%5C%22%5Cu003eODbL%5Cu003c/a%5Cu003e.%22%2C%20%22detectRetina%22%3A%20false%2C%20%22maxNativeZoom%22%3A%2018%2C%20%22maxZoom%22%3A%2018%2C%20%22minZoom%22%3A%200%2C%20%22noWrap%22%3A%20false%2C%20%22opacity%22%3A%201%2C%20%22subdomains%22%3A%20%22abc%22%2C%20%22tms%22%3A%20false%7D%0A%20%20%20%20%20%20%20%20%20%20%20%20%29.addTo%28map_7b75fcf72c9a40a5ab988b35627e163d%29%3B%0A%20%20%20%20%20%20%20%20%0A%20%20%20%20%0A%0A%20%20%20%20%20%20%20%20function%20geo_json_569275e82f42400e873b69be760457a8_onEachFeature%28feature%2C%20layer%29%20%7B%0A%20%20%20%20%20%20%20%20%20%20%20%20layer.on%28%7B%0A%20%20%20%20%20%20%20%20%20%20%20%20%7D%29%3B%0A%20%20%20%20%20%20%20%20%7D%3B%0A%20%20%20%20%20%20%20%20var%20geo_json_569275e82f42400e873b69be760457a8%20%3D%20L.geoJson%28null%2C%20%7B%0A%20%20%20%20%20%20%20%20%20%20%20%20%20%20%20%20onEachFeature%3A%20geo_json_569275e82f42400e873b69be760457a8_onEachFeature%2C%0A%20%20%20%20%20%20%20%20%20%20%20%20%0A%20%20%20%20%20%20%20%20%7D%29%3B%0A%0A%20%20%20%20%20%20%20%20function%20geo_json_569275e82f42400e873b69be760457a8_add%20%28data%29%20%7B%0A%20%20%20%20%20%20%20%20%20%20%20%20geo_json_569275e82f42400e873b69be760457a8%0A%20%20%20%20%20%20%20%20%20%20%20%20%20%20%20%20.addData%28data%29%0A%20%20%20%20%20%20%20%20%20%20%20%20%20%20%20%20.addTo%28map_7b75fcf72c9a40a5ab988b35627e163d%29%3B%0A%20%20%20%20%20%20%20%20%7D%0A%20%20%20%20%20%20%20%20%20%20%20%20geo_json_569275e82f42400e873b69be760457a8_add%28%7B%22features%22%3A%20%5B%7B%22geometry%22%3A%20%7B%22coordinates%22%3A%20%5B%5B%5B33.187957763672046%2C%2040.41364669799805%5D%2C%20%5B33.22098541259771%2C%2040.351249694824446%5D%2C%20%5B33.2674293518067%2C%2040.331134796142805%5D%2C%20%5B33.330764770507756%2C%2040.33474349975609%5D%2C%20%5B33.364143371581974%2C%2040.38593292236334%5D%2C%20%5B33.40986251831072%2C%2040.38897705078125%5D%2C%20%5B33.72912216186518%2C%2040.27840805053711%5D%2C%20%5B33.652736663818416%2C%2040.201866149902344%5D%2C%20%5B33.57646942138689%2C%2040.048053741455135%5D%2C%20%5B33.61725234985357%2C%2039.966354370117415%5D%2C%20%5B33.616443634033374%2C%2039.91255950927757%5D%2C%20%5B33.59539413452177%2C%2039.884044647217024%5D%2C%20%5B33.43414688110357%2C%2039.81398773193371%5D%2C%20%5B33.356254577636776%2C%2039.751121520996094%5D%2C%20%5B33.31986618041992%2C%2039.64878463745117%5D%2C%20%5B33.317638397216854%2C%2039.574645996094034%5D%2C%20%5B33.2855339050293%2C%2039.46186065673851%5D%2C%20%5B33.23331832885748%2C%2039.37669372558594%5D%2C%20%5B33.28668594360357%2C%2039.33038711547863%5D%2C%20%5B33.36938476562506%2C%2039.317165374755916%5D%2C%20%5B33.390270233154354%2C%2039.27744674682617%5D%2C%20%5B33.36560821533209%2C%2039.22562789917015%5D%2C%20%5B33.41689682006836%2C%2039.16110992431652%5D%2C%20%5B33.52802276611345%2C%2039.2547988891601%5D%2C%20%5B33.59801483154314%2C%2039.17142486572277%5D%2C%20%5B33.942905426025675%2C%2039.03599166870117%5D%2C%20%5B33.8883056640625%2C%2038.954170227050895%5D%2C%20%5B33.946762084960994%2C%2038.81260299682617%5D%2C%20%5B33.923976898193416%2C%2038.78068542480486%5D%2C%20%5B33.82899475097673%2C%2038.716121673584155%5D%2C%20%5B33.68149948120117%2C%2038.711006164550895%5D%2C%20%5B33.465042114257756%2C%2038.63647079467779%5D%2C%20%5B33.36212921142584%2C%2038.791782379150504%5D%2C%20%5B33.37403869628935%2C%2039.037906646728516%5D%2C%20%5B33.18780136108427%2C%2039.276828765869084%5D%2C%20%5B33.115245819091854%2C%2039.22088241577154%5D%2C%20%5B33.05522155761719%2C%2039.218933105468864%5D%2C%20%5B33.021648406982706%2C%2039.15932846069347%5D%2C%20%5B32.96263122558622%2C%2039.126510620117244%5D%2C%20%5B32.89254760742193%2C%2039.154331207275504%5D%2C%20%5B32.83474731445318%2C%2039.15232849121105%5D%2C%20%5B32.742153167724666%2C%2039.082061767578125%5D%2C%20%5B32.70268630981451%2C%2039.03284835815441%5D%2C%20%5B32.5559196472168%2C%2039.04980850219738%5D%2C%20%5B32.46858978271496%2C%2038.99460601806652%5D%2C%20%5B32.2944526672365%2C%2039.06810379028326%5D%2C%20%5B32.129978179931925%2C%2039.0306282043457%5D%2C%20%5B32.083663940429744%2C%2039.04292297363281%5D%2C%20%5B31.883207321167276%2C%2039.173801422119254%5D%2C%20%5B31.99277877807623%2C%2039.22740173339844%5D%2C%20%5B32.011322021484546%2C%2039.38178634643572%5D%2C%20%5B31.99344062805193%2C%2039.50458908081055%5D%2C%20%5B31.907976150512866%2C%2039.613700866699276%5D%2C%20%5B31.849052429199276%2C%2039.730388641357536%5D%2C%20%5B31.847255706787166%2C%2039.76829147338873%5D%2C%20%5B31.88599014282238%2C%2039.808479309082145%5D%2C%20%5B31.857683181762752%2C%2039.87451553344749%5D%2C%20%5B31.797164916992244%2C%2039.8831901550293%5D%2C%20%5B31.695951461791992%2C%2039.98823165893566%5D%2C%20%5B31.617036819458292%2C%2040.01634979248058%5D%2C%20%5B31.175989151001033%2C%2040.04402542114258%5D%2C%20%5B31.02343177795416%2C%2040.019157409668026%5D%2C%20%5B30.94405746459978%2C%2040.02215957641607%5D%2C%20%5B30.919401168823356%2C%2040.035682678222656%5D%2C%20%5B30.913637161254826%2C%2040.0991401672365%5D%2C%20%5B30.873971939086914%2C%2040.14034652709961%5D%2C%20%5B30.955003738403605%2C%2040.22293853759777%5D%2C%20%5B31.047548294067383%2C%2040.2725639343264%5D%2C%20%5B31.037288665771484%2C%2040.37631988525385%5D%2C%20%5B31.06073379516596%2C%2040.41575241088867%5D%2C%20%5B31.14426994323742%2C%2040.39905548095703%5D%2C%20%5B31.26392936706543%2C%2040.346771240234375%5D%2C%20%5B31.566928863525675%2C%2040.30855178833008%5D%2C%20%5B31.705093383789347%2C%2040.34394454956066%5D%2C%20%5B31.79364585876482%2C%2040.33181762695318%5D%2C%20%5B31.9033527374267%2C%2040.34561157226557%5D%2C%20%5B32.14555358886719%2C%2040.424667358398494%5D%2C%20%5B32.37283325195318%2C%2040.4155387878418%5D%2C%20%5B32.47593688964861%2C%2040.5302276611331%5D%2C%20%5B32.430423736572266%2C%2040.65179443359392%5D%2C%20%5B32.50134658813505%2C%2040.704257965088004%5D%2C%20%5B32.65491485595709%2C%2040.702560424804744%5D%2C%20%5B32.955661773681925%2C%2040.59830474853527%5D%2C%20%5B33.187957763672046%2C%2040.41364669799805%5D%5D%5D%2C%20%22type%22%3A%20%22Polygon%22%7D%2C%20%22properties%22%3A%20%7B%22name%22%3A%20%22Ankara%22%2C%20%22number%22%3A%206%7D%2C%20%22type%22%3A%20%22Feature%22%7D%5D%2C%20%22type%22%3A%20%22FeatureCollection%22%7D%29%3B%0A%0A%20%20%20%20%20%20%20%20%0A%3C/script%3E onload=\"this.contentDocument.open();this.contentDocument.write(    decodeURIComponent(this.getAttribute('data-html')));this.contentDocument.close();\" allowfullscreen webkitallowfullscreen mozallowfullscreen></iframe></div></div>"
      ],
      "text/plain": [
       "<folium.folium.Map at 0x24c1dd43310>"
      ]
     },
     "execution_count": 1,
     "metadata": {},
     "output_type": "execute_result"
    }
   ],
   "source": [
    "import folium\n",
    "import json\n",
    "\n",
    "\n",
    "turkey_map = folium.Map([39.7334, 32.8597], zoom_start=8)\n",
    "f = open(\"tr-cities.json\")\n",
    "data = json.load(f)\n",
    "data[\"features\"] = [data[\"features\"][6]]\n",
    "folium.GeoJson(data).add_to(turkey_map)\n",
    "turkey_map\n",
    "#data"
   ]
  },
  {
   "cell_type": "markdown",
   "metadata": {},
   "source": [
    "**Case Scenario**:\n",
    "\n",
    "After doing Research, the government of the city may need to better allocate an additional resource such as building a new testing center to better prepare the city for future potential outbreak of another evolved virus. Alternatively, private investors could take the business investment opportunity, especially in a big city like Ankara. Typically, the investors may be interested to know:\n",
    "\n",
    "1. The number or the extent of Covid-19 positive cases patients and their relative distribution within the city.\n",
    "2. The number and locations of the existing and approved Covid-19 testing centers in the city (i.e. the competitors).\n",
    "3. TWO (2) candidate strategic locations for the new Covid-19 testing center relatively far from the competition.\n",
    "4. Population density of the proposed area (Social distancing indicator).\n",
    "5. Basic profile of the proposed neighborhood (e.g. the presence of unique clustering such as residential areas, business / office areas, the number and types of other businesses venues, etc).\n",
    "\n",
    "For point (1), the investor obviously would like to know the extent of epidemics in the area. For Point 2, they need to make sure that their investment is located in an area relatively far away from any competitors having similar facilities at the time their business venture starts. The 3rd point requires visualization that we will discuss below. The 4th point also indicates the potential target customers. The higher the population density, the higher the potential users of the facility. The 5th point indicates the current level of business activity in the proposed area. The higher the number of business venues, the higher the number of business activity in the area. Certainly, all investors would like the area to have many different business ventures already established in the proposed neighborhood. we will begin this artice by importing all the modules needed for the whole report."
   ]
  },
  {
   "cell_type": "code",
   "execution_count": 2,
   "metadata": {},
   "outputs": [
    {
     "name": "stdout",
     "output_type": "stream",
     "text": [
      "done importing request\n",
      "done importing urlib\n",
      "done importing pandas\n",
      "done importing numpy\n",
      "done importing random\n"
     ]
    }
   ],
   "source": [
    "import requests # library to handle requests\n",
    "print(\"done importing request\")\n",
    "from urllib.request import urlopen as uReq \n",
    "print(\"done importing urlib\")\n",
    "import pandas as pd # library for data analsysis\n",
    "print(\"done importing pandas\")\n",
    "import numpy as np # library to handle data in a vectorized manner\n",
    "print(\"done importing numpy\")\n",
    "import random # library for random number generation\n",
    "print(\"done importing random\")\n"
   ]
  },
  {
   "cell_type": "code",
   "execution_count": 3,
   "metadata": {},
   "outputs": [
    {
     "name": "stdout",
     "output_type": "stream",
     "text": [
      "done\n",
      "done\n",
      "done\n",
      "done\n",
      "done\n"
     ]
    }
   ],
   "source": [
    "#!conda install -c conda-forge geopy --yes \n",
    "print(\"done\")\n",
    "from geopy.geocoders import Nominatim # module to convert an address into latitude and longitude values\n",
    "print(\"done\")\n",
    "from typing import Container\n",
    "print(\"done\")\n",
    "import functools\n",
    "print(\"done\")\n",
    "from functools import partial\n",
    "print(\"done\")\n"
   ]
  },
  {
   "cell_type": "code",
   "execution_count": 4,
   "metadata": {},
   "outputs": [
    {
     "name": "stdout",
     "output_type": "stream",
     "text": [
      "done\n",
      "done\n",
      "done\n",
      "done\n",
      "done\n",
      "done\n"
     ]
    }
   ],
   "source": [
    "# libraries for displaying images\n",
    "from IPython.display import Image \n",
    "print(\"done\")\n",
    "from IPython.core.display import HTML \n",
    "print(\"done\")\n",
    "\n",
    "from IPython.display import display_html\n",
    "print(\"done\")\n",
    "import pandas as pd\n",
    "print(\"done\")\n",
    "import numpy as np\n",
    "print(\"done\")\n",
    "from numpy.core.numeric import NaN\n",
    "print(\"done\")\n"
   ]
  },
  {
   "cell_type": "code",
   "execution_count": 5,
   "metadata": {},
   "outputs": [
    {
     "name": "stdout",
     "output_type": "stream",
     "text": [
      "done importing pandas json\n",
      "done\n",
      "done\n",
      "done\n",
      "done\n",
      "done\n",
      "done\n",
      "Folium installed\n",
      "Libraries imported.\n"
     ]
    }
   ],
   "source": [
    "# tranforming json file into a pandas dataframe library\n",
    "from pandas.io.json import json_normalize\n",
    "print(\"done importing pandas json\")\n",
    "#!conda install -c conda-forge folium=0.5.0 --yes\n",
    "print(\"done\")\n",
    "import folium # plotting library\n",
    "print(\"done\")\n",
    "from bs4 import BeautifulSoup as BS\n",
    "print(\"done\")\n",
    "from sklearn.cluster import KMeans\n",
    "print(\"done\")\n",
    "import matplotlib.cm as cm\n",
    "print(\"done\")\n",
    "import matplotlib.colors as colors\n",
    "print(\"done\")\n",
    "import matplotlib.pyplot as plt\n",
    "print('Folium installed')\n",
    "print('Libraries imported.')"
   ]
  },
  {
   "cell_type": "markdown",
   "metadata": {},
   "source": [
    "### 2. Data"
   ]
  },
  {
   "cell_type": "markdown",
   "metadata": {},
   "source": [
    "Based on the requirements from the potential investors above, the necessary information needed for this analysis will come from the following online sources:\n",
    "\n",
    "1. The number of positive cases patients in each province: https://en.wikipedia.org/wiki/COVID-19_pandemic_in_Turkey, that shows the number of positive Covid-19 patients\n",
    "2. The population density will be obtained from Wikipedia for Ankara (https://en.wikipedia.org/wiki/Ankara_Province). As can be seen, Ankara is the special capital region of Turkey having a total area 25,706 square kilometers  and a total of 5,503,985 population in 2020. However, I will scrap the Table in the Wikipedia showing the population density in 2017 only. Ankara has 81 main cities. \n",
    "3. The number of existing and approved Covid-19 testing centers or 'Specialist' hospitals from the Ministry of Health website (https://en.wikipedia.org/wiki/List_of_hospitals_in_Ankara_Province) in Turkey\n",
    "4. the number of positive cases in Ankara province(https://covid19.saglik.gov.tr/)\n",
    "5. OpenCage Geocoder API to collect latitude and longitude of cities, area or facility (e.g. hospitals)\n",
    "\n",
    "In addition to these resources or websites, there are also other potential or highly relevant sources which can be used for example related to the number of available hospital beds for patients. This can be obtained (for future reference) from Ministry of Health website (https://healtheconomicsreview.biomedcentral.com/articles/10.1186/s13561-021-00338-8), (https://journals.plos.org/plosone/article?id=10.1371/journal.pone.0242398) in Turkey. I also used other resources such as Folium which can be used for Visualization purposes and BeautifulSoup for scrapping website as described in more details in the following sections.\n"
   ]
  },
  {
   "cell_type": "markdown",
   "metadata": {},
   "source": [
    "#### 2.1. Covid - 19  Data of Ankara city from wikipedia site"
   ]
  },
  {
   "cell_type": "markdown",
   "metadata": {},
   "source": [
    "The following describes a web scrapping technique commonly used by data scientist to get the information from public website. After inspecting the original Wikipedia page, one would need to isolate the relevant HTML codes for the desired Table using Requests, BeautifulSoup library and etc. this data shows the number of postive covid - 19 in every city in Turkey, from this information we can tell the ranking of Ankara city compared to other city "
   ]
  },
  {
   "cell_type": "code",
   "execution_count": 6,
   "metadata": {},
   "outputs": [
    {
     "data": {
      "image/png": "[encoded data removed]",
      "text/plain": [
       "<Figure size 864x648 with 2 Axes>"
      ]
     },
     "metadata": {
      "needs_background": "light"
     },
     "output_type": "display_data"
    }
   ],
   "source": [
    "myurl = \"https://en.wikipedia.org/wiki/COVID-19_pandemic_in_Turkey\"\n",
    "\n",
    "#grabbing information from the page\n",
    "uclient = uReq(myurl)\n",
    "page_html = uclient.read()\n",
    "uclient.close()\n",
    "page_BS = BS(page_html, \"html.parser\")\n",
    "\n",
    "whole_id_container = page_BS.find_all(\"div\", {\"id\":\"covid19-container\"})\n",
    "\n",
    "content = whole_id_container[0]\n",
    "\n",
    "rows = content.table.find_all(\"tr\")\n",
    "\n",
    "table_name_content = []\n",
    "\n",
    "number_cases_in_city = []\n",
    "\n",
    "\n",
    "#cleaning the row in the list\n",
    "\n",
    "for row in rows[3:]:\n",
    "    for x in row.find_all(\"th\"):\n",
    "        try:\n",
    "            table_name_content.append(x.a.text)\n",
    "        except:\n",
    "            pass\n",
    "\n",
    "for row in rows[3:]:\n",
    "    try:\n",
    "        word = row.td.text.replace(\"\\n\", \"\")\n",
    "        number = int(word.replace(\",\", \"\"))\n",
    "        number_cases_in_city.append(number)\n",
    "\n",
    "    except:\n",
    "        pass\n",
    "\n",
    "#making database\n",
    "\n",
    "table_name_content = list(table_name_content)\n",
    "\n",
    "number_cases_in_city = list(number_cases_in_city)\n",
    "\n",
    "turkey_DB =  {\"city names\":table_name_content, \"number of postive cases\":number_cases_in_city}\n",
    "\n",
    "TDF = pd.DataFrame(turkey_DB)\n",
    "\n",
    "#making graph\n",
    "\n",
    "plt.rcParams[\"figure.figsize\"] = (12, 9) # (w, h)\n",
    "\n",
    "TDF = TDF.sort_values(by=[\"number of postive cases\"],ascending = False)\n",
    "\n",
    "plt.subplot(1, 2, 1)\n",
    "\n",
    "plt.bar(TDF[\"city names\"][:5], TDF[\"number of postive cases\"][:5])\n",
    "\n",
    "plt.title(\"Top 5 highest cases in COVID-19 in Turkey\")\n",
    "plt.xlabel(\"Province\")\n",
    "plt.ylabel(\"Cases per 100,000 residents\")\n",
    "\n",
    "TDF = TDF.sort_values(by=[\"number of postive cases\"],ascending = True)\n",
    "\n",
    "plt.subplot(1, 2, 2)\n",
    "\n",
    "plt.bar(TDF[\"city names\"][:5], TDF[\"number of postive cases\"][:5])\n",
    "\n",
    "plt.title(\"Top 5 lowest cases in COVID-19 in Turkey\")\n",
    "plt.xlabel(\"Province\")\n",
    "plt.ylabel(\"Cases per 100,000 residents\")\n",
    "\n",
    "\n",
    "TDF = TDF.sort_values(by=[\"number of postive cases\"],ascending = False)"
   ]
  },
  {
   "cell_type": "markdown",
   "metadata": {},
   "source": [
    "we can also make a database from this whole data so we can tell more accurate information. using this idea, we can determine the ranking of each city in turkey. This is important because now we will better understand what enviromental features effects the growth of the virus and what decreases it. Since this data is not live and was web scraped from wikipedia edited in 2020, we can assume that in that year the city of Trabzon has higher positive cases. "
   ]
  },
  {
   "cell_type": "code",
   "execution_count": 7,
   "metadata": {},
   "outputs": [
    {
     "data": {
      "text/html": [
       "<div>\n",
       "<style scoped>\n",
       "    .dataframe tbody tr th:only-of-type {\n",
       "        vertical-align: middle;\n",
       "    }\n",
       "\n",
       "    .dataframe tbody tr th {\n",
       "        vertical-align: top;\n",
       "    }\n",
       "\n",
       "    .dataframe thead th {\n",
       "        text-align: right;\n",
       "    }\n",
       "</style>\n",
       "<table border=\"1\" class=\"dataframe\">\n",
       "  <thead>\n",
       "    <tr style=\"text-align: right;\">\n",
       "      <th></th>\n",
       "      <th>city names</th>\n",
       "      <th>number of postive cases</th>\n",
       "    </tr>\n",
       "  </thead>\n",
       "  <tbody>\n",
       "    <tr>\n",
       "      <th>73</th>\n",
       "      <td>Trabzon</td>\n",
       "      <td>22802</td>\n",
       "    </tr>\n",
       "    <tr>\n",
       "      <th>63</th>\n",
       "      <td>Rize</td>\n",
       "      <td>20244</td>\n",
       "    </tr>\n",
       "    <tr>\n",
       "      <th>61</th>\n",
       "      <td>Ordu</td>\n",
       "      <td>19442</td>\n",
       "    </tr>\n",
       "    <tr>\n",
       "      <th>32</th>\n",
       "      <td>Giresun</td>\n",
       "      <td>18434</td>\n",
       "    </tr>\n",
       "    <tr>\n",
       "      <th>65</th>\n",
       "      <td>Samsun</td>\n",
       "      <td>17129</td>\n",
       "    </tr>\n",
       "    <tr>\n",
       "      <th>...</th>\n",
       "      <td>...</td>\n",
       "      <td>...</td>\n",
       "    </tr>\n",
       "    <tr>\n",
       "      <th>76</th>\n",
       "      <td>Van</td>\n",
       "      <td>1489</td>\n",
       "    </tr>\n",
       "    <tr>\n",
       "      <th>13</th>\n",
       "      <td>Batman</td>\n",
       "      <td>1249</td>\n",
       "    </tr>\n",
       "    <tr>\n",
       "      <th>16</th>\n",
       "      <td>Bitlis</td>\n",
       "      <td>1035</td>\n",
       "    </tr>\n",
       "    <tr>\n",
       "      <th>34</th>\n",
       "      <td>Hakkari</td>\n",
       "      <td>955</td>\n",
       "    </tr>\n",
       "    <tr>\n",
       "      <th>70</th>\n",
       "      <td>Şırnak</td>\n",
       "      <td>782</td>\n",
       "    </tr>\n",
       "  </tbody>\n",
       "</table>\n",
       "<p>80 rows × 2 columns</p>\n",
       "</div>"
      ],
      "text/plain": [
       "   city names  number of postive cases\n",
       "73    Trabzon                    22802\n",
       "63       Rize                    20244\n",
       "61       Ordu                    19442\n",
       "32    Giresun                    18434\n",
       "65     Samsun                    17129\n",
       "..        ...                      ...\n",
       "76        Van                     1489\n",
       "13     Batman                     1249\n",
       "16     Bitlis                     1035\n",
       "34    Hakkari                      955\n",
       "70     Şırnak                      782\n",
       "\n",
       "[80 rows x 2 columns]"
      ]
     },
     "execution_count": 7,
     "metadata": {},
     "output_type": "execute_result"
    }
   ],
   "source": [
    "TDF"
   ]
  },
  {
   "cell_type": "markdown",
   "metadata": {},
   "source": [
    "using simple python index method to find the ranking of Ankara"
   ]
  },
  {
   "cell_type": "code",
   "execution_count": 23,
   "metadata": {},
   "outputs": [
    {
     "name": "stdout",
     "output_type": "stream",
     "text": [
      "Ankara is number 50 in the higest number of positive cases\n"
     ]
    }
   ],
   "source": [
    "print(\"Ankara is number \"+str(list(TDF[\"city names\"]).index(\"Ankara\")) + \" in the higest number of positive cases\")"
   ]
  },
  {
   "cell_type": "markdown",
   "metadata": {},
   "source": [
    "#### 2.2. list of state and private hospitals in the area"
   ]
  },
  {
   "cell_type": "markdown",
   "metadata": {},
   "source": [
    "according to https://en.wikipedia.org/wiki/List_of_hospitals_in_Ankara_Province, here are the list of hospitals that live in the loacal area of Ankara"
   ]
  },
  {
   "cell_type": "markdown",
   "metadata": {},
   "source": [
    "<ul><li>ANKARA VEREM SAVAŞ DERNEĞİ NUSRET KARASU GÖĞÜS HASTALIKLARI VE TÜBERKÜLOZ HASTANESİ</li>\n",
    "<li>KOLAN BRITISH HOSPITAL LTD. ŞTİ.</li>\n",
    "<li>LOKMAN HEKİM HAST.</li>\n",
    "<li>ÇANKAYA HASTANESİ</li>\n",
    "<li>ÖZEL AKAY HASTANESİ</li>\n",
    "<li>ÖZEL AKROPOL HASTANESİ</li>\n",
    "<li>ÖZEL ANKARA GÜVEN HASTANESİ</li>\n",
    "<li>ÖZEL ANKARA MEDICAL PARK HASTANESİ</li>\n",
    "<li>ÖZEL ANKARA MEMORIAL HASTANESI</li>\n",
    "<li>ÖZEL ANKARA UMUT HASTANESİ</li>\n",
    "<li>ÖZEL BAYINDIR HASTANESİ</li>\n",
    "<li>ÖZEL BİLGİ HASTANESİ</li>\n",
    "<li>ÖZEL ERYAMAN HASTANESİ</li>\n",
    "<li>ÖZEL ETİMED HASTANESI</li>\n",
    "<li>ÖZEL KEÇİÖREN HASTANESİ</li>\n",
    "<li>ÖZEL KORU ANKARA HASTANESİ</li>\n",
    "<li>ÖZEL KORU SİNCAN HASTANESİ</li>\n",
    "<li>ÖZEL KUDRET İNTERNATIONAL HOSPITAL</li>\n",
    "<li>ÖZEL LOKMAN HEKİM ANKARA HASTANESİ</li>\n",
    "<li>ÖZEL LÖSANTE LÖSEMİLİ ÇOCUKLAR HASTANESİ</li>\n",
    "<li>ÖZEL LİV HOSPITAL ANKARA</li>\n",
    "<li>ÖZEL MEDİCANA İNTERNATİONAL ANKARA HASTANESİ</li>\n",
    "<li>ÖZEL MİNASERA ALDAN HASTANESİ</li>\n",
    "<li>ÖZEL NATOMED HASTANESİ</li>\n",
    "<li>ÖZEL ORTADOĞU HASTANESİ</li>\n",
    "<li>ÖZEL ORTADOĞU 19 MAYIS HASTANESİ</li>\n",
    "<li>ÖZEL POLATLI CAN HASTANESİ</li>\n",
    "<li>ÖZEL TOBB ETÜ HASTANESİ</li>\n",
    "<li>ÖZEL YÜZÜNCÜYIL HASTANESİ</li>\n",
    "<li>ÖZEL ÇANKAYA YAŞAM HASTANESİ</li></ul>\n",
    "\n",
    "later in the methodology section we will construct a pandas dataframe for subsequent data analysis."
   ]
  },
  {
   "cell_type": "markdown",
   "metadata": {},
   "source": [
    "#### 2.3 covid 19 analysis in each province of Ankara "
   ]
  },
  {
   "cell_type": "markdown",
   "metadata": {},
   "source": [
    "since this article is focused on Ankara, we will analyze each province by collecting data and information from the above resources. "
   ]
  },
  {
   "cell_type": "code",
   "execution_count": 9,
   "metadata": {},
   "outputs": [],
   "source": [
    "myurl = \"https://en.wikipedia.org/wiki/Ankara_Province\"\n",
    "\n",
    "# grapbs the page\n",
    "uclient = uReq(myurl)\n",
    "page_html = uclient.read()\n",
    "uclient.close()\n",
    "page_BS = BS(page_html, \"html.parser\")\n",
    "#content>body content>mw content text>output> table\n",
    "div1 = page_BS.find(\"div\", {\"id\": \"content\"})\n",
    "div2 = div1.find(\"div\", {\"id\": \"bodyContent\"})\n",
    "div3 = div2.find(\"div\", {\"id\": \"mw-content-text\"})\n",
    "div4 = div3.find(\"div\", {\"class\": \"mw-parser-output\"})\n",
    "table = div4.find(\"table\", {\"class\": \"wikitable sortable\"})\n",
    "rows = table.find_all(\"tr\")\n",
    "table_df = {\"province name\": [], \"population\": [],\n",
    "            \"area in KM^2\": [], \"Density in KM^2\": []}\n"
   ]
  },
  {
   "cell_type": "code",
   "execution_count": 10,
   "metadata": {},
   "outputs": [],
   "source": [
    "province_name = []\n",
    "\n",
    "for row in rows[1:-2]:\n",
    "    try:\n",
    "        table_df[\"province name\"].append(\n",
    "            row.find_all(\"td\")[0].text.replace(\"\\n\", \"\"))\n",
    "\n",
    "        province_name.append(row.find_all(\"td\")[0].text.replace(\"\\n\", \"\"))\n",
    "\n",
    "        table_df[\"population\"].append(\n",
    "            row.find_all(\"td\")[1].text.replace(\"\\n\", \"\"))\n",
    "\n",
    "        table_df[\"area in KM^2\"].append(\n",
    "            row.find_all(\"td\")[2].text.replace(\"\\n\", \"\"))\n",
    "\n",
    "        table_df[\"Density in KM^2\"].append(\n",
    "            row.find_all(\"td\")[3].text.replace(\"\\n\", \"\"))\n",
    "\n",
    "    except:\n",
    "        pass"
   ]
  },
  {
   "cell_type": "code",
   "execution_count": 11,
   "metadata": {},
   "outputs": [],
   "source": [
    "for province in province_name:\n",
    "    if \"(\" in province:\n",
    "        nprovince = province[:province.index(\"(\")]\n",
    "        province_name[province_name.index(\n",
    "            province)] = nprovince\n",
    "    elif \"/\" in province:\n",
    "        nprovince = province[:province.index(\"/\")]\n",
    "        province_name[province_name.index(\n",
    "            province)] = nprovince\n",
    "    elif \",\" in province:\n",
    "        nprovince = province.replace(\",\", )\n",
    "        province_name[province_name.index(\n",
    "            province)] = nprovince\n",
    "    else:\n",
    "        pass\n",
    "\n",
    "geolocator = Nominatim(user_agent=\"raihanhabibi2002@gmail.com\")\n",
    "longitude = []\n",
    "latitude = []\n",
    "\n",
    "\n",
    "for x in province_name:\n",
    "    geocode = partial(geolocator.geocode, language=\"es\")\n",
    "    location = geolocator.geocode(str(f\"turkey, {x}\"))\n",
    "\n",
    "    try:\n",
    "        longitude.append(location.longitude)\n",
    "        latitude.append(location.latitude)\n",
    "\n",
    "    except:\n",
    "        pass\n",
    "    \n",
    "\n",
    "table_df[\"longitude\"] = longitude\n",
    "table_df[\"latitude\"] = latitude\n",
    "\n",
    "\n",
    "P_DF = pd.DataFrame(table_df)"
   ]
  },
  {
   "cell_type": "code",
   "execution_count": 12,
   "metadata": {},
   "outputs": [],
   "source": [
    "P_DF[\"area in KM^2\"] = P_DF[\"area in KM^2\"].astype(float)\n",
    "P_DF[\"Density in KM^2\"] = P_DF[\"Density in KM^2\"].astype(float)\n",
    "P_DF[\"population\"] = P_DF[\"population\"].astype(float)"
   ]
  },
  {
   "cell_type": "code",
   "execution_count": 13,
   "metadata": {
    "scrolled": true
   },
   "outputs": [
    {
     "data": {
      "text/html": [
       "<div>\n",
       "<style scoped>\n",
       "    .dataframe tbody tr th:only-of-type {\n",
       "        vertical-align: middle;\n",
       "    }\n",
       "\n",
       "    .dataframe tbody tr th {\n",
       "        vertical-align: top;\n",
       "    }\n",
       "\n",
       "    .dataframe thead th {\n",
       "        text-align: right;\n",
       "    }\n",
       "</style>\n",
       "<table border=\"1\" class=\"dataframe\">\n",
       "  <thead>\n",
       "    <tr style=\"text-align: right;\">\n",
       "      <th></th>\n",
       "      <th>province name</th>\n",
       "      <th>population</th>\n",
       "      <th>area in KM^2</th>\n",
       "      <th>Density in KM^2</th>\n",
       "      <th>longitude</th>\n",
       "      <th>latitude</th>\n",
       "    </tr>\n",
       "  </thead>\n",
       "  <tbody>\n",
       "    <tr>\n",
       "      <th>0</th>\n",
       "      <td>Akyurt</td>\n",
       "      <td>32.863</td>\n",
       "      <td>369.000</td>\n",
       "      <td>89.000</td>\n",
       "      <td>33.153739</td>\n",
       "      <td>40.125160</td>\n",
       "    </tr>\n",
       "    <tr>\n",
       "      <th>1</th>\n",
       "      <td>Altındağ</td>\n",
       "      <td>371.366</td>\n",
       "      <td>123.000</td>\n",
       "      <td>3.019</td>\n",
       "      <td>32.998698</td>\n",
       "      <td>39.990974</td>\n",
       "    </tr>\n",
       "    <tr>\n",
       "      <th>2</th>\n",
       "      <td>Ayaş</td>\n",
       "      <td>12.289</td>\n",
       "      <td>1.041</td>\n",
       "      <td>12.000</td>\n",
       "      <td>32.261878</td>\n",
       "      <td>40.028045</td>\n",
       "    </tr>\n",
       "    <tr>\n",
       "      <th>3</th>\n",
       "      <td>Bala</td>\n",
       "      <td>21.682</td>\n",
       "      <td>1.851</td>\n",
       "      <td>12.000</td>\n",
       "      <td>31.611048</td>\n",
       "      <td>40.733295</td>\n",
       "    </tr>\n",
       "    <tr>\n",
       "      <th>4</th>\n",
       "      <td>Beypazarı</td>\n",
       "      <td>48.476</td>\n",
       "      <td>1.697</td>\n",
       "      <td>29.000</td>\n",
       "      <td>31.909088</td>\n",
       "      <td>40.178709</td>\n",
       "    </tr>\n",
       "    <tr>\n",
       "      <th>5</th>\n",
       "      <td>Çamlıdere</td>\n",
       "      <td>7.389</td>\n",
       "      <td>782.000</td>\n",
       "      <td>9.000</td>\n",
       "      <td>32.339090</td>\n",
       "      <td>40.485963</td>\n",
       "    </tr>\n",
       "    <tr>\n",
       "      <th>6</th>\n",
       "      <td>Çankaya</td>\n",
       "      <td>921.999</td>\n",
       "      <td>483.000</td>\n",
       "      <td>1.909</td>\n",
       "      <td>32.945604</td>\n",
       "      <td>39.798098</td>\n",
       "    </tr>\n",
       "    <tr>\n",
       "      <th>7</th>\n",
       "      <td>Çubuk</td>\n",
       "      <td>90.063</td>\n",
       "      <td>1.198</td>\n",
       "      <td>75.000</td>\n",
       "      <td>33.061920</td>\n",
       "      <td>40.318792</td>\n",
       "    </tr>\n",
       "    <tr>\n",
       "      <th>8</th>\n",
       "      <td>Elmadağ</td>\n",
       "      <td>45.513</td>\n",
       "      <td>647.000</td>\n",
       "      <td>70.000</td>\n",
       "      <td>33.228671</td>\n",
       "      <td>39.881462</td>\n",
       "    </tr>\n",
       "    <tr>\n",
       "      <th>9</th>\n",
       "      <td>Etimesgut</td>\n",
       "      <td>566.500</td>\n",
       "      <td>273.000</td>\n",
       "      <td>2.075</td>\n",
       "      <td>32.602279</td>\n",
       "      <td>39.867188</td>\n",
       "    </tr>\n",
       "    <tr>\n",
       "      <th>10</th>\n",
       "      <td>Evren</td>\n",
       "      <td>2.753</td>\n",
       "      <td>222.000</td>\n",
       "      <td>12.000</td>\n",
       "      <td>33.807857</td>\n",
       "      <td>39.022120</td>\n",
       "    </tr>\n",
       "    <tr>\n",
       "      <th>11</th>\n",
       "      <td>Gölbaşı</td>\n",
       "      <td>130.363</td>\n",
       "      <td>1.364</td>\n",
       "      <td>96.000</td>\n",
       "      <td>32.750224</td>\n",
       "      <td>39.532677</td>\n",
       "    </tr>\n",
       "    <tr>\n",
       "      <th>12</th>\n",
       "      <td>Güdül</td>\n",
       "      <td>8.050</td>\n",
       "      <td>540.000</td>\n",
       "      <td>15.000</td>\n",
       "      <td>32.235820</td>\n",
       "      <td>40.201166</td>\n",
       "    </tr>\n",
       "    <tr>\n",
       "      <th>13</th>\n",
       "      <td>Haymana</td>\n",
       "      <td>27.277</td>\n",
       "      <td>2.164</td>\n",
       "      <td>13.000</td>\n",
       "      <td>32.500406</td>\n",
       "      <td>39.434282</td>\n",
       "    </tr>\n",
       "    <tr>\n",
       "      <th>14</th>\n",
       "      <td>Kahramankazan</td>\n",
       "      <td>52.079</td>\n",
       "      <td>547.000</td>\n",
       "      <td>95.000</td>\n",
       "      <td>32.661923</td>\n",
       "      <td>40.186363</td>\n",
       "    </tr>\n",
       "    <tr>\n",
       "      <th>15</th>\n",
       "      <td>Kalecik</td>\n",
       "      <td>12.897</td>\n",
       "      <td>1.110</td>\n",
       "      <td>12.000</td>\n",
       "      <td>33.450938</td>\n",
       "      <td>40.177496</td>\n",
       "    </tr>\n",
       "    <tr>\n",
       "      <th>16</th>\n",
       "      <td>Keçiören</td>\n",
       "      <td>917.759</td>\n",
       "      <td>159.000</td>\n",
       "      <td>5.772</td>\n",
       "      <td>32.851819</td>\n",
       "      <td>39.990920</td>\n",
       "    </tr>\n",
       "    <tr>\n",
       "      <th>17</th>\n",
       "      <td>Kızılcahamam</td>\n",
       "      <td>24.947</td>\n",
       "      <td>1.623</td>\n",
       "      <td>15.000</td>\n",
       "      <td>32.727048</td>\n",
       "      <td>40.483221</td>\n",
       "    </tr>\n",
       "    <tr>\n",
       "      <th>18</th>\n",
       "      <td>Mamak</td>\n",
       "      <td>637.935</td>\n",
       "      <td>321.000</td>\n",
       "      <td>1.987</td>\n",
       "      <td>32.917954</td>\n",
       "      <td>39.921436</td>\n",
       "    </tr>\n",
       "    <tr>\n",
       "      <th>19</th>\n",
       "      <td>Nallıhan</td>\n",
       "      <td>28.621</td>\n",
       "      <td>2.079</td>\n",
       "      <td>14.000</td>\n",
       "      <td>31.351277</td>\n",
       "      <td>40.187242</td>\n",
       "    </tr>\n",
       "    <tr>\n",
       "      <th>20</th>\n",
       "      <td>Polatlı</td>\n",
       "      <td>124.464</td>\n",
       "      <td>3.618</td>\n",
       "      <td>34.000</td>\n",
       "      <td>32.175489</td>\n",
       "      <td>39.457933</td>\n",
       "    </tr>\n",
       "    <tr>\n",
       "      <th>21</th>\n",
       "      <td>Pursaklar</td>\n",
       "      <td>142.317</td>\n",
       "      <td>169.000</td>\n",
       "      <td>842.000</td>\n",
       "      <td>32.865985</td>\n",
       "      <td>40.109940</td>\n",
       "    </tr>\n",
       "    <tr>\n",
       "      <th>22</th>\n",
       "      <td>Sincan</td>\n",
       "      <td>524.222</td>\n",
       "      <td>880.000</td>\n",
       "      <td>596.000</td>\n",
       "      <td>32.521481</td>\n",
       "      <td>39.887978</td>\n",
       "    </tr>\n",
       "    <tr>\n",
       "      <th>23</th>\n",
       "      <td>Şereflikoçhisar</td>\n",
       "      <td>33.599</td>\n",
       "      <td>2.155</td>\n",
       "      <td>16.000</td>\n",
       "      <td>33.541572</td>\n",
       "      <td>38.940059</td>\n",
       "    </tr>\n",
       "    <tr>\n",
       "      <th>24</th>\n",
       "      <td>Yenimahalle</td>\n",
       "      <td>659.603</td>\n",
       "      <td>219.000</td>\n",
       "      <td>3.012</td>\n",
       "      <td>32.682443</td>\n",
       "      <td>40.008731</td>\n",
       "    </tr>\n",
       "  </tbody>\n",
       "</table>\n",
       "</div>"
      ],
      "text/plain": [
       "      province name  population  area in KM^2  Density in KM^2  longitude  \\\n",
       "0            Akyurt      32.863       369.000           89.000  33.153739   \n",
       "1          Altındağ     371.366       123.000            3.019  32.998698   \n",
       "2              Ayaş      12.289         1.041           12.000  32.261878   \n",
       "3              Bala      21.682         1.851           12.000  31.611048   \n",
       "4         Beypazarı      48.476         1.697           29.000  31.909088   \n",
       "5         Çamlıdere       7.389       782.000            9.000  32.339090   \n",
       "6           Çankaya     921.999       483.000            1.909  32.945604   \n",
       "7             Çubuk      90.063         1.198           75.000  33.061920   \n",
       "8           Elmadağ      45.513       647.000           70.000  33.228671   \n",
       "9         Etimesgut     566.500       273.000            2.075  32.602279   \n",
       "10            Evren       2.753       222.000           12.000  33.807857   \n",
       "11          Gölbaşı     130.363         1.364           96.000  32.750224   \n",
       "12            Güdül       8.050       540.000           15.000  32.235820   \n",
       "13          Haymana      27.277         2.164           13.000  32.500406   \n",
       "14    Kahramankazan      52.079       547.000           95.000  32.661923   \n",
       "15          Kalecik      12.897         1.110           12.000  33.450938   \n",
       "16         Keçiören     917.759       159.000            5.772  32.851819   \n",
       "17     Kızılcahamam      24.947         1.623           15.000  32.727048   \n",
       "18            Mamak     637.935       321.000            1.987  32.917954   \n",
       "19         Nallıhan      28.621         2.079           14.000  31.351277   \n",
       "20          Polatlı     124.464         3.618           34.000  32.175489   \n",
       "21        Pursaklar     142.317       169.000          842.000  32.865985   \n",
       "22           Sincan     524.222       880.000          596.000  32.521481   \n",
       "23  Şereflikoçhisar      33.599         2.155           16.000  33.541572   \n",
       "24      Yenimahalle     659.603       219.000            3.012  32.682443   \n",
       "\n",
       "     latitude  \n",
       "0   40.125160  \n",
       "1   39.990974  \n",
       "2   40.028045  \n",
       "3   40.733295  \n",
       "4   40.178709  \n",
       "5   40.485963  \n",
       "6   39.798098  \n",
       "7   40.318792  \n",
       "8   39.881462  \n",
       "9   39.867188  \n",
       "10  39.022120  \n",
       "11  39.532677  \n",
       "12  40.201166  \n",
       "13  39.434282  \n",
       "14  40.186363  \n",
       "15  40.177496  \n",
       "16  39.990920  \n",
       "17  40.483221  \n",
       "18  39.921436  \n",
       "19  40.187242  \n",
       "20  39.457933  \n",
       "21  40.109940  \n",
       "22  39.887978  \n",
       "23  38.940059  \n",
       "24  40.008731  "
      ]
     },
     "execution_count": 13,
     "metadata": {},
     "output_type": "execute_result"
    }
   ],
   "source": [
    "P_DF"
   ]
  },
  {
   "cell_type": "code",
   "execution_count": 14,
   "metadata": {},
   "outputs": [
    {
     "name": "stdout",
     "output_type": "stream",
     "text": [
      "<class 'pandas.core.frame.DataFrame'>\n",
      "RangeIndex: 25 entries, 0 to 24\n",
      "Data columns (total 6 columns):\n",
      " #   Column           Non-Null Count  Dtype  \n",
      "---  ------           --------------  -----  \n",
      " 0   province name    25 non-null     object \n",
      " 1   population       25 non-null     float64\n",
      " 2   area in KM^2     25 non-null     float64\n",
      " 3   Density in KM^2  25 non-null     float64\n",
      " 4   longitude        25 non-null     float64\n",
      " 5   latitude         25 non-null     float64\n",
      "dtypes: float64(5), object(1)\n",
      "memory usage: 1.3+ KB\n"
     ]
    }
   ],
   "source": [
    "P_DF.info()"
   ]
  },
  {
   "cell_type": "code",
   "execution_count": 15,
   "metadata": {},
   "outputs": [
    {
     "data": {
      "text/html": [
       "<div>\n",
       "<style scoped>\n",
       "    .dataframe tbody tr th:only-of-type {\n",
       "        vertical-align: middle;\n",
       "    }\n",
       "\n",
       "    .dataframe tbody tr th {\n",
       "        vertical-align: top;\n",
       "    }\n",
       "\n",
       "    .dataframe thead th {\n",
       "        text-align: right;\n",
       "    }\n",
       "</style>\n",
       "<table border=\"1\" class=\"dataframe\">\n",
       "  <thead>\n",
       "    <tr style=\"text-align: right;\">\n",
       "      <th></th>\n",
       "      <th>population</th>\n",
       "      <th>area in KM^2</th>\n",
       "      <th>Density in KM^2</th>\n",
       "      <th>longitude</th>\n",
       "      <th>latitude</th>\n",
       "    </tr>\n",
       "  </thead>\n",
       "  <tbody>\n",
       "    <tr>\n",
       "      <th>population</th>\n",
       "      <td>1.000000</td>\n",
       "      <td>0.231954</td>\n",
       "      <td>0.022302</td>\n",
       "      <td>0.118568</td>\n",
       "      <td>-0.074765</td>\n",
       "    </tr>\n",
       "    <tr>\n",
       "      <th>area in KM^2</th>\n",
       "      <td>0.231954</td>\n",
       "      <td>1.000000</td>\n",
       "      <td>0.265127</td>\n",
       "      <td>0.097404</td>\n",
       "      <td>0.124085</td>\n",
       "    </tr>\n",
       "    <tr>\n",
       "      <th>Density in KM^2</th>\n",
       "      <td>0.022302</td>\n",
       "      <td>0.265127</td>\n",
       "      <td>1.000000</td>\n",
       "      <td>0.042620</td>\n",
       "      <td>0.045557</td>\n",
       "    </tr>\n",
       "    <tr>\n",
       "      <th>longitude</th>\n",
       "      <td>0.118568</td>\n",
       "      <td>0.097404</td>\n",
       "      <td>0.042620</td>\n",
       "      <td>1.000000</td>\n",
       "      <td>-0.492858</td>\n",
       "    </tr>\n",
       "    <tr>\n",
       "      <th>latitude</th>\n",
       "      <td>-0.074765</td>\n",
       "      <td>0.124085</td>\n",
       "      <td>0.045557</td>\n",
       "      <td>-0.492858</td>\n",
       "      <td>1.000000</td>\n",
       "    </tr>\n",
       "  </tbody>\n",
       "</table>\n",
       "</div>"
      ],
      "text/plain": [
       "                 population  area in KM^2  Density in KM^2  longitude  \\\n",
       "population         1.000000      0.231954         0.022302   0.118568   \n",
       "area in KM^2       0.231954      1.000000         0.265127   0.097404   \n",
       "Density in KM^2    0.022302      0.265127         1.000000   0.042620   \n",
       "longitude          0.118568      0.097404         0.042620   1.000000   \n",
       "latitude          -0.074765      0.124085         0.045557  -0.492858   \n",
       "\n",
       "                 latitude  \n",
       "population      -0.074765  \n",
       "area in KM^2     0.124085  \n",
       "Density in KM^2  0.045557  \n",
       "longitude       -0.492858  \n",
       "latitude         1.000000  "
      ]
     },
     "execution_count": 15,
     "metadata": {},
     "output_type": "execute_result"
    }
   ],
   "source": [
    "P_DF.corr(method='pearson')"
   ]
  },
  {
   "cell_type": "markdown",
   "metadata": {},
   "source": [
    "### 3. Methodolgy"
   ]
  },
  {
   "cell_type": "markdown",
   "metadata": {},
   "source": [
    "In order to assist in the analysis, I will use the '*'free services provided by Open Cage Geocode module (https://opencagedata.com/) to get the latitude and longitude of cities, districts, particular venues or neighborhoods. i have already imported geocode module in the begeinning of the paragraph."
   ]
  },
  {
   "cell_type": "code",
   "execution_count": 16,
   "metadata": {},
   "outputs": [
    {
     "data": {
      "text/plain": [
       "<folium.features.GeoJson at 0x24c1dd57070>"
      ]
     },
     "execution_count": 16,
     "metadata": {},
     "output_type": "execute_result"
    }
   ],
   "source": [
    "turkey_map = folium.Map([39.7334, 32.8597], zoom_start=10)\n",
    "f = open(\"tr-cities.json\")\n",
    "data = json.load(f)\n",
    "data[\"features\"] = [data[\"features\"][6]]\n",
    "folium.GeoJson(data).add_to(turkey_map)"
   ]
  },
  {
   "cell_type": "markdown",
   "metadata": {},
   "source": [
    "We then need to know how to get a map of the city that we are interested in (i.e. Ankara) in order to present our data to the stakeholders using a 'Visualization' approach. We have downloaded all the required dependencies earlier in the report, and now we are ready to use the FOLIUM API service as described in the folIowing section. we will start by making a loop by plotting the marker of every hospital and province from the data into the turkey map I already created."
   ]
  },
  {
   "cell_type": "code",
   "execution_count": 17,
   "metadata": {},
   "outputs": [
    {
     "data": {
      "text/html": [
       "<div style=\"width:100%;\"><div style=\"position:relative;width:100%;height:0;padding-bottom:60%;\"><span style=\"color:#565656\">Make this Notebook Trusted to load map: File -> Trust Notebook</span><iframe src=\"about:blank\" style=\"position:absolute;width:100%;height:100%;left:0;top:0;border:none !important;\" data-html=%3C%21DOCTYPE%20html%3E%0A%3Chead%3E%20%20%20%20%0A%20%20%20%20%3Cmeta%20http-equiv%3D%22content-type%22%20content%3D%22text/html%3B%20charset%3DUTF-8%22%20/%3E%0A%20%20%20%20%0A%20%20%20%20%20%20%20%20%3Cscript%3E%0A%20%20%20%20%20%20%20%20%20%20%20%20L_NO_TOUCH%20%3D%20false%3B%0A%20%20%20%20%20%20%20%20%20%20%20%20L_DISABLE_3D%20%3D%20false%3B%0A%20%20%20%20%20%20%20%20%3C/script%3E%0A%20%20%20%20%0A%20%20%20%20%3Cstyle%3Ehtml%2C%20body%20%7Bwidth%3A%20100%25%3Bheight%3A%20100%25%3Bmargin%3A%200%3Bpadding%3A%200%3B%7D%3C/style%3E%0A%20%20%20%20%3Cstyle%3E%23map%20%7Bposition%3Aabsolute%3Btop%3A0%3Bbottom%3A0%3Bright%3A0%3Bleft%3A0%3B%7D%3C/style%3E%0A%20%20%20%20%3Cscript%20src%3D%22https%3A//cdn.jsdelivr.net/npm/leaflet%401.6.0/dist/leaflet.js%22%3E%3C/script%3E%0A%20%20%20%20%3Cscript%20src%3D%22https%3A//code.jquery.com/jquery-1.12.4.min.js%22%3E%3C/script%3E%0A%20%20%20%20%3Cscript%20src%3D%22https%3A//maxcdn.bootstrapcdn.com/bootstrap/3.2.0/js/bootstrap.min.js%22%3E%3C/script%3E%0A%20%20%20%20%3Cscript%20src%3D%22https%3A//cdnjs.cloudflare.com/ajax/libs/Leaflet.awesome-markers/2.0.2/leaflet.awesome-markers.js%22%3E%3C/script%3E%0A%20%20%20%20%3Clink%20rel%3D%22stylesheet%22%20href%3D%22https%3A//cdn.jsdelivr.net/npm/leaflet%401.6.0/dist/leaflet.css%22/%3E%0A%20%20%20%20%3Clink%20rel%3D%22stylesheet%22%20href%3D%22https%3A//maxcdn.bootstrapcdn.com/bootstrap/3.2.0/css/bootstrap.min.css%22/%3E%0A%20%20%20%20%3Clink%20rel%3D%22stylesheet%22%20href%3D%22https%3A//maxcdn.bootstrapcdn.com/bootstrap/3.2.0/css/bootstrap-theme.min.css%22/%3E%0A%20%20%20%20%3Clink%20rel%3D%22stylesheet%22%20href%3D%22https%3A//maxcdn.bootstrapcdn.com/font-awesome/4.6.3/css/font-awesome.min.css%22/%3E%0A%20%20%20%20%3Clink%20rel%3D%22stylesheet%22%20href%3D%22https%3A//cdnjs.cloudflare.com/ajax/libs/Leaflet.awesome-markers/2.0.2/leaflet.awesome-markers.css%22/%3E%0A%20%20%20%20%3Clink%20rel%3D%22stylesheet%22%20href%3D%22https%3A//cdn.jsdelivr.net/gh/python-visualization/folium/folium/templates/leaflet.awesome.rotate.min.css%22/%3E%0A%20%20%20%20%0A%20%20%20%20%20%20%20%20%20%20%20%20%3Cmeta%20name%3D%22viewport%22%20content%3D%22width%3Ddevice-width%2C%0A%20%20%20%20%20%20%20%20%20%20%20%20%20%20%20%20initial-scale%3D1.0%2C%20maximum-scale%3D1.0%2C%20user-scalable%3Dno%22%20/%3E%0A%20%20%20%20%20%20%20%20%20%20%20%20%3Cstyle%3E%0A%20%20%20%20%20%20%20%20%20%20%20%20%20%20%20%20%23map_873c7bf2610947a59b02631752d014e4%20%7B%0A%20%20%20%20%20%20%20%20%20%20%20%20%20%20%20%20%20%20%20%20position%3A%20relative%3B%0A%20%20%20%20%20%20%20%20%20%20%20%20%20%20%20%20%20%20%20%20width%3A%20100.0%25%3B%0A%20%20%20%20%20%20%20%20%20%20%20%20%20%20%20%20%20%20%20%20height%3A%20100.0%25%3B%0A%20%20%20%20%20%20%20%20%20%20%20%20%20%20%20%20%20%20%20%20left%3A%200.0%25%3B%0A%20%20%20%20%20%20%20%20%20%20%20%20%20%20%20%20%20%20%20%20top%3A%200.0%25%3B%0A%20%20%20%20%20%20%20%20%20%20%20%20%20%20%20%20%7D%0A%20%20%20%20%20%20%20%20%20%20%20%20%3C/style%3E%0A%20%20%20%20%20%20%20%20%0A%3C/head%3E%0A%3Cbody%3E%20%20%20%20%0A%20%20%20%20%0A%20%20%20%20%20%20%20%20%20%20%20%20%3Cdiv%20class%3D%22folium-map%22%20id%3D%22map_873c7bf2610947a59b02631752d014e4%22%20%3E%3C/div%3E%0A%20%20%20%20%20%20%20%20%0A%3C/body%3E%0A%3Cscript%3E%20%20%20%20%0A%20%20%20%20%0A%20%20%20%20%20%20%20%20%20%20%20%20var%20map_873c7bf2610947a59b02631752d014e4%20%3D%20L.map%28%0A%20%20%20%20%20%20%20%20%20%20%20%20%20%20%20%20%22map_873c7bf2610947a59b02631752d014e4%22%2C%0A%20%20%20%20%20%20%20%20%20%20%20%20%20%20%20%20%7B%0A%20%20%20%20%20%20%20%20%20%20%20%20%20%20%20%20%20%20%20%20center%3A%20%5B39.925533%2C%2032.866287%5D%2C%0A%20%20%20%20%20%20%20%20%20%20%20%20%20%20%20%20%20%20%20%20crs%3A%20L.CRS.EPSG3857%2C%0A%20%20%20%20%20%20%20%20%20%20%20%20%20%20%20%20%20%20%20%20zoom%3A%2011%2C%0A%20%20%20%20%20%20%20%20%20%20%20%20%20%20%20%20%20%20%20%20zoomControl%3A%20true%2C%0A%20%20%20%20%20%20%20%20%20%20%20%20%20%20%20%20%20%20%20%20preferCanvas%3A%20false%2C%0A%20%20%20%20%20%20%20%20%20%20%20%20%20%20%20%20%7D%0A%20%20%20%20%20%20%20%20%20%20%20%20%29%3B%0A%0A%20%20%20%20%20%20%20%20%20%20%20%20%0A%0A%20%20%20%20%20%20%20%20%0A%20%20%20%20%0A%20%20%20%20%20%20%20%20%20%20%20%20var%20tile_layer_bca4e5b548534305ae10a8fa3a9a11b7%20%3D%20L.tileLayer%28%0A%20%20%20%20%20%20%20%20%20%20%20%20%20%20%20%20%22https%3A//%7Bs%7D.tile.openstreetmap.org/%7Bz%7D/%7Bx%7D/%7By%7D.png%22%2C%0A%20%20%20%20%20%20%20%20%20%20%20%20%20%20%20%20%7B%22attribution%22%3A%20%22Data%20by%20%5Cu0026copy%3B%20%5Cu003ca%20href%3D%5C%22http%3A//openstreetmap.org%5C%22%5Cu003eOpenStreetMap%5Cu003c/a%5Cu003e%2C%20under%20%5Cu003ca%20href%3D%5C%22http%3A//www.openstreetmap.org/copyright%5C%22%5Cu003eODbL%5Cu003c/a%5Cu003e.%22%2C%20%22detectRetina%22%3A%20false%2C%20%22maxNativeZoom%22%3A%2018%2C%20%22maxZoom%22%3A%2018%2C%20%22minZoom%22%3A%200%2C%20%22noWrap%22%3A%20false%2C%20%22opacity%22%3A%201%2C%20%22subdomains%22%3A%20%22abc%22%2C%20%22tms%22%3A%20false%7D%0A%20%20%20%20%20%20%20%20%20%20%20%20%29.addTo%28map_873c7bf2610947a59b02631752d014e4%29%3B%0A%20%20%20%20%20%20%20%20%0A%3C/script%3E onload=\"this.contentDocument.open();this.contentDocument.write(    decodeURIComponent(this.getAttribute('data-html')));this.contentDocument.close();\" allowfullscreen webkitallowfullscreen mozallowfullscreen></iframe></div></div>"
      ],
      "text/plain": [
       "<folium.folium.Map at 0x24c23e1af10>"
      ]
     },
     "execution_count": 17,
     "metadata": {},
     "output_type": "execute_result"
    }
   ],
   "source": [
    "turkey_map_t = folium.Map([ 39.925533, 32.866287], zoom_start=11, tiles='openstreetmap')\n",
    "f = open(\"tr-cities.json\")\n",
    "data = json.load(f)\n",
    "data[\"features\"] = [data[\"features\"][6]]\n",
    "folium.GeoJson(data).add_to(turkey_map)\n",
    "turkey_map_t"
   ]
  },
  {
   "cell_type": "code",
   "execution_count": 18,
   "metadata": {},
   "outputs": [],
   "source": [
    "\n",
    "\n",
    "myurl = \"https://en.wikipedia.org/wiki/List_of_hospitals_in_Ankara_Province\"\n",
    "\n",
    "###### grapbs the page\n",
    "uclient = uReq(myurl)\n",
    "page_html = uclient.read()\n",
    "uclient.close()\n",
    "page_BS = BS(page_html, \"html.parser\")\n",
    "\n",
    "container = page_BS.find_all(\"div\", {\"id\": \"content\"})[0]\n",
    "container2 = container.find_all(\"div\", {\"id\": \"bodyContent\"})[0]\n",
    "container3 = container2.find_all(\"div\", {\"id\": \"mw-content-text\"})[0]\n",
    "container4 = container3.find_all(\"ul\")[1]\n",
    "container5 = container4.find_all(\"li\")\n",
    "\n",
    "list_of_hospital_names = []\n",
    "\n",
    "for x in range(len(container5)):\n",
    "    address = container4.find_all(\"li\")[x].text\n",
    "    list_of_hospital_names.append(address)\n",
    "\n",
    "nlist_of_hospital_names = []\n",
    "\n",
    "for hospital in list_of_hospital_names:\n",
    "    if \"(\" in hospital:\n",
    "        nhospital = hospital[:hospital.index(\"(\")]\n",
    "        list_of_hospital_names[list_of_hospital_names.index(\n",
    "            hospital)] = nhospital\n",
    "    elif \"/\" in hospital:\n",
    "        nhospital = hospital[:hospital.index(\"/\")]\n",
    "        list_of_hospital_names[list_of_hospital_names.index(\n",
    "            hospital)] = nhospital\n",
    "    elif \",\" in hospital:\n",
    "        nhospital = hospital.replace(\",\", )\n",
    "        list_of_hospital_names[list_of_hospital_names.index(\n",
    "            hospital)] = nhospital\n",
    "    else:\n",
    "        pass\n",
    "\n",
    "hospital_Dict = {\"hospital name\": [], \"longitude\": [], \"latitude\": []}\n",
    "longitude = []\n",
    "latitude = []\n",
    "hospitla_name = []\n",
    "\n",
    "\n",
    "#creating a for loop to get coordinates\n",
    "\n",
    "geolocator = Nominatim(user_agent=\"raihanhabibi2002@gmail.com\")\n",
    "\n",
    "for h in list_of_hospital_names:\n",
    "    geocode = partial(geolocator.geocode, language=\"es\")\n",
    "    location = geolocator.geocode(str(h))\n",
    "\n",
    "    try:\n",
    "        longitude.append(location.longitude)\n",
    "        latitude.append(location.latitude)\n",
    "        hospitla_name.append(\n",
    "            list_of_hospital_names[list_of_hospital_names.index(h)])\n",
    "    except:\n",
    "        pass\n",
    "\n",
    "hospital_Dict[\"hospital name\"] = hospitla_name\n",
    "hospital_Dict[\"longitude\"] = longitude\n",
    "hospital_Dict[\"latitude\"] = latitude\n",
    "\n",
    "#mw-content-text > bodyContent > content\n",
    "\n",
    "test1 = page_BS.find(\"div\", {\"id\": \"content\"})\n",
    "\n",
    "test2 = test1.find(\"div\", {\"id\": \"bodyContent\"})\n",
    "\n",
    "test3 = test2.find(\"div\", {\"id\": \"mw-content-text\"})\n",
    "\n",
    "hospital_list = test3.find_all(\"ul\")\n",
    "\n",
    "private_hos = hospital_list[6]\n",
    "\n",
    "list_private_hos = private_hos.find_all(\"li\")\n",
    "\n",
    "filtered_hospital = []\n",
    "\n",
    "for unfiltered_hospital in list_private_hos:\n",
    "    filtered_hospital.append(unfiltered_hospital.text)\n",
    "\n",
    "filter_hos = []\n",
    "long_private = []\n",
    "lat_private = []\n",
    "\n",
    "for hospital in filtered_hospital:\n",
    "    geocode = partial(geolocator.geocode, language=\"es\")\n",
    "    location = geolocator.geocode(str(hospital))\n",
    "\n",
    "    try:\n",
    "        long_private.append(location.longitude)\n",
    "        lat_private.append(location.latitude)\n",
    "        filter_hos.append(\n",
    "            filtered_hospital[filtered_hospital.index(hospital)])\n",
    "    except:\n",
    "        pass\n",
    "\n",
    "hospital_Dict[\"hospital name\"] += filter_hos\n",
    "hospital_Dict[\"longitude\"] += long_private\n",
    "hospital_Dict[\"latitude\"] += lat_private\n",
    "\n",
    "HDF = pd.DataFrame(hospital_Dict)"
   ]
  },
  {
   "cell_type": "code",
   "execution_count": 19,
   "metadata": {},
   "outputs": [
    {
     "data": {
      "text/html": [
       "<div>\n",
       "<style scoped>\n",
       "    .dataframe tbody tr th:only-of-type {\n",
       "        vertical-align: middle;\n",
       "    }\n",
       "\n",
       "    .dataframe tbody tr th {\n",
       "        vertical-align: top;\n",
       "    }\n",
       "\n",
       "    .dataframe thead th {\n",
       "        text-align: right;\n",
       "    }\n",
       "</style>\n",
       "<table border=\"1\" class=\"dataframe\">\n",
       "  <thead>\n",
       "    <tr style=\"text-align: right;\">\n",
       "      <th></th>\n",
       "      <th>hospital name</th>\n",
       "      <th>longitude</th>\n",
       "      <th>latitude</th>\n",
       "    </tr>\n",
       "  </thead>\n",
       "  <tbody>\n",
       "    <tr>\n",
       "      <th>0</th>\n",
       "      <td>Ankara Egitim Ve Arastirma Hastanesi</td>\n",
       "      <td>32.875750</td>\n",
       "      <td>39.937038</td>\n",
       "    </tr>\n",
       "    <tr>\n",
       "      <th>1</th>\n",
       "      <td>Ankara Fizik Tedavi Ve Rehabilitasyon Merkezi</td>\n",
       "      <td>32.845221</td>\n",
       "      <td>39.930549</td>\n",
       "    </tr>\n",
       "    <tr>\n",
       "      <th>2</th>\n",
       "      <td>Ankara Numune Hastanesi</td>\n",
       "      <td>32.852426</td>\n",
       "      <td>39.926589</td>\n",
       "    </tr>\n",
       "    <tr>\n",
       "      <th>3</th>\n",
       "      <td>Ankara Onkoloji Hastanesi</td>\n",
       "      <td>32.863429</td>\n",
       "      <td>39.922899</td>\n",
       "    </tr>\n",
       "    <tr>\n",
       "      <th>4</th>\n",
       "      <td>Atatürk Araştırma Hastanesi</td>\n",
       "      <td>27.006971</td>\n",
       "      <td>38.394105</td>\n",
       "    </tr>\n",
       "    <tr>\n",
       "      <th>5</th>\n",
       "      <td>Türkiye Yüksek İhtisas Hastanesi</td>\n",
       "      <td>33.482254</td>\n",
       "      <td>39.862116</td>\n",
       "    </tr>\n",
       "    <tr>\n",
       "      <th>6</th>\n",
       "      <td>Ankara Meslek Hastanesi</td>\n",
       "      <td>32.861092</td>\n",
       "      <td>40.007921</td>\n",
       "    </tr>\n",
       "    <tr>\n",
       "      <th>7</th>\n",
       "      <td>ÇANKAYA HASTANESİ</td>\n",
       "      <td>32.863317</td>\n",
       "      <td>39.904796</td>\n",
       "    </tr>\n",
       "    <tr>\n",
       "      <th>8</th>\n",
       "      <td>ÖZEL AKAY HASTANESİ</td>\n",
       "      <td>32.857768</td>\n",
       "      <td>39.912589</td>\n",
       "    </tr>\n",
       "    <tr>\n",
       "      <th>9</th>\n",
       "      <td>ÖZEL BAYINDIR HASTANESİ</td>\n",
       "      <td>37.332104</td>\n",
       "      <td>37.047778</td>\n",
       "    </tr>\n",
       "    <tr>\n",
       "      <th>10</th>\n",
       "      <td>ÖZEL BİLGİ HASTANESİ</td>\n",
       "      <td>32.506646</td>\n",
       "      <td>37.877569</td>\n",
       "    </tr>\n",
       "    <tr>\n",
       "      <th>11</th>\n",
       "      <td>ÖZEL ERYAMAN HASTANESİ</td>\n",
       "      <td>32.652337</td>\n",
       "      <td>39.971779</td>\n",
       "    </tr>\n",
       "    <tr>\n",
       "      <th>12</th>\n",
       "      <td>ÖZEL ETİMED HASTANESI</td>\n",
       "      <td>32.628211</td>\n",
       "      <td>39.953771</td>\n",
       "    </tr>\n",
       "    <tr>\n",
       "      <th>13</th>\n",
       "      <td>ÖZEL KEÇİÖREN HASTANESİ</td>\n",
       "      <td>32.873559</td>\n",
       "      <td>40.002210</td>\n",
       "    </tr>\n",
       "    <tr>\n",
       "      <th>14</th>\n",
       "      <td>ÖZEL ORTADOĞU HASTANESİ</td>\n",
       "      <td>35.325559</td>\n",
       "      <td>37.014033</td>\n",
       "    </tr>\n",
       "  </tbody>\n",
       "</table>\n",
       "</div>"
      ],
      "text/plain": [
       "                                     hospital name  longitude   latitude\n",
       "0            Ankara Egitim Ve Arastirma Hastanesi   32.875750  39.937038\n",
       "1   Ankara Fizik Tedavi Ve Rehabilitasyon Merkezi   32.845221  39.930549\n",
       "2                         Ankara Numune Hastanesi   32.852426  39.926589\n",
       "3                       Ankara Onkoloji Hastanesi   32.863429  39.922899\n",
       "4                     Atatürk Araştırma Hastanesi   27.006971  38.394105\n",
       "5                Türkiye Yüksek İhtisas Hastanesi   33.482254  39.862116\n",
       "6                         Ankara Meslek Hastanesi   32.861092  40.007921\n",
       "7                                ÇANKAYA HASTANESİ  32.863317  39.904796\n",
       "8                              ÖZEL AKAY HASTANESİ  32.857768  39.912589\n",
       "9                          ÖZEL BAYINDIR HASTANESİ  37.332104  37.047778\n",
       "10                            ÖZEL BİLGİ HASTANESİ  32.506646  37.877569\n",
       "11                          ÖZEL ERYAMAN HASTANESİ  32.652337  39.971779\n",
       "12                           ÖZEL ETİMED HASTANESI  32.628211  39.953771\n",
       "13                         ÖZEL KEÇİÖREN HASTANESİ  32.873559  40.002210\n",
       "14                         ÖZEL ORTADOĞU HASTANESİ  35.325559  37.014033"
      ]
     },
     "execution_count": 19,
     "metadata": {},
     "output_type": "execute_result"
    }
   ],
   "source": [
    "HDF"
   ]
  },
  {
   "cell_type": "code",
   "execution_count": 20,
   "metadata": {},
   "outputs": [],
   "source": [
    "for i in range(0,len(HDF)):\n",
    "    folium.Marker(location=[HDF.iloc[i]['latitude'], HDF.iloc[i]['longitude']], popup=HDF.iloc[i]['hospital name']).add_to(turkey_map_t)\n",
    "\n",
    "for i in range(0,len(P_DF)):\n",
    "    folium.Marker(location=[P_DF.iloc[i]['latitude'], P_DF.iloc[i]['longitude']], popup=P_DF.iloc[i]['province name'], icon=folium.Icon(color='red')).add_to(turkey_map_t)"
   ]
  },
  {
   "cell_type": "markdown",
   "metadata": {},
   "source": [
    "The map shows upclose the main outer ring roads surrounding the city of Ankara, we want to propose a strategic location (i.e. neighborhood) for the investing group within the Ankara governmental area."
   ]
  },
  {
   "cell_type": "markdown",
   "metadata": {},
   "source": [
    "### 4. Results"
   ]
  },
  {
   "cell_type": "code",
   "execution_count": 21,
   "metadata": {},
   "outputs": [],
   "source": [
    "for i in range(0,len(P_DF)):\n",
    "   folium.CircleMarker(\n",
    "      location=[P_DF.iloc[i]['latitude'], P_DF.iloc[i]['longitude']],\n",
    "      popup=P_DF.iloc[i]['province name'],\n",
    "      radius=float(float(P_DF.iloc[i]['population'])/ 10),\n",
    "      color='#69b3a2',\n",
    "      fill=True,\n",
    "      fill_color='#69b3a2', inplace = True\n",
    "   ).add_to(turkey_map_t)\n",
    "\n",
    "for i in range(0,len(HDF)):\n",
    "    folium.Marker(location=[HDF.iloc[i]['latitude'], HDF.iloc[i]['longitude']], popup=HDF.iloc[i]['hospital name']).add_to(turkey_map_t)\n"
   ]
  },
  {
   "cell_type": "code",
   "execution_count": 22,
   "metadata": {},
   "outputs": [
    {
     "data": {
      "text/html": [
       "<div style=\"width:100%;\"><div style=\"position:relative;width:100%;height:0;padding-bottom:60%;\"><span style=\"color:#565656\">Make this Notebook Trusted to load map: File -> Trust Notebook</span><iframe src=\"about:blank\" style=\"position:absolute;width:100%;height:100%;left:0;top:0;border:none !important;\" data-html=%3C%21DOCTYPE%20html%3E%0A%3Chead%3E%20%20%20%20%0A%20%20%20%20%3Cmeta%20http-equiv%3D%22content-type%22%20content%3D%22text/html%3B%20charset%3DUTF-8%22%20/%3E%0A%20%20%20%20%0A%20%20%20%20%20%20%20%20%3Cscript%3E%0A%20%20%20%20%20%20%20%20%20%20%20%20L_NO_TOUCH%20%3D%20false%3B%0A%20%20%20%20%20%20%20%20%20%20%20%20L_DISABLE_3D%20%3D%20false%3B%0A%20%20%20%20%20%20%20%20%3C/script%3E%0A%20%20%20%20%0A%20%20%20%20%3Cstyle%3Ehtml%2C%20body%20%7Bwidth%3A%20100%25%3Bheight%3A%20100%25%3Bmargin%3A%200%3Bpadding%3A%200%3B%7D%3C/style%3E%0A%20%20%20%20%3Cstyle%3E%23map%20%7Bposition%3Aabsolute%3Btop%3A0%3Bbottom%3A0%3Bright%3A0%3Bleft%3A0%3B%7D%3C/style%3E%0A%20%20%20%20%3Cscript%20src%3D%22https%3A//cdn.jsdelivr.net/npm/leaflet%401.6.0/dist/leaflet.js%22%3E%3C/script%3E%0A%20%20%20%20%3Cscript%20src%3D%22https%3A//code.jquery.com/jquery-1.12.4.min.js%22%3E%3C/script%3E%0A%20%20%20%20%3Cscript%20src%3D%22https%3A//maxcdn.bootstrapcdn.com/bootstrap/3.2.0/js/bootstrap.min.js%22%3E%3C/script%3E%0A%20%20%20%20%3Cscript%20src%3D%22https%3A//cdnjs.cloudflare.com/ajax/libs/Leaflet.awesome-markers/2.0.2/leaflet.awesome-markers.js%22%3E%3C/script%3E%0A%20%20%20%20%3Clink%20rel%3D%22stylesheet%22%20href%3D%22https%3A//cdn.jsdelivr.net/npm/leaflet%401.6.0/dist/leaflet.css%22/%3E%0A%20%20%20%20%3Clink%20rel%3D%22stylesheet%22%20href%3D%22https%3A//maxcdn.bootstrapcdn.com/bootstrap/3.2.0/css/bootstrap.min.css%22/%3E%0A%20%20%20%20%3Clink%20rel%3D%22stylesheet%22%20href%3D%22https%3A//maxcdn.bootstrapcdn.com/bootstrap/3.2.0/css/bootstrap-theme.min.css%22/%3E%0A%20%20%20%20%3Clink%20rel%3D%22stylesheet%22%20href%3D%22https%3A//maxcdn.bootstrapcdn.com/font-awesome/4.6.3/css/font-awesome.min.css%22/%3E%0A%20%20%20%20%3Clink%20rel%3D%22stylesheet%22%20href%3D%22https%3A//cdnjs.cloudflare.com/ajax/libs/Leaflet.awesome-markers/2.0.2/leaflet.awesome-markers.css%22/%3E%0A%20%20%20%20%3Clink%20rel%3D%22stylesheet%22%20href%3D%22https%3A//cdn.jsdelivr.net/gh/python-visualization/folium/folium/templates/leaflet.awesome.rotate.min.css%22/%3E%0A%20%20%20%20%0A%20%20%20%20%20%20%20%20%20%20%20%20%3Cmeta%20name%3D%22viewport%22%20content%3D%22width%3Ddevice-width%2C%0A%20%20%20%20%20%20%20%20%20%20%20%20%20%20%20%20initial-scale%3D1.0%2C%20maximum-scale%3D1.0%2C%20user-scalable%3Dno%22%20/%3E%0A%20%20%20%20%20%20%20%20%20%20%20%20%3Cstyle%3E%0A%20%20%20%20%20%20%20%20%20%20%20%20%20%20%20%20%23map_873c7bf2610947a59b02631752d014e4%20%7B%0A%20%20%20%20%20%20%20%20%20%20%20%20%20%20%20%20%20%20%20%20position%3A%20relative%3B%0A%20%20%20%20%20%20%20%20%20%20%20%20%20%20%20%20%20%20%20%20width%3A%20100.0%25%3B%0A%20%20%20%20%20%20%20%20%20%20%20%20%20%20%20%20%20%20%20%20height%3A%20100.0%25%3B%0A%20%20%20%20%20%20%20%20%20%20%20%20%20%20%20%20%20%20%20%20left%3A%200.0%25%3B%0A%20%20%20%20%20%20%20%20%20%20%20%20%20%20%20%20%20%20%20%20top%3A%200.0%25%3B%0A%20%20%20%20%20%20%20%20%20%20%20%20%20%20%20%20%7D%0A%20%20%20%20%20%20%20%20%20%20%20%20%3C/style%3E%0A%20%20%20%20%20%20%20%20%0A%3C/head%3E%0A%3Cbody%3E%20%20%20%20%0A%20%20%20%20%0A%20%20%20%20%20%20%20%20%20%20%20%20%3Cdiv%20class%3D%22folium-map%22%20id%3D%22map_873c7bf2610947a59b02631752d014e4%22%20%3E%3C/div%3E%0A%20%20%20%20%20%20%20%20%0A%3C/body%3E%0A%3Cscript%3E%20%20%20%20%0A%20%20%20%20%0A%20%20%20%20%20%20%20%20%20%20%20%20var%20map_873c7bf2610947a59b02631752d014e4%20%3D%20L.map%28%0A%20%20%20%20%20%20%20%20%20%20%20%20%20%20%20%20%22map_873c7bf2610947a59b02631752d014e4%22%2C%0A%20%20%20%20%20%20%20%20%20%20%20%20%20%20%20%20%7B%0A%20%20%20%20%20%20%20%20%20%20%20%20%20%20%20%20%20%20%20%20center%3A%20%5B39.925533%2C%2032.866287%5D%2C%0A%20%20%20%20%20%20%20%20%20%20%20%20%20%20%20%20%20%20%20%20crs%3A%20L.CRS.EPSG3857%2C%0A%20%20%20%20%20%20%20%20%20%20%20%20%20%20%20%20%20%20%20%20zoom%3A%2011%2C%0A%20%20%20%20%20%20%20%20%20%20%20%20%20%20%20%20%20%20%20%20zoomControl%3A%20true%2C%0A%20%20%20%20%20%20%20%20%20%20%20%20%20%20%20%20%20%20%20%20preferCanvas%3A%20false%2C%0A%20%20%20%20%20%20%20%20%20%20%20%20%20%20%20%20%7D%0A%20%20%20%20%20%20%20%20%20%20%20%20%29%3B%0A%0A%20%20%20%20%20%20%20%20%20%20%20%20%0A%0A%20%20%20%20%20%20%20%20%0A%20%20%20%20%0A%20%20%20%20%20%20%20%20%20%20%20%20var%20tile_layer_bca4e5b548534305ae10a8fa3a9a11b7%20%3D%20L.tileLayer%28%0A%20%20%20%20%20%20%20%20%20%20%20%20%20%20%20%20%22https%3A//%7Bs%7D.tile.openstreetmap.org/%7Bz%7D/%7Bx%7D/%7By%7D.png%22%2C%0A%20%20%20%20%20%20%20%20%20%20%20%20%20%20%20%20%7B%22attribution%22%3A%20%22Data%20by%20%5Cu0026copy%3B%20%5Cu003ca%20href%3D%5C%22http%3A//openstreetmap.org%5C%22%5Cu003eOpenStreetMap%5Cu003c/a%5Cu003e%2C%20under%20%5Cu003ca%20href%3D%5C%22http%3A//www.openstreetmap.org/copyright%5C%22%5Cu003eODbL%5Cu003c/a%5Cu003e.%22%2C%20%22detectRetina%22%3A%20false%2C%20%22maxNativeZoom%22%3A%2018%2C%20%22maxZoom%22%3A%2018%2C%20%22minZoom%22%3A%200%2C%20%22noWrap%22%3A%20false%2C%20%22opacity%22%3A%201%2C%20%22subdomains%22%3A%20%22abc%22%2C%20%22tms%22%3A%20false%7D%0A%20%20%20%20%20%20%20%20%20%20%20%20%29.addTo%28map_873c7bf2610947a59b02631752d014e4%29%3B%0A%20%20%20%20%20%20%20%20%0A%20%20%20%20%0A%20%20%20%20%20%20%20%20%20%20%20%20var%20marker_1c85fc2b1c0a4bb997a7613e7adc5167%20%3D%20L.marker%28%0A%20%20%20%20%20%20%20%20%20%20%20%20%20%20%20%20%5B39.93703755%2C%2032.875750300840544%5D%2C%0A%20%20%20%20%20%20%20%20%20%20%20%20%20%20%20%20%7B%7D%0A%20%20%20%20%20%20%20%20%20%20%20%20%29.addTo%28map_873c7bf2610947a59b02631752d014e4%29%3B%0A%20%20%20%20%20%20%20%20%0A%20%20%20%20%0A%20%20%20%20%20%20%20%20var%20popup_c1a75ec54d3c4af297c935166f100d0a%20%3D%20L.popup%28%7B%22maxWidth%22%3A%20%22100%25%22%7D%29%3B%0A%0A%20%20%20%20%20%20%20%20%0A%20%20%20%20%20%20%20%20%20%20%20%20var%20html_7b4b7fbce4174456991babd534a4510f%20%3D%20%24%28%60%3Cdiv%20id%3D%22html_7b4b7fbce4174456991babd534a4510f%22%20style%3D%22width%3A%20100.0%25%3B%20height%3A%20100.0%25%3B%22%3EAnkara%20Egitim%20Ve%20Arastirma%20Hastanesi%20%3C/div%3E%60%29%5B0%5D%3B%0A%20%20%20%20%20%20%20%20%20%20%20%20popup_c1a75ec54d3c4af297c935166f100d0a.setContent%28html_7b4b7fbce4174456991babd534a4510f%29%3B%0A%20%20%20%20%20%20%20%20%0A%0A%20%20%20%20%20%20%20%20marker_1c85fc2b1c0a4bb997a7613e7adc5167.bindPopup%28popup_c1a75ec54d3c4af297c935166f100d0a%29%0A%20%20%20%20%20%20%20%20%3B%0A%0A%20%20%20%20%20%20%20%20%0A%20%20%20%20%0A%20%20%20%20%0A%20%20%20%20%20%20%20%20%20%20%20%20var%20marker_dd3d794dc8284d9d8b1caeab8a87ba28%20%3D%20L.marker%28%0A%20%20%20%20%20%20%20%20%20%20%20%20%20%20%20%20%5B39.9305489%2C%2032.8452211%5D%2C%0A%20%20%20%20%20%20%20%20%20%20%20%20%20%20%20%20%7B%7D%0A%20%20%20%20%20%20%20%20%20%20%20%20%29.addTo%28map_873c7bf2610947a59b02631752d014e4%29%3B%0A%20%20%20%20%20%20%20%20%0A%20%20%20%20%0A%20%20%20%20%20%20%20%20var%20popup_03e0a72e175047788b31352ffcb8d7e4%20%3D%20L.popup%28%7B%22maxWidth%22%3A%20%22100%25%22%7D%29%3B%0A%0A%20%20%20%20%20%20%20%20%0A%20%20%20%20%20%20%20%20%20%20%20%20var%20html_3ee583359aeb40db92d6e57eca36e0ee%20%3D%20%24%28%60%3Cdiv%20id%3D%22html_3ee583359aeb40db92d6e57eca36e0ee%22%20style%3D%22width%3A%20100.0%25%3B%20height%3A%20100.0%25%3B%22%3EAnkara%20Fizik%20Tedavi%20Ve%20Rehabilitasyon%20Merkezi%20%3C/div%3E%60%29%5B0%5D%3B%0A%20%20%20%20%20%20%20%20%20%20%20%20popup_03e0a72e175047788b31352ffcb8d7e4.setContent%28html_3ee583359aeb40db92d6e57eca36e0ee%29%3B%0A%20%20%20%20%20%20%20%20%0A%0A%20%20%20%20%20%20%20%20marker_dd3d794dc8284d9d8b1caeab8a87ba28.bindPopup%28popup_03e0a72e175047788b31352ffcb8d7e4%29%0A%20%20%20%20%20%20%20%20%3B%0A%0A%20%20%20%20%20%20%20%20%0A%20%20%20%20%0A%20%20%20%20%0A%20%20%20%20%20%20%20%20%20%20%20%20var%20marker_7c0b699be5d049739b56be099c514ec4%20%3D%20L.marker%28%0A%20%20%20%20%20%20%20%20%20%20%20%20%20%20%20%20%5B39.926589%2C%2032.852425965762116%5D%2C%0A%20%20%20%20%20%20%20%20%20%20%20%20%20%20%20%20%7B%7D%0A%20%20%20%20%20%20%20%20%20%20%20%20%29.addTo%28map_873c7bf2610947a59b02631752d014e4%29%3B%0A%20%20%20%20%20%20%20%20%0A%20%20%20%20%0A%20%20%20%20%20%20%20%20var%20popup_1d3c38bad74641dda38c86766aa33285%20%3D%20L.popup%28%7B%22maxWidth%22%3A%20%22100%25%22%7D%29%3B%0A%0A%20%20%20%20%20%20%20%20%0A%20%20%20%20%20%20%20%20%20%20%20%20var%20html_d8d79b71c5f94342a639eb6eeb12fa3d%20%3D%20%24%28%60%3Cdiv%20id%3D%22html_d8d79b71c5f94342a639eb6eeb12fa3d%22%20style%3D%22width%3A%20100.0%25%3B%20height%3A%20100.0%25%3B%22%3EAnkara%20Numune%20Hastanesi%20%3C/div%3E%60%29%5B0%5D%3B%0A%20%20%20%20%20%20%20%20%20%20%20%20popup_1d3c38bad74641dda38c86766aa33285.setContent%28html_d8d79b71c5f94342a639eb6eeb12fa3d%29%3B%0A%20%20%20%20%20%20%20%20%0A%0A%20%20%20%20%20%20%20%20marker_7c0b699be5d049739b56be099c514ec4.bindPopup%28popup_1d3c38bad74641dda38c86766aa33285%29%0A%20%20%20%20%20%20%20%20%3B%0A%0A%20%20%20%20%20%20%20%20%0A%20%20%20%20%0A%20%20%20%20%0A%20%20%20%20%20%20%20%20%20%20%20%20var%20marker_42b4aa45db17498a84ad38552610fc11%20%3D%20L.marker%28%0A%20%20%20%20%20%20%20%20%20%20%20%20%20%20%20%20%5B39.9228985%2C%2032.8634291%5D%2C%0A%20%20%20%20%20%20%20%20%20%20%20%20%20%20%20%20%7B%7D%0A%20%20%20%20%20%20%20%20%20%20%20%20%29.addTo%28map_873c7bf2610947a59b02631752d014e4%29%3B%0A%20%20%20%20%20%20%20%20%0A%20%20%20%20%0A%20%20%20%20%20%20%20%20var%20popup_90d7ba980d2c4eb9a0d1bc1859769401%20%3D%20L.popup%28%7B%22maxWidth%22%3A%20%22100%25%22%7D%29%3B%0A%0A%20%20%20%20%20%20%20%20%0A%20%20%20%20%20%20%20%20%20%20%20%20var%20html_58b4b304112544ef9311b0a2ecccc039%20%3D%20%24%28%60%3Cdiv%20id%3D%22html_58b4b304112544ef9311b0a2ecccc039%22%20style%3D%22width%3A%20100.0%25%3B%20height%3A%20100.0%25%3B%22%3EAnkara%20Onkoloji%20Hastanesi%20%3C/div%3E%60%29%5B0%5D%3B%0A%20%20%20%20%20%20%20%20%20%20%20%20popup_90d7ba980d2c4eb9a0d1bc1859769401.setContent%28html_58b4b304112544ef9311b0a2ecccc039%29%3B%0A%20%20%20%20%20%20%20%20%0A%0A%20%20%20%20%20%20%20%20marker_42b4aa45db17498a84ad38552610fc11.bindPopup%28popup_90d7ba980d2c4eb9a0d1bc1859769401%29%0A%20%20%20%20%20%20%20%20%3B%0A%0A%20%20%20%20%20%20%20%20%0A%20%20%20%20%0A%20%20%20%20%0A%20%20%20%20%20%20%20%20%20%20%20%20var%20marker_81847d1e13db4ff4829ffa7d8acabf50%20%3D%20L.marker%28%0A%20%20%20%20%20%20%20%20%20%20%20%20%20%20%20%20%5B38.3941054%2C%2027.006971266377235%5D%2C%0A%20%20%20%20%20%20%20%20%20%20%20%20%20%20%20%20%7B%7D%0A%20%20%20%20%20%20%20%20%20%20%20%20%29.addTo%28map_873c7bf2610947a59b02631752d014e4%29%3B%0A%20%20%20%20%20%20%20%20%0A%20%20%20%20%0A%20%20%20%20%20%20%20%20var%20popup_3d0ffde3e1c14cebb33b9b0329b0903f%20%3D%20L.popup%28%7B%22maxWidth%22%3A%20%22100%25%22%7D%29%3B%0A%0A%20%20%20%20%20%20%20%20%0A%20%20%20%20%20%20%20%20%20%20%20%20var%20html_348b36bce1634f7f921ac508a3cf7422%20%3D%20%24%28%60%3Cdiv%20id%3D%22html_348b36bce1634f7f921ac508a3cf7422%22%20style%3D%22width%3A%20100.0%25%3B%20height%3A%20100.0%25%3B%22%3EAtat%C3%BCrk%20Ara%C5%9Ft%C4%B1rma%20Hastanesi%20%3C/div%3E%60%29%5B0%5D%3B%0A%20%20%20%20%20%20%20%20%20%20%20%20popup_3d0ffde3e1c14cebb33b9b0329b0903f.setContent%28html_348b36bce1634f7f921ac508a3cf7422%29%3B%0A%20%20%20%20%20%20%20%20%0A%0A%20%20%20%20%20%20%20%20marker_81847d1e13db4ff4829ffa7d8acabf50.bindPopup%28popup_3d0ffde3e1c14cebb33b9b0329b0903f%29%0A%20%20%20%20%20%20%20%20%3B%0A%0A%20%20%20%20%20%20%20%20%0A%20%20%20%20%0A%20%20%20%20%0A%20%20%20%20%20%20%20%20%20%20%20%20var%20marker_6e835fe88ccf4521b3eb30cbdfd09de9%20%3D%20L.marker%28%0A%20%20%20%20%20%20%20%20%20%20%20%20%20%20%20%20%5B39.86211575%2C%2033.482253790918136%5D%2C%0A%20%20%20%20%20%20%20%20%20%20%20%20%20%20%20%20%7B%7D%0A%20%20%20%20%20%20%20%20%20%20%20%20%29.addTo%28map_873c7bf2610947a59b02631752d014e4%29%3B%0A%20%20%20%20%20%20%20%20%0A%20%20%20%20%0A%20%20%20%20%20%20%20%20var%20popup_9fc1aabe08bb43339c87ad6c39aaffb0%20%3D%20L.popup%28%7B%22maxWidth%22%3A%20%22100%25%22%7D%29%3B%0A%0A%20%20%20%20%20%20%20%20%0A%20%20%20%20%20%20%20%20%20%20%20%20var%20html_8058469295d840c6b73eda20af6253fc%20%3D%20%24%28%60%3Cdiv%20id%3D%22html_8058469295d840c6b73eda20af6253fc%22%20style%3D%22width%3A%20100.0%25%3B%20height%3A%20100.0%25%3B%22%3ET%C3%BCrkiye%20Y%C3%BCksek%20%C4%B0htisas%20Hastanesi%20%3C/div%3E%60%29%5B0%5D%3B%0A%20%20%20%20%20%20%20%20%20%20%20%20popup_9fc1aabe08bb43339c87ad6c39aaffb0.setContent%28html_8058469295d840c6b73eda20af6253fc%29%3B%0A%20%20%20%20%20%20%20%20%0A%0A%20%20%20%20%20%20%20%20marker_6e835fe88ccf4521b3eb30cbdfd09de9.bindPopup%28popup_9fc1aabe08bb43339c87ad6c39aaffb0%29%0A%20%20%20%20%20%20%20%20%3B%0A%0A%20%20%20%20%20%20%20%20%0A%20%20%20%20%0A%20%20%20%20%0A%20%20%20%20%20%20%20%20%20%20%20%20var%20marker_5c7524b1de71472a8b936934683ade53%20%3D%20L.marker%28%0A%20%20%20%20%20%20%20%20%20%20%20%20%20%20%20%20%5B40.00792095%2C%2032.86109197629394%5D%2C%0A%20%20%20%20%20%20%20%20%20%20%20%20%20%20%20%20%7B%7D%0A%20%20%20%20%20%20%20%20%20%20%20%20%29.addTo%28map_873c7bf2610947a59b02631752d014e4%29%3B%0A%20%20%20%20%20%20%20%20%0A%20%20%20%20%0A%20%20%20%20%20%20%20%20var%20popup_2469ee30872342be84750ad230d2825a%20%3D%20L.popup%28%7B%22maxWidth%22%3A%20%22100%25%22%7D%29%3B%0A%0A%20%20%20%20%20%20%20%20%0A%20%20%20%20%20%20%20%20%20%20%20%20var%20html_ae0504f33bb84bfab704fb3726b997e8%20%3D%20%24%28%60%3Cdiv%20id%3D%22html_ae0504f33bb84bfab704fb3726b997e8%22%20style%3D%22width%3A%20100.0%25%3B%20height%3A%20100.0%25%3B%22%3EAnkara%20Meslek%20Hastanesi%20%3C/div%3E%60%29%5B0%5D%3B%0A%20%20%20%20%20%20%20%20%20%20%20%20popup_2469ee30872342be84750ad230d2825a.setContent%28html_ae0504f33bb84bfab704fb3726b997e8%29%3B%0A%20%20%20%20%20%20%20%20%0A%0A%20%20%20%20%20%20%20%20marker_5c7524b1de71472a8b936934683ade53.bindPopup%28popup_2469ee30872342be84750ad230d2825a%29%0A%20%20%20%20%20%20%20%20%3B%0A%0A%20%20%20%20%20%20%20%20%0A%20%20%20%20%0A%20%20%20%20%0A%20%20%20%20%20%20%20%20%20%20%20%20var%20marker_53a998a666e04cef88c04db7b8fc9c9b%20%3D%20L.marker%28%0A%20%20%20%20%20%20%20%20%20%20%20%20%20%20%20%20%5B39.9047963%2C%2032.8633166%5D%2C%0A%20%20%20%20%20%20%20%20%20%20%20%20%20%20%20%20%7B%7D%0A%20%20%20%20%20%20%20%20%20%20%20%20%29.addTo%28map_873c7bf2610947a59b02631752d014e4%29%3B%0A%20%20%20%20%20%20%20%20%0A%20%20%20%20%0A%20%20%20%20%20%20%20%20var%20popup_f8b804a0ff6c45d3bd1cfc04ed606529%20%3D%20L.popup%28%7B%22maxWidth%22%3A%20%22100%25%22%7D%29%3B%0A%0A%20%20%20%20%20%20%20%20%0A%20%20%20%20%20%20%20%20%20%20%20%20var%20html_2d82b710b94b466e8a3b230e7e7d4fe8%20%3D%20%24%28%60%3Cdiv%20id%3D%22html_2d82b710b94b466e8a3b230e7e7d4fe8%22%20style%3D%22width%3A%20100.0%25%3B%20height%3A%20100.0%25%3B%22%3E%C3%87ANKAYA%20HASTANES%C4%B0%3C/div%3E%60%29%5B0%5D%3B%0A%20%20%20%20%20%20%20%20%20%20%20%20popup_f8b804a0ff6c45d3bd1cfc04ed606529.setContent%28html_2d82b710b94b466e8a3b230e7e7d4fe8%29%3B%0A%20%20%20%20%20%20%20%20%0A%0A%20%20%20%20%20%20%20%20marker_53a998a666e04cef88c04db7b8fc9c9b.bindPopup%28popup_f8b804a0ff6c45d3bd1cfc04ed606529%29%0A%20%20%20%20%20%20%20%20%3B%0A%0A%20%20%20%20%20%20%20%20%0A%20%20%20%20%0A%20%20%20%20%0A%20%20%20%20%20%20%20%20%20%20%20%20var%20marker_cb28362bbfb845b1b93516a8c227374b%20%3D%20L.marker%28%0A%20%20%20%20%20%20%20%20%20%20%20%20%20%20%20%20%5B39.91258875%2C%2032.8577683685065%5D%2C%0A%20%20%20%20%20%20%20%20%20%20%20%20%20%20%20%20%7B%7D%0A%20%20%20%20%20%20%20%20%20%20%20%20%29.addTo%28map_873c7bf2610947a59b02631752d014e4%29%3B%0A%20%20%20%20%20%20%20%20%0A%20%20%20%20%0A%20%20%20%20%20%20%20%20var%20popup_032f0789d45d4854818b7da048f082cf%20%3D%20L.popup%28%7B%22maxWidth%22%3A%20%22100%25%22%7D%29%3B%0A%0A%20%20%20%20%20%20%20%20%0A%20%20%20%20%20%20%20%20%20%20%20%20var%20html_b942769fc0304362bdf1be410825d1f4%20%3D%20%24%28%60%3Cdiv%20id%3D%22html_b942769fc0304362bdf1be410825d1f4%22%20style%3D%22width%3A%20100.0%25%3B%20height%3A%20100.0%25%3B%22%3E%C3%96ZEL%20AKAY%20HASTANES%C4%B0%3C/div%3E%60%29%5B0%5D%3B%0A%20%20%20%20%20%20%20%20%20%20%20%20popup_032f0789d45d4854818b7da048f082cf.setContent%28html_b942769fc0304362bdf1be410825d1f4%29%3B%0A%20%20%20%20%20%20%20%20%0A%0A%20%20%20%20%20%20%20%20marker_cb28362bbfb845b1b93516a8c227374b.bindPopup%28popup_032f0789d45d4854818b7da048f082cf%29%0A%20%20%20%20%20%20%20%20%3B%0A%0A%20%20%20%20%20%20%20%20%0A%20%20%20%20%0A%20%20%20%20%0A%20%20%20%20%20%20%20%20%20%20%20%20var%20marker_dbd39848af384efcb0b114c3c1d70d40%20%3D%20L.marker%28%0A%20%20%20%20%20%20%20%20%20%20%20%20%20%20%20%20%5B37.0477776%2C%2037.33210427691449%5D%2C%0A%20%20%20%20%20%20%20%20%20%20%20%20%20%20%20%20%7B%7D%0A%20%20%20%20%20%20%20%20%20%20%20%20%29.addTo%28map_873c7bf2610947a59b02631752d014e4%29%3B%0A%20%20%20%20%20%20%20%20%0A%20%20%20%20%0A%20%20%20%20%20%20%20%20var%20popup_2bb04ab052f1488c93b7343d64ce9721%20%3D%20L.popup%28%7B%22maxWidth%22%3A%20%22100%25%22%7D%29%3B%0A%0A%20%20%20%20%20%20%20%20%0A%20%20%20%20%20%20%20%20%20%20%20%20var%20html_6e735bdb965e4bdba374dd4ca123f535%20%3D%20%24%28%60%3Cdiv%20id%3D%22html_6e735bdb965e4bdba374dd4ca123f535%22%20style%3D%22width%3A%20100.0%25%3B%20height%3A%20100.0%25%3B%22%3E%C3%96ZEL%20BAYINDIR%20HASTANES%C4%B0%3C/div%3E%60%29%5B0%5D%3B%0A%20%20%20%20%20%20%20%20%20%20%20%20popup_2bb04ab052f1488c93b7343d64ce9721.setContent%28html_6e735bdb965e4bdba374dd4ca123f535%29%3B%0A%20%20%20%20%20%20%20%20%0A%0A%20%20%20%20%20%20%20%20marker_dbd39848af384efcb0b114c3c1d70d40.bindPopup%28popup_2bb04ab052f1488c93b7343d64ce9721%29%0A%20%20%20%20%20%20%20%20%3B%0A%0A%20%20%20%20%20%20%20%20%0A%20%20%20%20%0A%20%20%20%20%0A%20%20%20%20%20%20%20%20%20%20%20%20var%20marker_eaebe4f6877a4f81a8ba973d045a9469%20%3D%20L.marker%28%0A%20%20%20%20%20%20%20%20%20%20%20%20%20%20%20%20%5B37.87756865%2C%2032.50664577023804%5D%2C%0A%20%20%20%20%20%20%20%20%20%20%20%20%20%20%20%20%7B%7D%0A%20%20%20%20%20%20%20%20%20%20%20%20%29.addTo%28map_873c7bf2610947a59b02631752d014e4%29%3B%0A%20%20%20%20%20%20%20%20%0A%20%20%20%20%0A%20%20%20%20%20%20%20%20var%20popup_f2def096bccc4e5685c2539f6d936eed%20%3D%20L.popup%28%7B%22maxWidth%22%3A%20%22100%25%22%7D%29%3B%0A%0A%20%20%20%20%20%20%20%20%0A%20%20%20%20%20%20%20%20%20%20%20%20var%20html_578a7bcb12a04eb282c7eb731d4bcb25%20%3D%20%24%28%60%3Cdiv%20id%3D%22html_578a7bcb12a04eb282c7eb731d4bcb25%22%20style%3D%22width%3A%20100.0%25%3B%20height%3A%20100.0%25%3B%22%3E%C3%96ZEL%20B%C4%B0LG%C4%B0%20HASTANES%C4%B0%3C/div%3E%60%29%5B0%5D%3B%0A%20%20%20%20%20%20%20%20%20%20%20%20popup_f2def096bccc4e5685c2539f6d936eed.setContent%28html_578a7bcb12a04eb282c7eb731d4bcb25%29%3B%0A%20%20%20%20%20%20%20%20%0A%0A%20%20%20%20%20%20%20%20marker_eaebe4f6877a4f81a8ba973d045a9469.bindPopup%28popup_f2def096bccc4e5685c2539f6d936eed%29%0A%20%20%20%20%20%20%20%20%3B%0A%0A%20%20%20%20%20%20%20%20%0A%20%20%20%20%0A%20%20%20%20%0A%20%20%20%20%20%20%20%20%20%20%20%20var%20marker_350b4a9a104e4f37b18e56ea7f49c4be%20%3D%20L.marker%28%0A%20%20%20%20%20%20%20%20%20%20%20%20%20%20%20%20%5B39.9717794%2C%2032.652336784998255%5D%2C%0A%20%20%20%20%20%20%20%20%20%20%20%20%20%20%20%20%7B%7D%0A%20%20%20%20%20%20%20%20%20%20%20%20%29.addTo%28map_873c7bf2610947a59b02631752d014e4%29%3B%0A%20%20%20%20%20%20%20%20%0A%20%20%20%20%0A%20%20%20%20%20%20%20%20var%20popup_e420edff4d4f4eda91654ad6071959b2%20%3D%20L.popup%28%7B%22maxWidth%22%3A%20%22100%25%22%7D%29%3B%0A%0A%20%20%20%20%20%20%20%20%0A%20%20%20%20%20%20%20%20%20%20%20%20var%20html_621daa0a7fdc4cb18fecb9af00e472c2%20%3D%20%24%28%60%3Cdiv%20id%3D%22html_621daa0a7fdc4cb18fecb9af00e472c2%22%20style%3D%22width%3A%20100.0%25%3B%20height%3A%20100.0%25%3B%22%3E%C3%96ZEL%20ERYAMAN%20HASTANES%C4%B0%3C/div%3E%60%29%5B0%5D%3B%0A%20%20%20%20%20%20%20%20%20%20%20%20popup_e420edff4d4f4eda91654ad6071959b2.setContent%28html_621daa0a7fdc4cb18fecb9af00e472c2%29%3B%0A%20%20%20%20%20%20%20%20%0A%0A%20%20%20%20%20%20%20%20marker_350b4a9a104e4f37b18e56ea7f49c4be.bindPopup%28popup_e420edff4d4f4eda91654ad6071959b2%29%0A%20%20%20%20%20%20%20%20%3B%0A%0A%20%20%20%20%20%20%20%20%0A%20%20%20%20%0A%20%20%20%20%0A%20%20%20%20%20%20%20%20%20%20%20%20var%20marker_063e1191adb14d698965217f993f9fc2%20%3D%20L.marker%28%0A%20%20%20%20%20%20%20%20%20%20%20%20%20%20%20%20%5B39.953771399999994%2C%2032.62821101318643%5D%2C%0A%20%20%20%20%20%20%20%20%20%20%20%20%20%20%20%20%7B%7D%0A%20%20%20%20%20%20%20%20%20%20%20%20%29.addTo%28map_873c7bf2610947a59b02631752d014e4%29%3B%0A%20%20%20%20%20%20%20%20%0A%20%20%20%20%0A%20%20%20%20%20%20%20%20var%20popup_f007c34955a6442cb908a7511014cd6a%20%3D%20L.popup%28%7B%22maxWidth%22%3A%20%22100%25%22%7D%29%3B%0A%0A%20%20%20%20%20%20%20%20%0A%20%20%20%20%20%20%20%20%20%20%20%20var%20html_857aa99f34484e7caa56c6eed4c04e5a%20%3D%20%24%28%60%3Cdiv%20id%3D%22html_857aa99f34484e7caa56c6eed4c04e5a%22%20style%3D%22width%3A%20100.0%25%3B%20height%3A%20100.0%25%3B%22%3E%C3%96ZEL%20ET%C4%B0MED%20HASTANESI%3C/div%3E%60%29%5B0%5D%3B%0A%20%20%20%20%20%20%20%20%20%20%20%20popup_f007c34955a6442cb908a7511014cd6a.setContent%28html_857aa99f34484e7caa56c6eed4c04e5a%29%3B%0A%20%20%20%20%20%20%20%20%0A%0A%20%20%20%20%20%20%20%20marker_063e1191adb14d698965217f993f9fc2.bindPopup%28popup_f007c34955a6442cb908a7511014cd6a%29%0A%20%20%20%20%20%20%20%20%3B%0A%0A%20%20%20%20%20%20%20%20%0A%20%20%20%20%0A%20%20%20%20%0A%20%20%20%20%20%20%20%20%20%20%20%20var%20marker_c02a7033ab054baab9685ee3b732b65b%20%3D%20L.marker%28%0A%20%20%20%20%20%20%20%20%20%20%20%20%20%20%20%20%5B40.0022099%2C%2032.87355884579063%5D%2C%0A%20%20%20%20%20%20%20%20%20%20%20%20%20%20%20%20%7B%7D%0A%20%20%20%20%20%20%20%20%20%20%20%20%29.addTo%28map_873c7bf2610947a59b02631752d014e4%29%3B%0A%20%20%20%20%20%20%20%20%0A%20%20%20%20%0A%20%20%20%20%20%20%20%20var%20popup_d3c13c25a6b54da0a2dce9a45e75a966%20%3D%20L.popup%28%7B%22maxWidth%22%3A%20%22100%25%22%7D%29%3B%0A%0A%20%20%20%20%20%20%20%20%0A%20%20%20%20%20%20%20%20%20%20%20%20var%20html_bd3f1bda816041439e43c6331e64c8dc%20%3D%20%24%28%60%3Cdiv%20id%3D%22html_bd3f1bda816041439e43c6331e64c8dc%22%20style%3D%22width%3A%20100.0%25%3B%20height%3A%20100.0%25%3B%22%3E%C3%96ZEL%20KE%C3%87%C4%B0%C3%96REN%20HASTANES%C4%B0%3C/div%3E%60%29%5B0%5D%3B%0A%20%20%20%20%20%20%20%20%20%20%20%20popup_d3c13c25a6b54da0a2dce9a45e75a966.setContent%28html_bd3f1bda816041439e43c6331e64c8dc%29%3B%0A%20%20%20%20%20%20%20%20%0A%0A%20%20%20%20%20%20%20%20marker_c02a7033ab054baab9685ee3b732b65b.bindPopup%28popup_d3c13c25a6b54da0a2dce9a45e75a966%29%0A%20%20%20%20%20%20%20%20%3B%0A%0A%20%20%20%20%20%20%20%20%0A%20%20%20%20%0A%20%20%20%20%0A%20%20%20%20%20%20%20%20%20%20%20%20var%20marker_d91de1832fbd487db0341ebc8f5db69c%20%3D%20L.marker%28%0A%20%20%20%20%20%20%20%20%20%20%20%20%20%20%20%20%5B37.0140333%2C%2035.32555913784009%5D%2C%0A%20%20%20%20%20%20%20%20%20%20%20%20%20%20%20%20%7B%7D%0A%20%20%20%20%20%20%20%20%20%20%20%20%29.addTo%28map_873c7bf2610947a59b02631752d014e4%29%3B%0A%20%20%20%20%20%20%20%20%0A%20%20%20%20%0A%20%20%20%20%20%20%20%20var%20popup_2895032e758a47acb5753b4e88308b2e%20%3D%20L.popup%28%7B%22maxWidth%22%3A%20%22100%25%22%7D%29%3B%0A%0A%20%20%20%20%20%20%20%20%0A%20%20%20%20%20%20%20%20%20%20%20%20var%20html_d6e9b65311cd45ee81c004cd6613ec8b%20%3D%20%24%28%60%3Cdiv%20id%3D%22html_d6e9b65311cd45ee81c004cd6613ec8b%22%20style%3D%22width%3A%20100.0%25%3B%20height%3A%20100.0%25%3B%22%3E%C3%96ZEL%20ORTADO%C4%9EU%20HASTANES%C4%B0%3C/div%3E%60%29%5B0%5D%3B%0A%20%20%20%20%20%20%20%20%20%20%20%20popup_2895032e758a47acb5753b4e88308b2e.setContent%28html_d6e9b65311cd45ee81c004cd6613ec8b%29%3B%0A%20%20%20%20%20%20%20%20%0A%0A%20%20%20%20%20%20%20%20marker_d91de1832fbd487db0341ebc8f5db69c.bindPopup%28popup_2895032e758a47acb5753b4e88308b2e%29%0A%20%20%20%20%20%20%20%20%3B%0A%0A%20%20%20%20%20%20%20%20%0A%20%20%20%20%0A%20%20%20%20%0A%20%20%20%20%20%20%20%20%20%20%20%20var%20marker_59bfe125a389433881b2ef1ffcfb47a2%20%3D%20L.marker%28%0A%20%20%20%20%20%20%20%20%20%20%20%20%20%20%20%20%5B40.125160449999996%2C%2033.153738676395655%5D%2C%0A%20%20%20%20%20%20%20%20%20%20%20%20%20%20%20%20%7B%7D%0A%20%20%20%20%20%20%20%20%20%20%20%20%29.addTo%28map_873c7bf2610947a59b02631752d014e4%29%3B%0A%20%20%20%20%20%20%20%20%0A%20%20%20%20%0A%20%20%20%20%20%20%20%20%20%20%20%20var%20icon_45f1503bda1d4e5fb932521420bf6146%20%3D%20L.AwesomeMarkers.icon%28%0A%20%20%20%20%20%20%20%20%20%20%20%20%20%20%20%20%7B%22extraClasses%22%3A%20%22fa-rotate-0%22%2C%20%22icon%22%3A%20%22info-sign%22%2C%20%22iconColor%22%3A%20%22white%22%2C%20%22markerColor%22%3A%20%22red%22%2C%20%22prefix%22%3A%20%22glyphicon%22%7D%0A%20%20%20%20%20%20%20%20%20%20%20%20%29%3B%0A%20%20%20%20%20%20%20%20%20%20%20%20marker_59bfe125a389433881b2ef1ffcfb47a2.setIcon%28icon_45f1503bda1d4e5fb932521420bf6146%29%3B%0A%20%20%20%20%20%20%20%20%0A%20%20%20%20%0A%20%20%20%20%20%20%20%20var%20popup_4e7addf170494875b0c505320723ed19%20%3D%20L.popup%28%7B%22maxWidth%22%3A%20%22100%25%22%7D%29%3B%0A%0A%20%20%20%20%20%20%20%20%0A%20%20%20%20%20%20%20%20%20%20%20%20var%20html_cdbd4861eb394cea8cfab05cd508ddf0%20%3D%20%24%28%60%3Cdiv%20id%3D%22html_cdbd4861eb394cea8cfab05cd508ddf0%22%20style%3D%22width%3A%20100.0%25%3B%20height%3A%20100.0%25%3B%22%3EAkyurt%3C/div%3E%60%29%5B0%5D%3B%0A%20%20%20%20%20%20%20%20%20%20%20%20popup_4e7addf170494875b0c505320723ed19.setContent%28html_cdbd4861eb394cea8cfab05cd508ddf0%29%3B%0A%20%20%20%20%20%20%20%20%0A%0A%20%20%20%20%20%20%20%20marker_59bfe125a389433881b2ef1ffcfb47a2.bindPopup%28popup_4e7addf170494875b0c505320723ed19%29%0A%20%20%20%20%20%20%20%20%3B%0A%0A%20%20%20%20%20%20%20%20%0A%20%20%20%20%0A%20%20%20%20%0A%20%20%20%20%20%20%20%20%20%20%20%20var%20marker_f8e6dc817b9d4ccca418a47275f82874%20%3D%20L.marker%28%0A%20%20%20%20%20%20%20%20%20%20%20%20%20%20%20%20%5B39.99097405%2C%2032.99869750658688%5D%2C%0A%20%20%20%20%20%20%20%20%20%20%20%20%20%20%20%20%7B%7D%0A%20%20%20%20%20%20%20%20%20%20%20%20%29.addTo%28map_873c7bf2610947a59b02631752d014e4%29%3B%0A%20%20%20%20%20%20%20%20%0A%20%20%20%20%0A%20%20%20%20%20%20%20%20%20%20%20%20var%20icon_33faa22e05eb495d8fac20e1b67b0a33%20%3D%20L.AwesomeMarkers.icon%28%0A%20%20%20%20%20%20%20%20%20%20%20%20%20%20%20%20%7B%22extraClasses%22%3A%20%22fa-rotate-0%22%2C%20%22icon%22%3A%20%22info-sign%22%2C%20%22iconColor%22%3A%20%22white%22%2C%20%22markerColor%22%3A%20%22red%22%2C%20%22prefix%22%3A%20%22glyphicon%22%7D%0A%20%20%20%20%20%20%20%20%20%20%20%20%29%3B%0A%20%20%20%20%20%20%20%20%20%20%20%20marker_f8e6dc817b9d4ccca418a47275f82874.setIcon%28icon_33faa22e05eb495d8fac20e1b67b0a33%29%3B%0A%20%20%20%20%20%20%20%20%0A%20%20%20%20%0A%20%20%20%20%20%20%20%20var%20popup_8a57e6692bc84a879b61d1008db6a449%20%3D%20L.popup%28%7B%22maxWidth%22%3A%20%22100%25%22%7D%29%3B%0A%0A%20%20%20%20%20%20%20%20%0A%20%20%20%20%20%20%20%20%20%20%20%20var%20html_3adadd421b3f4e8d99e94f6cc13206ff%20%3D%20%24%28%60%3Cdiv%20id%3D%22html_3adadd421b3f4e8d99e94f6cc13206ff%22%20style%3D%22width%3A%20100.0%25%3B%20height%3A%20100.0%25%3B%22%3EAlt%C4%B1nda%C4%9F%3C/div%3E%60%29%5B0%5D%3B%0A%20%20%20%20%20%20%20%20%20%20%20%20popup_8a57e6692bc84a879b61d1008db6a449.setContent%28html_3adadd421b3f4e8d99e94f6cc13206ff%29%3B%0A%20%20%20%20%20%20%20%20%0A%0A%20%20%20%20%20%20%20%20marker_f8e6dc817b9d4ccca418a47275f82874.bindPopup%28popup_8a57e6692bc84a879b61d1008db6a449%29%0A%20%20%20%20%20%20%20%20%3B%0A%0A%20%20%20%20%20%20%20%20%0A%20%20%20%20%0A%20%20%20%20%0A%20%20%20%20%20%20%20%20%20%20%20%20var%20marker_fbfdc462019b430b956af65a2a59bf13%20%3D%20L.marker%28%0A%20%20%20%20%20%20%20%20%20%20%20%20%20%20%20%20%5B40.02804515%2C%2032.26187812656677%5D%2C%0A%20%20%20%20%20%20%20%20%20%20%20%20%20%20%20%20%7B%7D%0A%20%20%20%20%20%20%20%20%20%20%20%20%29.addTo%28map_873c7bf2610947a59b02631752d014e4%29%3B%0A%20%20%20%20%20%20%20%20%0A%20%20%20%20%0A%20%20%20%20%20%20%20%20%20%20%20%20var%20icon_c272fdd09bf74c41a8a989c2336efbd8%20%3D%20L.AwesomeMarkers.icon%28%0A%20%20%20%20%20%20%20%20%20%20%20%20%20%20%20%20%7B%22extraClasses%22%3A%20%22fa-rotate-0%22%2C%20%22icon%22%3A%20%22info-sign%22%2C%20%22iconColor%22%3A%20%22white%22%2C%20%22markerColor%22%3A%20%22red%22%2C%20%22prefix%22%3A%20%22glyphicon%22%7D%0A%20%20%20%20%20%20%20%20%20%20%20%20%29%3B%0A%20%20%20%20%20%20%20%20%20%20%20%20marker_fbfdc462019b430b956af65a2a59bf13.setIcon%28icon_c272fdd09bf74c41a8a989c2336efbd8%29%3B%0A%20%20%20%20%20%20%20%20%0A%20%20%20%20%0A%20%20%20%20%20%20%20%20var%20popup_78d74ac1ed444f9f87a2ffdb2478d554%20%3D%20L.popup%28%7B%22maxWidth%22%3A%20%22100%25%22%7D%29%3B%0A%0A%20%20%20%20%20%20%20%20%0A%20%20%20%20%20%20%20%20%20%20%20%20var%20html_eabcfd6d818c4a9fa6316569b45caac7%20%3D%20%24%28%60%3Cdiv%20id%3D%22html_eabcfd6d818c4a9fa6316569b45caac7%22%20style%3D%22width%3A%20100.0%25%3B%20height%3A%20100.0%25%3B%22%3EAya%C5%9F%3C/div%3E%60%29%5B0%5D%3B%0A%20%20%20%20%20%20%20%20%20%20%20%20popup_78d74ac1ed444f9f87a2ffdb2478d554.setContent%28html_eabcfd6d818c4a9fa6316569b45caac7%29%3B%0A%20%20%20%20%20%20%20%20%0A%0A%20%20%20%20%20%20%20%20marker_fbfdc462019b430b956af65a2a59bf13.bindPopup%28popup_78d74ac1ed444f9f87a2ffdb2478d554%29%0A%20%20%20%20%20%20%20%20%3B%0A%0A%20%20%20%20%20%20%20%20%0A%20%20%20%20%0A%20%20%20%20%0A%20%20%20%20%20%20%20%20%20%20%20%20var%20marker_07563caacfc44c688631cf3171c8f1ad%20%3D%20L.marker%28%0A%20%20%20%20%20%20%20%20%20%20%20%20%20%20%20%20%5B40.7332953%2C%2031.6110479%5D%2C%0A%20%20%20%20%20%20%20%20%20%20%20%20%20%20%20%20%7B%7D%0A%20%20%20%20%20%20%20%20%20%20%20%20%29.addTo%28map_873c7bf2610947a59b02631752d014e4%29%3B%0A%20%20%20%20%20%20%20%20%0A%20%20%20%20%0A%20%20%20%20%20%20%20%20%20%20%20%20var%20icon_bdc0a924233b4f17bc31dbb6617003f0%20%3D%20L.AwesomeMarkers.icon%28%0A%20%20%20%20%20%20%20%20%20%20%20%20%20%20%20%20%7B%22extraClasses%22%3A%20%22fa-rotate-0%22%2C%20%22icon%22%3A%20%22info-sign%22%2C%20%22iconColor%22%3A%20%22white%22%2C%20%22markerColor%22%3A%20%22red%22%2C%20%22prefix%22%3A%20%22glyphicon%22%7D%0A%20%20%20%20%20%20%20%20%20%20%20%20%29%3B%0A%20%20%20%20%20%20%20%20%20%20%20%20marker_07563caacfc44c688631cf3171c8f1ad.setIcon%28icon_bdc0a924233b4f17bc31dbb6617003f0%29%3B%0A%20%20%20%20%20%20%20%20%0A%20%20%20%20%0A%20%20%20%20%20%20%20%20var%20popup_fb45f28c90ac49c5a723adc346101a7b%20%3D%20L.popup%28%7B%22maxWidth%22%3A%20%22100%25%22%7D%29%3B%0A%0A%20%20%20%20%20%20%20%20%0A%20%20%20%20%20%20%20%20%20%20%20%20var%20html_26a62009091f4f8b970c74d7427cbbb7%20%3D%20%24%28%60%3Cdiv%20id%3D%22html_26a62009091f4f8b970c74d7427cbbb7%22%20style%3D%22width%3A%20100.0%25%3B%20height%3A%20100.0%25%3B%22%3EBala%3C/div%3E%60%29%5B0%5D%3B%0A%20%20%20%20%20%20%20%20%20%20%20%20popup_fb45f28c90ac49c5a723adc346101a7b.setContent%28html_26a62009091f4f8b970c74d7427cbbb7%29%3B%0A%20%20%20%20%20%20%20%20%0A%0A%20%20%20%20%20%20%20%20marker_07563caacfc44c688631cf3171c8f1ad.bindPopup%28popup_fb45f28c90ac49c5a723adc346101a7b%29%0A%20%20%20%20%20%20%20%20%3B%0A%0A%20%20%20%20%20%20%20%20%0A%20%20%20%20%0A%20%20%20%20%0A%20%20%20%20%20%20%20%20%20%20%20%20var%20marker_b8146678fa0a417c81b06915b7e0b642%20%3D%20L.marker%28%0A%20%20%20%20%20%20%20%20%20%20%20%20%20%20%20%20%5B40.1787094%2C%2031.90908764823292%5D%2C%0A%20%20%20%20%20%20%20%20%20%20%20%20%20%20%20%20%7B%7D%0A%20%20%20%20%20%20%20%20%20%20%20%20%29.addTo%28map_873c7bf2610947a59b02631752d014e4%29%3B%0A%20%20%20%20%20%20%20%20%0A%20%20%20%20%0A%20%20%20%20%20%20%20%20%20%20%20%20var%20icon_2261d3144dc44dbd92d024537003b602%20%3D%20L.AwesomeMarkers.icon%28%0A%20%20%20%20%20%20%20%20%20%20%20%20%20%20%20%20%7B%22extraClasses%22%3A%20%22fa-rotate-0%22%2C%20%22icon%22%3A%20%22info-sign%22%2C%20%22iconColor%22%3A%20%22white%22%2C%20%22markerColor%22%3A%20%22red%22%2C%20%22prefix%22%3A%20%22glyphicon%22%7D%0A%20%20%20%20%20%20%20%20%20%20%20%20%29%3B%0A%20%20%20%20%20%20%20%20%20%20%20%20marker_b8146678fa0a417c81b06915b7e0b642.setIcon%28icon_2261d3144dc44dbd92d024537003b602%29%3B%0A%20%20%20%20%20%20%20%20%0A%20%20%20%20%0A%20%20%20%20%20%20%20%20var%20popup_290d1cd94e0749cd8c9d730be5623cf8%20%3D%20L.popup%28%7B%22maxWidth%22%3A%20%22100%25%22%7D%29%3B%0A%0A%20%20%20%20%20%20%20%20%0A%20%20%20%20%20%20%20%20%20%20%20%20var%20html_468830b4571d439aa1ecfa071f4186d3%20%3D%20%24%28%60%3Cdiv%20id%3D%22html_468830b4571d439aa1ecfa071f4186d3%22%20style%3D%22width%3A%20100.0%25%3B%20height%3A%20100.0%25%3B%22%3EBeypazar%C4%B1%3C/div%3E%60%29%5B0%5D%3B%0A%20%20%20%20%20%20%20%20%20%20%20%20popup_290d1cd94e0749cd8c9d730be5623cf8.setContent%28html_468830b4571d439aa1ecfa071f4186d3%29%3B%0A%20%20%20%20%20%20%20%20%0A%0A%20%20%20%20%20%20%20%20marker_b8146678fa0a417c81b06915b7e0b642.bindPopup%28popup_290d1cd94e0749cd8c9d730be5623cf8%29%0A%20%20%20%20%20%20%20%20%3B%0A%0A%20%20%20%20%20%20%20%20%0A%20%20%20%20%0A%20%20%20%20%0A%20%20%20%20%20%20%20%20%20%20%20%20var%20marker_a8b3339fecc34130b6b6cd1bf0e9502d%20%3D%20L.marker%28%0A%20%20%20%20%20%20%20%20%20%20%20%20%20%20%20%20%5B40.48596315%2C%2032.33908989309063%5D%2C%0A%20%20%20%20%20%20%20%20%20%20%20%20%20%20%20%20%7B%7D%0A%20%20%20%20%20%20%20%20%20%20%20%20%29.addTo%28map_873c7bf2610947a59b02631752d014e4%29%3B%0A%20%20%20%20%20%20%20%20%0A%20%20%20%20%0A%20%20%20%20%20%20%20%20%20%20%20%20var%20icon_428820da57934f4182fd7c8093145b1c%20%3D%20L.AwesomeMarkers.icon%28%0A%20%20%20%20%20%20%20%20%20%20%20%20%20%20%20%20%7B%22extraClasses%22%3A%20%22fa-rotate-0%22%2C%20%22icon%22%3A%20%22info-sign%22%2C%20%22iconColor%22%3A%20%22white%22%2C%20%22markerColor%22%3A%20%22red%22%2C%20%22prefix%22%3A%20%22glyphicon%22%7D%0A%20%20%20%20%20%20%20%20%20%20%20%20%29%3B%0A%20%20%20%20%20%20%20%20%20%20%20%20marker_a8b3339fecc34130b6b6cd1bf0e9502d.setIcon%28icon_428820da57934f4182fd7c8093145b1c%29%3B%0A%20%20%20%20%20%20%20%20%0A%20%20%20%20%0A%20%20%20%20%20%20%20%20var%20popup_36ea69128c48437a940eeffe3c4756e6%20%3D%20L.popup%28%7B%22maxWidth%22%3A%20%22100%25%22%7D%29%3B%0A%0A%20%20%20%20%20%20%20%20%0A%20%20%20%20%20%20%20%20%20%20%20%20var%20html_c4235f47964348188ffe898f25a28f0a%20%3D%20%24%28%60%3Cdiv%20id%3D%22html_c4235f47964348188ffe898f25a28f0a%22%20style%3D%22width%3A%20100.0%25%3B%20height%3A%20100.0%25%3B%22%3E%C3%87aml%C4%B1dere%3C/div%3E%60%29%5B0%5D%3B%0A%20%20%20%20%20%20%20%20%20%20%20%20popup_36ea69128c48437a940eeffe3c4756e6.setContent%28html_c4235f47964348188ffe898f25a28f0a%29%3B%0A%20%20%20%20%20%20%20%20%0A%0A%20%20%20%20%20%20%20%20marker_a8b3339fecc34130b6b6cd1bf0e9502d.bindPopup%28popup_36ea69128c48437a940eeffe3c4756e6%29%0A%20%20%20%20%20%20%20%20%3B%0A%0A%20%20%20%20%20%20%20%20%0A%20%20%20%20%0A%20%20%20%20%0A%20%20%20%20%20%20%20%20%20%20%20%20var%20marker_18211ebbe5ed4e7cab93a281026d4b40%20%3D%20L.marker%28%0A%20%20%20%20%20%20%20%20%20%20%20%20%20%20%20%20%5B39.79809755%2C%2032.94560416986046%5D%2C%0A%20%20%20%20%20%20%20%20%20%20%20%20%20%20%20%20%7B%7D%0A%20%20%20%20%20%20%20%20%20%20%20%20%29.addTo%28map_873c7bf2610947a59b02631752d014e4%29%3B%0A%20%20%20%20%20%20%20%20%0A%20%20%20%20%0A%20%20%20%20%20%20%20%20%20%20%20%20var%20icon_b531f93e7ec649ce96d6225fbce43158%20%3D%20L.AwesomeMarkers.icon%28%0A%20%20%20%20%20%20%20%20%20%20%20%20%20%20%20%20%7B%22extraClasses%22%3A%20%22fa-rotate-0%22%2C%20%22icon%22%3A%20%22info-sign%22%2C%20%22iconColor%22%3A%20%22white%22%2C%20%22markerColor%22%3A%20%22red%22%2C%20%22prefix%22%3A%20%22glyphicon%22%7D%0A%20%20%20%20%20%20%20%20%20%20%20%20%29%3B%0A%20%20%20%20%20%20%20%20%20%20%20%20marker_18211ebbe5ed4e7cab93a281026d4b40.setIcon%28icon_b531f93e7ec649ce96d6225fbce43158%29%3B%0A%20%20%20%20%20%20%20%20%0A%20%20%20%20%0A%20%20%20%20%20%20%20%20var%20popup_01764256d0f74e45807692d3f993e4e1%20%3D%20L.popup%28%7B%22maxWidth%22%3A%20%22100%25%22%7D%29%3B%0A%0A%20%20%20%20%20%20%20%20%0A%20%20%20%20%20%20%20%20%20%20%20%20var%20html_f275e13c220b4791b9491c5104a50694%20%3D%20%24%28%60%3Cdiv%20id%3D%22html_f275e13c220b4791b9491c5104a50694%22%20style%3D%22width%3A%20100.0%25%3B%20height%3A%20100.0%25%3B%22%3E%C3%87ankaya%3C/div%3E%60%29%5B0%5D%3B%0A%20%20%20%20%20%20%20%20%20%20%20%20popup_01764256d0f74e45807692d3f993e4e1.setContent%28html_f275e13c220b4791b9491c5104a50694%29%3B%0A%20%20%20%20%20%20%20%20%0A%0A%20%20%20%20%20%20%20%20marker_18211ebbe5ed4e7cab93a281026d4b40.bindPopup%28popup_01764256d0f74e45807692d3f993e4e1%29%0A%20%20%20%20%20%20%20%20%3B%0A%0A%20%20%20%20%20%20%20%20%0A%20%20%20%20%0A%20%20%20%20%0A%20%20%20%20%20%20%20%20%20%20%20%20var%20marker_85d22c0dd7b74a0b83ac2aac6315a750%20%3D%20L.marker%28%0A%20%20%20%20%20%20%20%20%20%20%20%20%20%20%20%20%5B40.3187919%2C%2033.061920358677796%5D%2C%0A%20%20%20%20%20%20%20%20%20%20%20%20%20%20%20%20%7B%7D%0A%20%20%20%20%20%20%20%20%20%20%20%20%29.addTo%28map_873c7bf2610947a59b02631752d014e4%29%3B%0A%20%20%20%20%20%20%20%20%0A%20%20%20%20%0A%20%20%20%20%20%20%20%20%20%20%20%20var%20icon_894f733615584c06bc8d5b23d6713396%20%3D%20L.AwesomeMarkers.icon%28%0A%20%20%20%20%20%20%20%20%20%20%20%20%20%20%20%20%7B%22extraClasses%22%3A%20%22fa-rotate-0%22%2C%20%22icon%22%3A%20%22info-sign%22%2C%20%22iconColor%22%3A%20%22white%22%2C%20%22markerColor%22%3A%20%22red%22%2C%20%22prefix%22%3A%20%22glyphicon%22%7D%0A%20%20%20%20%20%20%20%20%20%20%20%20%29%3B%0A%20%20%20%20%20%20%20%20%20%20%20%20marker_85d22c0dd7b74a0b83ac2aac6315a750.setIcon%28icon_894f733615584c06bc8d5b23d6713396%29%3B%0A%20%20%20%20%20%20%20%20%0A%20%20%20%20%0A%20%20%20%20%20%20%20%20var%20popup_5cc3b916804d4b9dae26463732a1af42%20%3D%20L.popup%28%7B%22maxWidth%22%3A%20%22100%25%22%7D%29%3B%0A%0A%20%20%20%20%20%20%20%20%0A%20%20%20%20%20%20%20%20%20%20%20%20var%20html_b6721ad66ea64297bc520ab565977a13%20%3D%20%24%28%60%3Cdiv%20id%3D%22html_b6721ad66ea64297bc520ab565977a13%22%20style%3D%22width%3A%20100.0%25%3B%20height%3A%20100.0%25%3B%22%3E%C3%87ubuk%3C/div%3E%60%29%5B0%5D%3B%0A%20%20%20%20%20%20%20%20%20%20%20%20popup_5cc3b916804d4b9dae26463732a1af42.setContent%28html_b6721ad66ea64297bc520ab565977a13%29%3B%0A%20%20%20%20%20%20%20%20%0A%0A%20%20%20%20%20%20%20%20marker_85d22c0dd7b74a0b83ac2aac6315a750.bindPopup%28popup_5cc3b916804d4b9dae26463732a1af42%29%0A%20%20%20%20%20%20%20%20%3B%0A%0A%20%20%20%20%20%20%20%20%0A%20%20%20%20%0A%20%20%20%20%0A%20%20%20%20%20%20%20%20%20%20%20%20var%20marker_66ed222c4c5b4e04b952c2a778360307%20%3D%20L.marker%28%0A%20%20%20%20%20%20%20%20%20%20%20%20%20%20%20%20%5B39.88146175%2C%2033.22867084186021%5D%2C%0A%20%20%20%20%20%20%20%20%20%20%20%20%20%20%20%20%7B%7D%0A%20%20%20%20%20%20%20%20%20%20%20%20%29.addTo%28map_873c7bf2610947a59b02631752d014e4%29%3B%0A%20%20%20%20%20%20%20%20%0A%20%20%20%20%0A%20%20%20%20%20%20%20%20%20%20%20%20var%20icon_56910f1162f640f89a828da18cde260c%20%3D%20L.AwesomeMarkers.icon%28%0A%20%20%20%20%20%20%20%20%20%20%20%20%20%20%20%20%7B%22extraClasses%22%3A%20%22fa-rotate-0%22%2C%20%22icon%22%3A%20%22info-sign%22%2C%20%22iconColor%22%3A%20%22white%22%2C%20%22markerColor%22%3A%20%22red%22%2C%20%22prefix%22%3A%20%22glyphicon%22%7D%0A%20%20%20%20%20%20%20%20%20%20%20%20%29%3B%0A%20%20%20%20%20%20%20%20%20%20%20%20marker_66ed222c4c5b4e04b952c2a778360307.setIcon%28icon_56910f1162f640f89a828da18cde260c%29%3B%0A%20%20%20%20%20%20%20%20%0A%20%20%20%20%0A%20%20%20%20%20%20%20%20var%20popup_4d8843a750274967b60be15a20b2d8ba%20%3D%20L.popup%28%7B%22maxWidth%22%3A%20%22100%25%22%7D%29%3B%0A%0A%20%20%20%20%20%20%20%20%0A%20%20%20%20%20%20%20%20%20%20%20%20var%20html_2e42270fd1cf40ef9253117b4a28ec98%20%3D%20%24%28%60%3Cdiv%20id%3D%22html_2e42270fd1cf40ef9253117b4a28ec98%22%20style%3D%22width%3A%20100.0%25%3B%20height%3A%20100.0%25%3B%22%3EElmada%C4%9F%3C/div%3E%60%29%5B0%5D%3B%0A%20%20%20%20%20%20%20%20%20%20%20%20popup_4d8843a750274967b60be15a20b2d8ba.setContent%28html_2e42270fd1cf40ef9253117b4a28ec98%29%3B%0A%20%20%20%20%20%20%20%20%0A%0A%20%20%20%20%20%20%20%20marker_66ed222c4c5b4e04b952c2a778360307.bindPopup%28popup_4d8843a750274967b60be15a20b2d8ba%29%0A%20%20%20%20%20%20%20%20%3B%0A%0A%20%20%20%20%20%20%20%20%0A%20%20%20%20%0A%20%20%20%20%0A%20%20%20%20%20%20%20%20%20%20%20%20var%20marker_934db6715a804aeab7f8647ccf05437c%20%3D%20L.marker%28%0A%20%20%20%20%20%20%20%20%20%20%20%20%20%20%20%20%5B39.86718835%2C%2032.602279499077%5D%2C%0A%20%20%20%20%20%20%20%20%20%20%20%20%20%20%20%20%7B%7D%0A%20%20%20%20%20%20%20%20%20%20%20%20%29.addTo%28map_873c7bf2610947a59b02631752d014e4%29%3B%0A%20%20%20%20%20%20%20%20%0A%20%20%20%20%0A%20%20%20%20%20%20%20%20%20%20%20%20var%20icon_6389c5fe752243ea9a36cd9d223cb38d%20%3D%20L.AwesomeMarkers.icon%28%0A%20%20%20%20%20%20%20%20%20%20%20%20%20%20%20%20%7B%22extraClasses%22%3A%20%22fa-rotate-0%22%2C%20%22icon%22%3A%20%22info-sign%22%2C%20%22iconColor%22%3A%20%22white%22%2C%20%22markerColor%22%3A%20%22red%22%2C%20%22prefix%22%3A%20%22glyphicon%22%7D%0A%20%20%20%20%20%20%20%20%20%20%20%20%29%3B%0A%20%20%20%20%20%20%20%20%20%20%20%20marker_934db6715a804aeab7f8647ccf05437c.setIcon%28icon_6389c5fe752243ea9a36cd9d223cb38d%29%3B%0A%20%20%20%20%20%20%20%20%0A%20%20%20%20%0A%20%20%20%20%20%20%20%20var%20popup_608e2cbfe97a4ca28cbb8eb01beb9168%20%3D%20L.popup%28%7B%22maxWidth%22%3A%20%22100%25%22%7D%29%3B%0A%0A%20%20%20%20%20%20%20%20%0A%20%20%20%20%20%20%20%20%20%20%20%20var%20html_e65bf716bcba4f0eac8fff6cea984304%20%3D%20%24%28%60%3Cdiv%20id%3D%22html_e65bf716bcba4f0eac8fff6cea984304%22%20style%3D%22width%3A%20100.0%25%3B%20height%3A%20100.0%25%3B%22%3EEtimesgut%3C/div%3E%60%29%5B0%5D%3B%0A%20%20%20%20%20%20%20%20%20%20%20%20popup_608e2cbfe97a4ca28cbb8eb01beb9168.setContent%28html_e65bf716bcba4f0eac8fff6cea984304%29%3B%0A%20%20%20%20%20%20%20%20%0A%0A%20%20%20%20%20%20%20%20marker_934db6715a804aeab7f8647ccf05437c.bindPopup%28popup_608e2cbfe97a4ca28cbb8eb01beb9168%29%0A%20%20%20%20%20%20%20%20%3B%0A%0A%20%20%20%20%20%20%20%20%0A%20%20%20%20%0A%20%20%20%20%0A%20%20%20%20%20%20%20%20%20%20%20%20var%20marker_0d7917bef28c4d8c8e899275fc5e71eb%20%3D%20L.marker%28%0A%20%20%20%20%20%20%20%20%20%20%20%20%20%20%20%20%5B39.0221203%2C%2033.8078573%5D%2C%0A%20%20%20%20%20%20%20%20%20%20%20%20%20%20%20%20%7B%7D%0A%20%20%20%20%20%20%20%20%20%20%20%20%29.addTo%28map_873c7bf2610947a59b02631752d014e4%29%3B%0A%20%20%20%20%20%20%20%20%0A%20%20%20%20%0A%20%20%20%20%20%20%20%20%20%20%20%20var%20icon_0821db148b3d4f5f9c3c0eff5bdacb81%20%3D%20L.AwesomeMarkers.icon%28%0A%20%20%20%20%20%20%20%20%20%20%20%20%20%20%20%20%7B%22extraClasses%22%3A%20%22fa-rotate-0%22%2C%20%22icon%22%3A%20%22info-sign%22%2C%20%22iconColor%22%3A%20%22white%22%2C%20%22markerColor%22%3A%20%22red%22%2C%20%22prefix%22%3A%20%22glyphicon%22%7D%0A%20%20%20%20%20%20%20%20%20%20%20%20%29%3B%0A%20%20%20%20%20%20%20%20%20%20%20%20marker_0d7917bef28c4d8c8e899275fc5e71eb.setIcon%28icon_0821db148b3d4f5f9c3c0eff5bdacb81%29%3B%0A%20%20%20%20%20%20%20%20%0A%20%20%20%20%0A%20%20%20%20%20%20%20%20var%20popup_8b76f39ff1e54434b37799d1a3355805%20%3D%20L.popup%28%7B%22maxWidth%22%3A%20%22100%25%22%7D%29%3B%0A%0A%20%20%20%20%20%20%20%20%0A%20%20%20%20%20%20%20%20%20%20%20%20var%20html_1d14b1a51228423697ae18d456931568%20%3D%20%24%28%60%3Cdiv%20id%3D%22html_1d14b1a51228423697ae18d456931568%22%20style%3D%22width%3A%20100.0%25%3B%20height%3A%20100.0%25%3B%22%3EEvren%3C/div%3E%60%29%5B0%5D%3B%0A%20%20%20%20%20%20%20%20%20%20%20%20popup_8b76f39ff1e54434b37799d1a3355805.setContent%28html_1d14b1a51228423697ae18d456931568%29%3B%0A%20%20%20%20%20%20%20%20%0A%0A%20%20%20%20%20%20%20%20marker_0d7917bef28c4d8c8e899275fc5e71eb.bindPopup%28popup_8b76f39ff1e54434b37799d1a3355805%29%0A%20%20%20%20%20%20%20%20%3B%0A%0A%20%20%20%20%20%20%20%20%0A%20%20%20%20%0A%20%20%20%20%0A%20%20%20%20%20%20%20%20%20%20%20%20var%20marker_a48361639a764e458ad4ea58a3a100e2%20%3D%20L.marker%28%0A%20%20%20%20%20%20%20%20%20%20%20%20%20%20%20%20%5B39.5326773%2C%2032.750224153853964%5D%2C%0A%20%20%20%20%20%20%20%20%20%20%20%20%20%20%20%20%7B%7D%0A%20%20%20%20%20%20%20%20%20%20%20%20%29.addTo%28map_873c7bf2610947a59b02631752d014e4%29%3B%0A%20%20%20%20%20%20%20%20%0A%20%20%20%20%0A%20%20%20%20%20%20%20%20%20%20%20%20var%20icon_b5fee2f8320d4908a2107fd7a307e34b%20%3D%20L.AwesomeMarkers.icon%28%0A%20%20%20%20%20%20%20%20%20%20%20%20%20%20%20%20%7B%22extraClasses%22%3A%20%22fa-rotate-0%22%2C%20%22icon%22%3A%20%22info-sign%22%2C%20%22iconColor%22%3A%20%22white%22%2C%20%22markerColor%22%3A%20%22red%22%2C%20%22prefix%22%3A%20%22glyphicon%22%7D%0A%20%20%20%20%20%20%20%20%20%20%20%20%29%3B%0A%20%20%20%20%20%20%20%20%20%20%20%20marker_a48361639a764e458ad4ea58a3a100e2.setIcon%28icon_b5fee2f8320d4908a2107fd7a307e34b%29%3B%0A%20%20%20%20%20%20%20%20%0A%20%20%20%20%0A%20%20%20%20%20%20%20%20var%20popup_f59c50a08bb64e6faf8bb69d5b54b0d0%20%3D%20L.popup%28%7B%22maxWidth%22%3A%20%22100%25%22%7D%29%3B%0A%0A%20%20%20%20%20%20%20%20%0A%20%20%20%20%20%20%20%20%20%20%20%20var%20html_c18c5256af814b098dbb051343ab1f41%20%3D%20%24%28%60%3Cdiv%20id%3D%22html_c18c5256af814b098dbb051343ab1f41%22%20style%3D%22width%3A%20100.0%25%3B%20height%3A%20100.0%25%3B%22%3EG%C3%B6lba%C5%9F%C4%B1%3C/div%3E%60%29%5B0%5D%3B%0A%20%20%20%20%20%20%20%20%20%20%20%20popup_f59c50a08bb64e6faf8bb69d5b54b0d0.setContent%28html_c18c5256af814b098dbb051343ab1f41%29%3B%0A%20%20%20%20%20%20%20%20%0A%0A%20%20%20%20%20%20%20%20marker_a48361639a764e458ad4ea58a3a100e2.bindPopup%28popup_f59c50a08bb64e6faf8bb69d5b54b0d0%29%0A%20%20%20%20%20%20%20%20%3B%0A%0A%20%20%20%20%20%20%20%20%0A%20%20%20%20%0A%20%20%20%20%0A%20%20%20%20%20%20%20%20%20%20%20%20var%20marker_74d1ee02b89f4dca9bb2171140abede5%20%3D%20L.marker%28%0A%20%20%20%20%20%20%20%20%20%20%20%20%20%20%20%20%5B40.201166099999995%2C%2032.23581972045762%5D%2C%0A%20%20%20%20%20%20%20%20%20%20%20%20%20%20%20%20%7B%7D%0A%20%20%20%20%20%20%20%20%20%20%20%20%29.addTo%28map_873c7bf2610947a59b02631752d014e4%29%3B%0A%20%20%20%20%20%20%20%20%0A%20%20%20%20%0A%20%20%20%20%20%20%20%20%20%20%20%20var%20icon_25adb4e87bad4ee9ae52ea5d24ba8e98%20%3D%20L.AwesomeMarkers.icon%28%0A%20%20%20%20%20%20%20%20%20%20%20%20%20%20%20%20%7B%22extraClasses%22%3A%20%22fa-rotate-0%22%2C%20%22icon%22%3A%20%22info-sign%22%2C%20%22iconColor%22%3A%20%22white%22%2C%20%22markerColor%22%3A%20%22red%22%2C%20%22prefix%22%3A%20%22glyphicon%22%7D%0A%20%20%20%20%20%20%20%20%20%20%20%20%29%3B%0A%20%20%20%20%20%20%20%20%20%20%20%20marker_74d1ee02b89f4dca9bb2171140abede5.setIcon%28icon_25adb4e87bad4ee9ae52ea5d24ba8e98%29%3B%0A%20%20%20%20%20%20%20%20%0A%20%20%20%20%0A%20%20%20%20%20%20%20%20var%20popup_d1dc2306b0b842f3965235d7375b1b36%20%3D%20L.popup%28%7B%22maxWidth%22%3A%20%22100%25%22%7D%29%3B%0A%0A%20%20%20%20%20%20%20%20%0A%20%20%20%20%20%20%20%20%20%20%20%20var%20html_b5aee84a1f2443fd950c380911c9b1b5%20%3D%20%24%28%60%3Cdiv%20id%3D%22html_b5aee84a1f2443fd950c380911c9b1b5%22%20style%3D%22width%3A%20100.0%25%3B%20height%3A%20100.0%25%3B%22%3EG%C3%BCd%C3%BCl%3C/div%3E%60%29%5B0%5D%3B%0A%20%20%20%20%20%20%20%20%20%20%20%20popup_d1dc2306b0b842f3965235d7375b1b36.setContent%28html_b5aee84a1f2443fd950c380911c9b1b5%29%3B%0A%20%20%20%20%20%20%20%20%0A%0A%20%20%20%20%20%20%20%20marker_74d1ee02b89f4dca9bb2171140abede5.bindPopup%28popup_d1dc2306b0b842f3965235d7375b1b36%29%0A%20%20%20%20%20%20%20%20%3B%0A%0A%20%20%20%20%20%20%20%20%0A%20%20%20%20%0A%20%20%20%20%0A%20%20%20%20%20%20%20%20%20%20%20%20var%20marker_0bde1463fcbd45669cd336aa93fd44f3%20%3D%20L.marker%28%0A%20%20%20%20%20%20%20%20%20%20%20%20%20%20%20%20%5B39.4342821%2C%2032.5004065%5D%2C%0A%20%20%20%20%20%20%20%20%20%20%20%20%20%20%20%20%7B%7D%0A%20%20%20%20%20%20%20%20%20%20%20%20%29.addTo%28map_873c7bf2610947a59b02631752d014e4%29%3B%0A%20%20%20%20%20%20%20%20%0A%20%20%20%20%0A%20%20%20%20%20%20%20%20%20%20%20%20var%20icon_5b1855f68b724f9aaea497e3ef88c21e%20%3D%20L.AwesomeMarkers.icon%28%0A%20%20%20%20%20%20%20%20%20%20%20%20%20%20%20%20%7B%22extraClasses%22%3A%20%22fa-rotate-0%22%2C%20%22icon%22%3A%20%22info-sign%22%2C%20%22iconColor%22%3A%20%22white%22%2C%20%22markerColor%22%3A%20%22red%22%2C%20%22prefix%22%3A%20%22glyphicon%22%7D%0A%20%20%20%20%20%20%20%20%20%20%20%20%29%3B%0A%20%20%20%20%20%20%20%20%20%20%20%20marker_0bde1463fcbd45669cd336aa93fd44f3.setIcon%28icon_5b1855f68b724f9aaea497e3ef88c21e%29%3B%0A%20%20%20%20%20%20%20%20%0A%20%20%20%20%0A%20%20%20%20%20%20%20%20var%20popup_f8d2947764a745d5b625c01ad872a3f1%20%3D%20L.popup%28%7B%22maxWidth%22%3A%20%22100%25%22%7D%29%3B%0A%0A%20%20%20%20%20%20%20%20%0A%20%20%20%20%20%20%20%20%20%20%20%20var%20html_abdb7fcef54b4be19c86139b8d8ecd08%20%3D%20%24%28%60%3Cdiv%20id%3D%22html_abdb7fcef54b4be19c86139b8d8ecd08%22%20style%3D%22width%3A%20100.0%25%3B%20height%3A%20100.0%25%3B%22%3EHaymana%3C/div%3E%60%29%5B0%5D%3B%0A%20%20%20%20%20%20%20%20%20%20%20%20popup_f8d2947764a745d5b625c01ad872a3f1.setContent%28html_abdb7fcef54b4be19c86139b8d8ecd08%29%3B%0A%20%20%20%20%20%20%20%20%0A%0A%20%20%20%20%20%20%20%20marker_0bde1463fcbd45669cd336aa93fd44f3.bindPopup%28popup_f8d2947764a745d5b625c01ad872a3f1%29%0A%20%20%20%20%20%20%20%20%3B%0A%0A%20%20%20%20%20%20%20%20%0A%20%20%20%20%0A%20%20%20%20%0A%20%20%20%20%20%20%20%20%20%20%20%20var%20marker_01c9a95f3ae54771926a06c0d230df37%20%3D%20L.marker%28%0A%20%20%20%20%20%20%20%20%20%20%20%20%20%20%20%20%5B40.1863626%2C%2032.66192281501395%5D%2C%0A%20%20%20%20%20%20%20%20%20%20%20%20%20%20%20%20%7B%7D%0A%20%20%20%20%20%20%20%20%20%20%20%20%29.addTo%28map_873c7bf2610947a59b02631752d014e4%29%3B%0A%20%20%20%20%20%20%20%20%0A%20%20%20%20%0A%20%20%20%20%20%20%20%20%20%20%20%20var%20icon_de9bc8508a1242b4a6f4278f3ae9d8cb%20%3D%20L.AwesomeMarkers.icon%28%0A%20%20%20%20%20%20%20%20%20%20%20%20%20%20%20%20%7B%22extraClasses%22%3A%20%22fa-rotate-0%22%2C%20%22icon%22%3A%20%22info-sign%22%2C%20%22iconColor%22%3A%20%22white%22%2C%20%22markerColor%22%3A%20%22red%22%2C%20%22prefix%22%3A%20%22glyphicon%22%7D%0A%20%20%20%20%20%20%20%20%20%20%20%20%29%3B%0A%20%20%20%20%20%20%20%20%20%20%20%20marker_01c9a95f3ae54771926a06c0d230df37.setIcon%28icon_de9bc8508a1242b4a6f4278f3ae9d8cb%29%3B%0A%20%20%20%20%20%20%20%20%0A%20%20%20%20%0A%20%20%20%20%20%20%20%20var%20popup_51a941c3693147cba5032fae8e0be692%20%3D%20L.popup%28%7B%22maxWidth%22%3A%20%22100%25%22%7D%29%3B%0A%0A%20%20%20%20%20%20%20%20%0A%20%20%20%20%20%20%20%20%20%20%20%20var%20html_52114ff77436478e8e0125c9c3fe7d4f%20%3D%20%24%28%60%3Cdiv%20id%3D%22html_52114ff77436478e8e0125c9c3fe7d4f%22%20style%3D%22width%3A%20100.0%25%3B%20height%3A%20100.0%25%3B%22%3EKahramankazan%3C/div%3E%60%29%5B0%5D%3B%0A%20%20%20%20%20%20%20%20%20%20%20%20popup_51a941c3693147cba5032fae8e0be692.setContent%28html_52114ff77436478e8e0125c9c3fe7d4f%29%3B%0A%20%20%20%20%20%20%20%20%0A%0A%20%20%20%20%20%20%20%20marker_01c9a95f3ae54771926a06c0d230df37.bindPopup%28popup_51a941c3693147cba5032fae8e0be692%29%0A%20%20%20%20%20%20%20%20%3B%0A%0A%20%20%20%20%20%20%20%20%0A%20%20%20%20%0A%20%20%20%20%0A%20%20%20%20%20%20%20%20%20%20%20%20var%20marker_82d0ac036e324478ba9f185680020c61%20%3D%20L.marker%28%0A%20%20%20%20%20%20%20%20%20%20%20%20%20%20%20%20%5B40.1774962%2C%2033.45093807207213%5D%2C%0A%20%20%20%20%20%20%20%20%20%20%20%20%20%20%20%20%7B%7D%0A%20%20%20%20%20%20%20%20%20%20%20%20%29.addTo%28map_873c7bf2610947a59b02631752d014e4%29%3B%0A%20%20%20%20%20%20%20%20%0A%20%20%20%20%0A%20%20%20%20%20%20%20%20%20%20%20%20var%20icon_5be2bac9403b47efa5e84276ae81255b%20%3D%20L.AwesomeMarkers.icon%28%0A%20%20%20%20%20%20%20%20%20%20%20%20%20%20%20%20%7B%22extraClasses%22%3A%20%22fa-rotate-0%22%2C%20%22icon%22%3A%20%22info-sign%22%2C%20%22iconColor%22%3A%20%22white%22%2C%20%22markerColor%22%3A%20%22red%22%2C%20%22prefix%22%3A%20%22glyphicon%22%7D%0A%20%20%20%20%20%20%20%20%20%20%20%20%29%3B%0A%20%20%20%20%20%20%20%20%20%20%20%20marker_82d0ac036e324478ba9f185680020c61.setIcon%28icon_5be2bac9403b47efa5e84276ae81255b%29%3B%0A%20%20%20%20%20%20%20%20%0A%20%20%20%20%0A%20%20%20%20%20%20%20%20var%20popup_905452ca22a54187adf84e3be39cccc3%20%3D%20L.popup%28%7B%22maxWidth%22%3A%20%22100%25%22%7D%29%3B%0A%0A%20%20%20%20%20%20%20%20%0A%20%20%20%20%20%20%20%20%20%20%20%20var%20html_8a44c95cf8c24d1dbbf1cfce8778126c%20%3D%20%24%28%60%3Cdiv%20id%3D%22html_8a44c95cf8c24d1dbbf1cfce8778126c%22%20style%3D%22width%3A%20100.0%25%3B%20height%3A%20100.0%25%3B%22%3EKalecik%3C/div%3E%60%29%5B0%5D%3B%0A%20%20%20%20%20%20%20%20%20%20%20%20popup_905452ca22a54187adf84e3be39cccc3.setContent%28html_8a44c95cf8c24d1dbbf1cfce8778126c%29%3B%0A%20%20%20%20%20%20%20%20%0A%0A%20%20%20%20%20%20%20%20marker_82d0ac036e324478ba9f185680020c61.bindPopup%28popup_905452ca22a54187adf84e3be39cccc3%29%0A%20%20%20%20%20%20%20%20%3B%0A%0A%20%20%20%20%20%20%20%20%0A%20%20%20%20%0A%20%20%20%20%0A%20%20%20%20%20%20%20%20%20%20%20%20var%20marker_16f617e1ccc3435b903dbf94b5e857d2%20%3D%20L.marker%28%0A%20%20%20%20%20%20%20%20%20%20%20%20%20%20%20%20%5B39.9909199%2C%2032.8518185%5D%2C%0A%20%20%20%20%20%20%20%20%20%20%20%20%20%20%20%20%7B%7D%0A%20%20%20%20%20%20%20%20%20%20%20%20%29.addTo%28map_873c7bf2610947a59b02631752d014e4%29%3B%0A%20%20%20%20%20%20%20%20%0A%20%20%20%20%0A%20%20%20%20%20%20%20%20%20%20%20%20var%20icon_48ef83944eaf4b2e9df2eeae67f6ee1f%20%3D%20L.AwesomeMarkers.icon%28%0A%20%20%20%20%20%20%20%20%20%20%20%20%20%20%20%20%7B%22extraClasses%22%3A%20%22fa-rotate-0%22%2C%20%22icon%22%3A%20%22info-sign%22%2C%20%22iconColor%22%3A%20%22white%22%2C%20%22markerColor%22%3A%20%22red%22%2C%20%22prefix%22%3A%20%22glyphicon%22%7D%0A%20%20%20%20%20%20%20%20%20%20%20%20%29%3B%0A%20%20%20%20%20%20%20%20%20%20%20%20marker_16f617e1ccc3435b903dbf94b5e857d2.setIcon%28icon_48ef83944eaf4b2e9df2eeae67f6ee1f%29%3B%0A%20%20%20%20%20%20%20%20%0A%20%20%20%20%0A%20%20%20%20%20%20%20%20var%20popup_6f68f112d3a3481e94ef97ff938f0fc4%20%3D%20L.popup%28%7B%22maxWidth%22%3A%20%22100%25%22%7D%29%3B%0A%0A%20%20%20%20%20%20%20%20%0A%20%20%20%20%20%20%20%20%20%20%20%20var%20html_f4f0783e5f0447419bf75f29c6cbb48c%20%3D%20%24%28%60%3Cdiv%20id%3D%22html_f4f0783e5f0447419bf75f29c6cbb48c%22%20style%3D%22width%3A%20100.0%25%3B%20height%3A%20100.0%25%3B%22%3EKe%C3%A7i%C3%B6ren%3C/div%3E%60%29%5B0%5D%3B%0A%20%20%20%20%20%20%20%20%20%20%20%20popup_6f68f112d3a3481e94ef97ff938f0fc4.setContent%28html_f4f0783e5f0447419bf75f29c6cbb48c%29%3B%0A%20%20%20%20%20%20%20%20%0A%0A%20%20%20%20%20%20%20%20marker_16f617e1ccc3435b903dbf94b5e857d2.bindPopup%28popup_6f68f112d3a3481e94ef97ff938f0fc4%29%0A%20%20%20%20%20%20%20%20%3B%0A%0A%20%20%20%20%20%20%20%20%0A%20%20%20%20%0A%20%20%20%20%0A%20%20%20%20%20%20%20%20%20%20%20%20var%20marker_3af5abe31c1c49c6be2f591c5ae9a59f%20%3D%20L.marker%28%0A%20%20%20%20%20%20%20%20%20%20%20%20%20%20%20%20%5B40.48322135%2C%2032.727048031840965%5D%2C%0A%20%20%20%20%20%20%20%20%20%20%20%20%20%20%20%20%7B%7D%0A%20%20%20%20%20%20%20%20%20%20%20%20%29.addTo%28map_873c7bf2610947a59b02631752d014e4%29%3B%0A%20%20%20%20%20%20%20%20%0A%20%20%20%20%0A%20%20%20%20%20%20%20%20%20%20%20%20var%20icon_51c0f50679dd42af90d6f6669e9fd876%20%3D%20L.AwesomeMarkers.icon%28%0A%20%20%20%20%20%20%20%20%20%20%20%20%20%20%20%20%7B%22extraClasses%22%3A%20%22fa-rotate-0%22%2C%20%22icon%22%3A%20%22info-sign%22%2C%20%22iconColor%22%3A%20%22white%22%2C%20%22markerColor%22%3A%20%22red%22%2C%20%22prefix%22%3A%20%22glyphicon%22%7D%0A%20%20%20%20%20%20%20%20%20%20%20%20%29%3B%0A%20%20%20%20%20%20%20%20%20%20%20%20marker_3af5abe31c1c49c6be2f591c5ae9a59f.setIcon%28icon_51c0f50679dd42af90d6f6669e9fd876%29%3B%0A%20%20%20%20%20%20%20%20%0A%20%20%20%20%0A%20%20%20%20%20%20%20%20var%20popup_c2c449de993c44c7b7bebae86729bfc3%20%3D%20L.popup%28%7B%22maxWidth%22%3A%20%22100%25%22%7D%29%3B%0A%0A%20%20%20%20%20%20%20%20%0A%20%20%20%20%20%20%20%20%20%20%20%20var%20html_ca1713d19d6b4365be809ed776a27984%20%3D%20%24%28%60%3Cdiv%20id%3D%22html_ca1713d19d6b4365be809ed776a27984%22%20style%3D%22width%3A%20100.0%25%3B%20height%3A%20100.0%25%3B%22%3EK%C4%B1z%C4%B1lcahamam%3C/div%3E%60%29%5B0%5D%3B%0A%20%20%20%20%20%20%20%20%20%20%20%20popup_c2c449de993c44c7b7bebae86729bfc3.setContent%28html_ca1713d19d6b4365be809ed776a27984%29%3B%0A%20%20%20%20%20%20%20%20%0A%0A%20%20%20%20%20%20%20%20marker_3af5abe31c1c49c6be2f591c5ae9a59f.bindPopup%28popup_c2c449de993c44c7b7bebae86729bfc3%29%0A%20%20%20%20%20%20%20%20%3B%0A%0A%20%20%20%20%20%20%20%20%0A%20%20%20%20%0A%20%20%20%20%0A%20%20%20%20%20%20%20%20%20%20%20%20var%20marker_434c10ada737431e99a118821bcb1ed6%20%3D%20L.marker%28%0A%20%20%20%20%20%20%20%20%20%20%20%20%20%20%20%20%5B39.9214356%2C%2032.9179539%5D%2C%0A%20%20%20%20%20%20%20%20%20%20%20%20%20%20%20%20%7B%7D%0A%20%20%20%20%20%20%20%20%20%20%20%20%29.addTo%28map_873c7bf2610947a59b02631752d014e4%29%3B%0A%20%20%20%20%20%20%20%20%0A%20%20%20%20%0A%20%20%20%20%20%20%20%20%20%20%20%20var%20icon_4ea748c17e5343348f269fecbc011e32%20%3D%20L.AwesomeMarkers.icon%28%0A%20%20%20%20%20%20%20%20%20%20%20%20%20%20%20%20%7B%22extraClasses%22%3A%20%22fa-rotate-0%22%2C%20%22icon%22%3A%20%22info-sign%22%2C%20%22iconColor%22%3A%20%22white%22%2C%20%22markerColor%22%3A%20%22red%22%2C%20%22prefix%22%3A%20%22glyphicon%22%7D%0A%20%20%20%20%20%20%20%20%20%20%20%20%29%3B%0A%20%20%20%20%20%20%20%20%20%20%20%20marker_434c10ada737431e99a118821bcb1ed6.setIcon%28icon_4ea748c17e5343348f269fecbc011e32%29%3B%0A%20%20%20%20%20%20%20%20%0A%20%20%20%20%0A%20%20%20%20%20%20%20%20var%20popup_4af8ef3392634d8983b2247108772f24%20%3D%20L.popup%28%7B%22maxWidth%22%3A%20%22100%25%22%7D%29%3B%0A%0A%20%20%20%20%20%20%20%20%0A%20%20%20%20%20%20%20%20%20%20%20%20var%20html_6706b82ee31646158963e32b36c2fc45%20%3D%20%24%28%60%3Cdiv%20id%3D%22html_6706b82ee31646158963e32b36c2fc45%22%20style%3D%22width%3A%20100.0%25%3B%20height%3A%20100.0%25%3B%22%3EMamak%3C/div%3E%60%29%5B0%5D%3B%0A%20%20%20%20%20%20%20%20%20%20%20%20popup_4af8ef3392634d8983b2247108772f24.setContent%28html_6706b82ee31646158963e32b36c2fc45%29%3B%0A%20%20%20%20%20%20%20%20%0A%0A%20%20%20%20%20%20%20%20marker_434c10ada737431e99a118821bcb1ed6.bindPopup%28popup_4af8ef3392634d8983b2247108772f24%29%0A%20%20%20%20%20%20%20%20%3B%0A%0A%20%20%20%20%20%20%20%20%0A%20%20%20%20%0A%20%20%20%20%0A%20%20%20%20%20%20%20%20%20%20%20%20var%20marker_6937728c27d1447fbb37175886eac684%20%3D%20L.marker%28%0A%20%20%20%20%20%20%20%20%20%20%20%20%20%20%20%20%5B40.1872424%2C%2031.3512768%5D%2C%0A%20%20%20%20%20%20%20%20%20%20%20%20%20%20%20%20%7B%7D%0A%20%20%20%20%20%20%20%20%20%20%20%20%29.addTo%28map_873c7bf2610947a59b02631752d014e4%29%3B%0A%20%20%20%20%20%20%20%20%0A%20%20%20%20%0A%20%20%20%20%20%20%20%20%20%20%20%20var%20icon_29b8e08afd3d4dfc8fcc3547d6252fb4%20%3D%20L.AwesomeMarkers.icon%28%0A%20%20%20%20%20%20%20%20%20%20%20%20%20%20%20%20%7B%22extraClasses%22%3A%20%22fa-rotate-0%22%2C%20%22icon%22%3A%20%22info-sign%22%2C%20%22iconColor%22%3A%20%22white%22%2C%20%22markerColor%22%3A%20%22red%22%2C%20%22prefix%22%3A%20%22glyphicon%22%7D%0A%20%20%20%20%20%20%20%20%20%20%20%20%29%3B%0A%20%20%20%20%20%20%20%20%20%20%20%20marker_6937728c27d1447fbb37175886eac684.setIcon%28icon_29b8e08afd3d4dfc8fcc3547d6252fb4%29%3B%0A%20%20%20%20%20%20%20%20%0A%20%20%20%20%0A%20%20%20%20%20%20%20%20var%20popup_d80d76bd93a7425b8b7cb56568aeb23b%20%3D%20L.popup%28%7B%22maxWidth%22%3A%20%22100%25%22%7D%29%3B%0A%0A%20%20%20%20%20%20%20%20%0A%20%20%20%20%20%20%20%20%20%20%20%20var%20html_82ee1da5f8784b308596834156dc2d74%20%3D%20%24%28%60%3Cdiv%20id%3D%22html_82ee1da5f8784b308596834156dc2d74%22%20style%3D%22width%3A%20100.0%25%3B%20height%3A%20100.0%25%3B%22%3ENall%C4%B1han%3C/div%3E%60%29%5B0%5D%3B%0A%20%20%20%20%20%20%20%20%20%20%20%20popup_d80d76bd93a7425b8b7cb56568aeb23b.setContent%28html_82ee1da5f8784b308596834156dc2d74%29%3B%0A%20%20%20%20%20%20%20%20%0A%0A%20%20%20%20%20%20%20%20marker_6937728c27d1447fbb37175886eac684.bindPopup%28popup_d80d76bd93a7425b8b7cb56568aeb23b%29%0A%20%20%20%20%20%20%20%20%3B%0A%0A%20%20%20%20%20%20%20%20%0A%20%20%20%20%0A%20%20%20%20%0A%20%20%20%20%20%20%20%20%20%20%20%20var%20marker_5b7bdb779eb245f492235ce62210db8f%20%3D%20L.marker%28%0A%20%20%20%20%20%20%20%20%20%20%20%20%20%20%20%20%5B39.4579327%2C%2032.17548926450625%5D%2C%0A%20%20%20%20%20%20%20%20%20%20%20%20%20%20%20%20%7B%7D%0A%20%20%20%20%20%20%20%20%20%20%20%20%29.addTo%28map_873c7bf2610947a59b02631752d014e4%29%3B%0A%20%20%20%20%20%20%20%20%0A%20%20%20%20%0A%20%20%20%20%20%20%20%20%20%20%20%20var%20icon_e21a0f91bc9b453c95e03a1c48fe3cd6%20%3D%20L.AwesomeMarkers.icon%28%0A%20%20%20%20%20%20%20%20%20%20%20%20%20%20%20%20%7B%22extraClasses%22%3A%20%22fa-rotate-0%22%2C%20%22icon%22%3A%20%22info-sign%22%2C%20%22iconColor%22%3A%20%22white%22%2C%20%22markerColor%22%3A%20%22red%22%2C%20%22prefix%22%3A%20%22glyphicon%22%7D%0A%20%20%20%20%20%20%20%20%20%20%20%20%29%3B%0A%20%20%20%20%20%20%20%20%20%20%20%20marker_5b7bdb779eb245f492235ce62210db8f.setIcon%28icon_e21a0f91bc9b453c95e03a1c48fe3cd6%29%3B%0A%20%20%20%20%20%20%20%20%0A%20%20%20%20%0A%20%20%20%20%20%20%20%20var%20popup_450a6b4a4c85417ab0c51a59eb8335e2%20%3D%20L.popup%28%7B%22maxWidth%22%3A%20%22100%25%22%7D%29%3B%0A%0A%20%20%20%20%20%20%20%20%0A%20%20%20%20%20%20%20%20%20%20%20%20var%20html_8cd33970032a4f8daaaf141b55315a90%20%3D%20%24%28%60%3Cdiv%20id%3D%22html_8cd33970032a4f8daaaf141b55315a90%22%20style%3D%22width%3A%20100.0%25%3B%20height%3A%20100.0%25%3B%22%3EPolatl%C4%B1%3C/div%3E%60%29%5B0%5D%3B%0A%20%20%20%20%20%20%20%20%20%20%20%20popup_450a6b4a4c85417ab0c51a59eb8335e2.setContent%28html_8cd33970032a4f8daaaf141b55315a90%29%3B%0A%20%20%20%20%20%20%20%20%0A%0A%20%20%20%20%20%20%20%20marker_5b7bdb779eb245f492235ce62210db8f.bindPopup%28popup_450a6b4a4c85417ab0c51a59eb8335e2%29%0A%20%20%20%20%20%20%20%20%3B%0A%0A%20%20%20%20%20%20%20%20%0A%20%20%20%20%0A%20%20%20%20%0A%20%20%20%20%20%20%20%20%20%20%20%20var%20marker_61c4b951facb4668a6495ccd87b112ad%20%3D%20L.marker%28%0A%20%20%20%20%20%20%20%20%20%20%20%20%20%20%20%20%5B40.1099398%2C%2032.865985470968134%5D%2C%0A%20%20%20%20%20%20%20%20%20%20%20%20%20%20%20%20%7B%7D%0A%20%20%20%20%20%20%20%20%20%20%20%20%29.addTo%28map_873c7bf2610947a59b02631752d014e4%29%3B%0A%20%20%20%20%20%20%20%20%0A%20%20%20%20%0A%20%20%20%20%20%20%20%20%20%20%20%20var%20icon_1c7a56b1e5014824bdc7cdb5db2893e9%20%3D%20L.AwesomeMarkers.icon%28%0A%20%20%20%20%20%20%20%20%20%20%20%20%20%20%20%20%7B%22extraClasses%22%3A%20%22fa-rotate-0%22%2C%20%22icon%22%3A%20%22info-sign%22%2C%20%22iconColor%22%3A%20%22white%22%2C%20%22markerColor%22%3A%20%22red%22%2C%20%22prefix%22%3A%20%22glyphicon%22%7D%0A%20%20%20%20%20%20%20%20%20%20%20%20%29%3B%0A%20%20%20%20%20%20%20%20%20%20%20%20marker_61c4b951facb4668a6495ccd87b112ad.setIcon%28icon_1c7a56b1e5014824bdc7cdb5db2893e9%29%3B%0A%20%20%20%20%20%20%20%20%0A%20%20%20%20%0A%20%20%20%20%20%20%20%20var%20popup_a6a440aa9e364f8493baeaf3b4f5d396%20%3D%20L.popup%28%7B%22maxWidth%22%3A%20%22100%25%22%7D%29%3B%0A%0A%20%20%20%20%20%20%20%20%0A%20%20%20%20%20%20%20%20%20%20%20%20var%20html_2f1b89e711a14bbbbbc902e4d792b085%20%3D%20%24%28%60%3Cdiv%20id%3D%22html_2f1b89e711a14bbbbbc902e4d792b085%22%20style%3D%22width%3A%20100.0%25%3B%20height%3A%20100.0%25%3B%22%3EPursaklar%3C/div%3E%60%29%5B0%5D%3B%0A%20%20%20%20%20%20%20%20%20%20%20%20popup_a6a440aa9e364f8493baeaf3b4f5d396.setContent%28html_2f1b89e711a14bbbbbc902e4d792b085%29%3B%0A%20%20%20%20%20%20%20%20%0A%0A%20%20%20%20%20%20%20%20marker_61c4b951facb4668a6495ccd87b112ad.bindPopup%28popup_a6a440aa9e364f8493baeaf3b4f5d396%29%0A%20%20%20%20%20%20%20%20%3B%0A%0A%20%20%20%20%20%20%20%20%0A%20%20%20%20%0A%20%20%20%20%0A%20%20%20%20%20%20%20%20%20%20%20%20var%20marker_1da64a4f3d214463946f286d9289698f%20%3D%20L.marker%28%0A%20%20%20%20%20%20%20%20%20%20%20%20%20%20%20%20%5B39.8879777%2C%2032.521480905793695%5D%2C%0A%20%20%20%20%20%20%20%20%20%20%20%20%20%20%20%20%7B%7D%0A%20%20%20%20%20%20%20%20%20%20%20%20%29.addTo%28map_873c7bf2610947a59b02631752d014e4%29%3B%0A%20%20%20%20%20%20%20%20%0A%20%20%20%20%0A%20%20%20%20%20%20%20%20%20%20%20%20var%20icon_0b69f1d82a5144e2acced3a2912572de%20%3D%20L.AwesomeMarkers.icon%28%0A%20%20%20%20%20%20%20%20%20%20%20%20%20%20%20%20%7B%22extraClasses%22%3A%20%22fa-rotate-0%22%2C%20%22icon%22%3A%20%22info-sign%22%2C%20%22iconColor%22%3A%20%22white%22%2C%20%22markerColor%22%3A%20%22red%22%2C%20%22prefix%22%3A%20%22glyphicon%22%7D%0A%20%20%20%20%20%20%20%20%20%20%20%20%29%3B%0A%20%20%20%20%20%20%20%20%20%20%20%20marker_1da64a4f3d214463946f286d9289698f.setIcon%28icon_0b69f1d82a5144e2acced3a2912572de%29%3B%0A%20%20%20%20%20%20%20%20%0A%20%20%20%20%0A%20%20%20%20%20%20%20%20var%20popup_e68546ca145f4a3e8cb4edac35092433%20%3D%20L.popup%28%7B%22maxWidth%22%3A%20%22100%25%22%7D%29%3B%0A%0A%20%20%20%20%20%20%20%20%0A%20%20%20%20%20%20%20%20%20%20%20%20var%20html_560fc82e86264f6ca59e469e44fe9a4d%20%3D%20%24%28%60%3Cdiv%20id%3D%22html_560fc82e86264f6ca59e469e44fe9a4d%22%20style%3D%22width%3A%20100.0%25%3B%20height%3A%20100.0%25%3B%22%3ESincan%3C/div%3E%60%29%5B0%5D%3B%0A%20%20%20%20%20%20%20%20%20%20%20%20popup_e68546ca145f4a3e8cb4edac35092433.setContent%28html_560fc82e86264f6ca59e469e44fe9a4d%29%3B%0A%20%20%20%20%20%20%20%20%0A%0A%20%20%20%20%20%20%20%20marker_1da64a4f3d214463946f286d9289698f.bindPopup%28popup_e68546ca145f4a3e8cb4edac35092433%29%0A%20%20%20%20%20%20%20%20%3B%0A%0A%20%20%20%20%20%20%20%20%0A%20%20%20%20%0A%20%20%20%20%0A%20%20%20%20%20%20%20%20%20%20%20%20var%20marker_28051ef0064346fdaa108cbf7f03089a%20%3D%20L.marker%28%0A%20%20%20%20%20%20%20%20%20%20%20%20%20%20%20%20%5B38.9400595%2C%2033.5415722%5D%2C%0A%20%20%20%20%20%20%20%20%20%20%20%20%20%20%20%20%7B%7D%0A%20%20%20%20%20%20%20%20%20%20%20%20%29.addTo%28map_873c7bf2610947a59b02631752d014e4%29%3B%0A%20%20%20%20%20%20%20%20%0A%20%20%20%20%0A%20%20%20%20%20%20%20%20%20%20%20%20var%20icon_b46b19e285bf4b3e8fd5dab6f4300e57%20%3D%20L.AwesomeMarkers.icon%28%0A%20%20%20%20%20%20%20%20%20%20%20%20%20%20%20%20%7B%22extraClasses%22%3A%20%22fa-rotate-0%22%2C%20%22icon%22%3A%20%22info-sign%22%2C%20%22iconColor%22%3A%20%22white%22%2C%20%22markerColor%22%3A%20%22red%22%2C%20%22prefix%22%3A%20%22glyphicon%22%7D%0A%20%20%20%20%20%20%20%20%20%20%20%20%29%3B%0A%20%20%20%20%20%20%20%20%20%20%20%20marker_28051ef0064346fdaa108cbf7f03089a.setIcon%28icon_b46b19e285bf4b3e8fd5dab6f4300e57%29%3B%0A%20%20%20%20%20%20%20%20%0A%20%20%20%20%0A%20%20%20%20%20%20%20%20var%20popup_663c7e0c73364fd08b5da56cc1523288%20%3D%20L.popup%28%7B%22maxWidth%22%3A%20%22100%25%22%7D%29%3B%0A%0A%20%20%20%20%20%20%20%20%0A%20%20%20%20%20%20%20%20%20%20%20%20var%20html_4bf65c81b0604f7cb19b3aa322ec27d0%20%3D%20%24%28%60%3Cdiv%20id%3D%22html_4bf65c81b0604f7cb19b3aa322ec27d0%22%20style%3D%22width%3A%20100.0%25%3B%20height%3A%20100.0%25%3B%22%3E%C5%9Eerefliko%C3%A7hisar%3C/div%3E%60%29%5B0%5D%3B%0A%20%20%20%20%20%20%20%20%20%20%20%20popup_663c7e0c73364fd08b5da56cc1523288.setContent%28html_4bf65c81b0604f7cb19b3aa322ec27d0%29%3B%0A%20%20%20%20%20%20%20%20%0A%0A%20%20%20%20%20%20%20%20marker_28051ef0064346fdaa108cbf7f03089a.bindPopup%28popup_663c7e0c73364fd08b5da56cc1523288%29%0A%20%20%20%20%20%20%20%20%3B%0A%0A%20%20%20%20%20%20%20%20%0A%20%20%20%20%0A%20%20%20%20%0A%20%20%20%20%20%20%20%20%20%20%20%20var%20marker_e221511850ee4d8aa81a7079787de05e%20%3D%20L.marker%28%0A%20%20%20%20%20%20%20%20%20%20%20%20%20%20%20%20%5B40.00873125%2C%2032.6824433703666%5D%2C%0A%20%20%20%20%20%20%20%20%20%20%20%20%20%20%20%20%7B%7D%0A%20%20%20%20%20%20%20%20%20%20%20%20%29.addTo%28map_873c7bf2610947a59b02631752d014e4%29%3B%0A%20%20%20%20%20%20%20%20%0A%20%20%20%20%0A%20%20%20%20%20%20%20%20%20%20%20%20var%20icon_cd26c2bd6c03493d90851db5ef6f0184%20%3D%20L.AwesomeMarkers.icon%28%0A%20%20%20%20%20%20%20%20%20%20%20%20%20%20%20%20%7B%22extraClasses%22%3A%20%22fa-rotate-0%22%2C%20%22icon%22%3A%20%22info-sign%22%2C%20%22iconColor%22%3A%20%22white%22%2C%20%22markerColor%22%3A%20%22red%22%2C%20%22prefix%22%3A%20%22glyphicon%22%7D%0A%20%20%20%20%20%20%20%20%20%20%20%20%29%3B%0A%20%20%20%20%20%20%20%20%20%20%20%20marker_e221511850ee4d8aa81a7079787de05e.setIcon%28icon_cd26c2bd6c03493d90851db5ef6f0184%29%3B%0A%20%20%20%20%20%20%20%20%0A%20%20%20%20%0A%20%20%20%20%20%20%20%20var%20popup_d3e9aceae58e481d876e2823cc3dc93d%20%3D%20L.popup%28%7B%22maxWidth%22%3A%20%22100%25%22%7D%29%3B%0A%0A%20%20%20%20%20%20%20%20%0A%20%20%20%20%20%20%20%20%20%20%20%20var%20html_325752c9ab8b40f5af541591d704dd37%20%3D%20%24%28%60%3Cdiv%20id%3D%22html_325752c9ab8b40f5af541591d704dd37%22%20style%3D%22width%3A%20100.0%25%3B%20height%3A%20100.0%25%3B%22%3EYenimahalle%3C/div%3E%60%29%5B0%5D%3B%0A%20%20%20%20%20%20%20%20%20%20%20%20popup_d3e9aceae58e481d876e2823cc3dc93d.setContent%28html_325752c9ab8b40f5af541591d704dd37%29%3B%0A%20%20%20%20%20%20%20%20%0A%0A%20%20%20%20%20%20%20%20marker_e221511850ee4d8aa81a7079787de05e.bindPopup%28popup_d3e9aceae58e481d876e2823cc3dc93d%29%0A%20%20%20%20%20%20%20%20%3B%0A%0A%20%20%20%20%20%20%20%20%0A%20%20%20%20%0A%20%20%20%20%0A%20%20%20%20%20%20%20%20%20%20%20%20var%20circle_marker_c281b11e16b449b39d5916025a4804ca%20%3D%20L.circleMarker%28%0A%20%20%20%20%20%20%20%20%20%20%20%20%20%20%20%20%5B40.125160449999996%2C%2033.153738676395655%5D%2C%0A%20%20%20%20%20%20%20%20%20%20%20%20%20%20%20%20%7B%22bubblingMouseEvents%22%3A%20true%2C%20%22color%22%3A%20%22%2369b3a2%22%2C%20%22dashArray%22%3A%20null%2C%20%22dashOffset%22%3A%20null%2C%20%22fill%22%3A%20true%2C%20%22fillColor%22%3A%20%22%2369b3a2%22%2C%20%22fillOpacity%22%3A%200.2%2C%20%22fillRule%22%3A%20%22evenodd%22%2C%20%22lineCap%22%3A%20%22round%22%2C%20%22lineJoin%22%3A%20%22round%22%2C%20%22opacity%22%3A%201.0%2C%20%22radius%22%3A%203.2862999999999998%2C%20%22stroke%22%3A%20true%2C%20%22weight%22%3A%203%7D%0A%20%20%20%20%20%20%20%20%20%20%20%20%29.addTo%28map_873c7bf2610947a59b02631752d014e4%29%3B%0A%20%20%20%20%20%20%20%20%0A%20%20%20%20%0A%20%20%20%20%20%20%20%20var%20popup_02f4af28d4de4a0db3f5f84230a17c07%20%3D%20L.popup%28%7B%22maxWidth%22%3A%20%22100%25%22%7D%29%3B%0A%0A%20%20%20%20%20%20%20%20%0A%20%20%20%20%20%20%20%20%20%20%20%20var%20html_12760e5aabd54d7094d740c9934df97b%20%3D%20%24%28%60%3Cdiv%20id%3D%22html_12760e5aabd54d7094d740c9934df97b%22%20style%3D%22width%3A%20100.0%25%3B%20height%3A%20100.0%25%3B%22%3EAkyurt%3C/div%3E%60%29%5B0%5D%3B%0A%20%20%20%20%20%20%20%20%20%20%20%20popup_02f4af28d4de4a0db3f5f84230a17c07.setContent%28html_12760e5aabd54d7094d740c9934df97b%29%3B%0A%20%20%20%20%20%20%20%20%0A%0A%20%20%20%20%20%20%20%20circle_marker_c281b11e16b449b39d5916025a4804ca.bindPopup%28popup_02f4af28d4de4a0db3f5f84230a17c07%29%0A%20%20%20%20%20%20%20%20%3B%0A%0A%20%20%20%20%20%20%20%20%0A%20%20%20%20%0A%20%20%20%20%0A%20%20%20%20%20%20%20%20%20%20%20%20var%20circle_marker_cb7ba28f7c8e404d93a08d0afd6d3b7b%20%3D%20L.circleMarker%28%0A%20%20%20%20%20%20%20%20%20%20%20%20%20%20%20%20%5B39.99097405%2C%2032.99869750658688%5D%2C%0A%20%20%20%20%20%20%20%20%20%20%20%20%20%20%20%20%7B%22bubblingMouseEvents%22%3A%20true%2C%20%22color%22%3A%20%22%2369b3a2%22%2C%20%22dashArray%22%3A%20null%2C%20%22dashOffset%22%3A%20null%2C%20%22fill%22%3A%20true%2C%20%22fillColor%22%3A%20%22%2369b3a2%22%2C%20%22fillOpacity%22%3A%200.2%2C%20%22fillRule%22%3A%20%22evenodd%22%2C%20%22lineCap%22%3A%20%22round%22%2C%20%22lineJoin%22%3A%20%22round%22%2C%20%22opacity%22%3A%201.0%2C%20%22radius%22%3A%2037.1366%2C%20%22stroke%22%3A%20true%2C%20%22weight%22%3A%203%7D%0A%20%20%20%20%20%20%20%20%20%20%20%20%29.addTo%28map_873c7bf2610947a59b02631752d014e4%29%3B%0A%20%20%20%20%20%20%20%20%0A%20%20%20%20%0A%20%20%20%20%20%20%20%20var%20popup_1dd952229bec4781a8f096287db3296b%20%3D%20L.popup%28%7B%22maxWidth%22%3A%20%22100%25%22%7D%29%3B%0A%0A%20%20%20%20%20%20%20%20%0A%20%20%20%20%20%20%20%20%20%20%20%20var%20html_403f7e98ae2749f5adb7c9a668985e33%20%3D%20%24%28%60%3Cdiv%20id%3D%22html_403f7e98ae2749f5adb7c9a668985e33%22%20style%3D%22width%3A%20100.0%25%3B%20height%3A%20100.0%25%3B%22%3EAlt%C4%B1nda%C4%9F%3C/div%3E%60%29%5B0%5D%3B%0A%20%20%20%20%20%20%20%20%20%20%20%20popup_1dd952229bec4781a8f096287db3296b.setContent%28html_403f7e98ae2749f5adb7c9a668985e33%29%3B%0A%20%20%20%20%20%20%20%20%0A%0A%20%20%20%20%20%20%20%20circle_marker_cb7ba28f7c8e404d93a08d0afd6d3b7b.bindPopup%28popup_1dd952229bec4781a8f096287db3296b%29%0A%20%20%20%20%20%20%20%20%3B%0A%0A%20%20%20%20%20%20%20%20%0A%20%20%20%20%0A%20%20%20%20%0A%20%20%20%20%20%20%20%20%20%20%20%20var%20circle_marker_f242fc84b66a43dfa6e3f0a90d780d73%20%3D%20L.circleMarker%28%0A%20%20%20%20%20%20%20%20%20%20%20%20%20%20%20%20%5B40.02804515%2C%2032.26187812656677%5D%2C%0A%20%20%20%20%20%20%20%20%20%20%20%20%20%20%20%20%7B%22bubblingMouseEvents%22%3A%20true%2C%20%22color%22%3A%20%22%2369b3a2%22%2C%20%22dashArray%22%3A%20null%2C%20%22dashOffset%22%3A%20null%2C%20%22fill%22%3A%20true%2C%20%22fillColor%22%3A%20%22%2369b3a2%22%2C%20%22fillOpacity%22%3A%200.2%2C%20%22fillRule%22%3A%20%22evenodd%22%2C%20%22lineCap%22%3A%20%22round%22%2C%20%22lineJoin%22%3A%20%22round%22%2C%20%22opacity%22%3A%201.0%2C%20%22radius%22%3A%201.2288999999999999%2C%20%22stroke%22%3A%20true%2C%20%22weight%22%3A%203%7D%0A%20%20%20%20%20%20%20%20%20%20%20%20%29.addTo%28map_873c7bf2610947a59b02631752d014e4%29%3B%0A%20%20%20%20%20%20%20%20%0A%20%20%20%20%0A%20%20%20%20%20%20%20%20var%20popup_c50609ee1f3048afbbcda791c768f8e5%20%3D%20L.popup%28%7B%22maxWidth%22%3A%20%22100%25%22%7D%29%3B%0A%0A%20%20%20%20%20%20%20%20%0A%20%20%20%20%20%20%20%20%20%20%20%20var%20html_a97dfc8d062a42d3928c5d776e340f2d%20%3D%20%24%28%60%3Cdiv%20id%3D%22html_a97dfc8d062a42d3928c5d776e340f2d%22%20style%3D%22width%3A%20100.0%25%3B%20height%3A%20100.0%25%3B%22%3EAya%C5%9F%3C/div%3E%60%29%5B0%5D%3B%0A%20%20%20%20%20%20%20%20%20%20%20%20popup_c50609ee1f3048afbbcda791c768f8e5.setContent%28html_a97dfc8d062a42d3928c5d776e340f2d%29%3B%0A%20%20%20%20%20%20%20%20%0A%0A%20%20%20%20%20%20%20%20circle_marker_f242fc84b66a43dfa6e3f0a90d780d73.bindPopup%28popup_c50609ee1f3048afbbcda791c768f8e5%29%0A%20%20%20%20%20%20%20%20%3B%0A%0A%20%20%20%20%20%20%20%20%0A%20%20%20%20%0A%20%20%20%20%0A%20%20%20%20%20%20%20%20%20%20%20%20var%20circle_marker_33d6d8c058954141ab99937dac9c29dd%20%3D%20L.circleMarker%28%0A%20%20%20%20%20%20%20%20%20%20%20%20%20%20%20%20%5B40.7332953%2C%2031.6110479%5D%2C%0A%20%20%20%20%20%20%20%20%20%20%20%20%20%20%20%20%7B%22bubblingMouseEvents%22%3A%20true%2C%20%22color%22%3A%20%22%2369b3a2%22%2C%20%22dashArray%22%3A%20null%2C%20%22dashOffset%22%3A%20null%2C%20%22fill%22%3A%20true%2C%20%22fillColor%22%3A%20%22%2369b3a2%22%2C%20%22fillOpacity%22%3A%200.2%2C%20%22fillRule%22%3A%20%22evenodd%22%2C%20%22lineCap%22%3A%20%22round%22%2C%20%22lineJoin%22%3A%20%22round%22%2C%20%22opacity%22%3A%201.0%2C%20%22radius%22%3A%202.1681999999999997%2C%20%22stroke%22%3A%20true%2C%20%22weight%22%3A%203%7D%0A%20%20%20%20%20%20%20%20%20%20%20%20%29.addTo%28map_873c7bf2610947a59b02631752d014e4%29%3B%0A%20%20%20%20%20%20%20%20%0A%20%20%20%20%0A%20%20%20%20%20%20%20%20var%20popup_185c783cbed241bfa87b1cd5b74af0fe%20%3D%20L.popup%28%7B%22maxWidth%22%3A%20%22100%25%22%7D%29%3B%0A%0A%20%20%20%20%20%20%20%20%0A%20%20%20%20%20%20%20%20%20%20%20%20var%20html_81a5fc193dc7454f9aecd0bf0271dfcd%20%3D%20%24%28%60%3Cdiv%20id%3D%22html_81a5fc193dc7454f9aecd0bf0271dfcd%22%20style%3D%22width%3A%20100.0%25%3B%20height%3A%20100.0%25%3B%22%3EBala%3C/div%3E%60%29%5B0%5D%3B%0A%20%20%20%20%20%20%20%20%20%20%20%20popup_185c783cbed241bfa87b1cd5b74af0fe.setContent%28html_81a5fc193dc7454f9aecd0bf0271dfcd%29%3B%0A%20%20%20%20%20%20%20%20%0A%0A%20%20%20%20%20%20%20%20circle_marker_33d6d8c058954141ab99937dac9c29dd.bindPopup%28popup_185c783cbed241bfa87b1cd5b74af0fe%29%0A%20%20%20%20%20%20%20%20%3B%0A%0A%20%20%20%20%20%20%20%20%0A%20%20%20%20%0A%20%20%20%20%0A%20%20%20%20%20%20%20%20%20%20%20%20var%20circle_marker_6b18c6c255124ef5ab94e588c4796433%20%3D%20L.circleMarker%28%0A%20%20%20%20%20%20%20%20%20%20%20%20%20%20%20%20%5B40.1787094%2C%2031.90908764823292%5D%2C%0A%20%20%20%20%20%20%20%20%20%20%20%20%20%20%20%20%7B%22bubblingMouseEvents%22%3A%20true%2C%20%22color%22%3A%20%22%2369b3a2%22%2C%20%22dashArray%22%3A%20null%2C%20%22dashOffset%22%3A%20null%2C%20%22fill%22%3A%20true%2C%20%22fillColor%22%3A%20%22%2369b3a2%22%2C%20%22fillOpacity%22%3A%200.2%2C%20%22fillRule%22%3A%20%22evenodd%22%2C%20%22lineCap%22%3A%20%22round%22%2C%20%22lineJoin%22%3A%20%22round%22%2C%20%22opacity%22%3A%201.0%2C%20%22radius%22%3A%204.8476%2C%20%22stroke%22%3A%20true%2C%20%22weight%22%3A%203%7D%0A%20%20%20%20%20%20%20%20%20%20%20%20%29.addTo%28map_873c7bf2610947a59b02631752d014e4%29%3B%0A%20%20%20%20%20%20%20%20%0A%20%20%20%20%0A%20%20%20%20%20%20%20%20var%20popup_22657f07d01c4731a0785892967a9c95%20%3D%20L.popup%28%7B%22maxWidth%22%3A%20%22100%25%22%7D%29%3B%0A%0A%20%20%20%20%20%20%20%20%0A%20%20%20%20%20%20%20%20%20%20%20%20var%20html_cda6a28bad0b4a6295ae07eea925dcf9%20%3D%20%24%28%60%3Cdiv%20id%3D%22html_cda6a28bad0b4a6295ae07eea925dcf9%22%20style%3D%22width%3A%20100.0%25%3B%20height%3A%20100.0%25%3B%22%3EBeypazar%C4%B1%3C/div%3E%60%29%5B0%5D%3B%0A%20%20%20%20%20%20%20%20%20%20%20%20popup_22657f07d01c4731a0785892967a9c95.setContent%28html_cda6a28bad0b4a6295ae07eea925dcf9%29%3B%0A%20%20%20%20%20%20%20%20%0A%0A%20%20%20%20%20%20%20%20circle_marker_6b18c6c255124ef5ab94e588c4796433.bindPopup%28popup_22657f07d01c4731a0785892967a9c95%29%0A%20%20%20%20%20%20%20%20%3B%0A%0A%20%20%20%20%20%20%20%20%0A%20%20%20%20%0A%20%20%20%20%0A%20%20%20%20%20%20%20%20%20%20%20%20var%20circle_marker_2cd5faf5b71d4e5889212878b77b7f68%20%3D%20L.circleMarker%28%0A%20%20%20%20%20%20%20%20%20%20%20%20%20%20%20%20%5B40.48596315%2C%2032.33908989309063%5D%2C%0A%20%20%20%20%20%20%20%20%20%20%20%20%20%20%20%20%7B%22bubblingMouseEvents%22%3A%20true%2C%20%22color%22%3A%20%22%2369b3a2%22%2C%20%22dashArray%22%3A%20null%2C%20%22dashOffset%22%3A%20null%2C%20%22fill%22%3A%20true%2C%20%22fillColor%22%3A%20%22%2369b3a2%22%2C%20%22fillOpacity%22%3A%200.2%2C%20%22fillRule%22%3A%20%22evenodd%22%2C%20%22lineCap%22%3A%20%22round%22%2C%20%22lineJoin%22%3A%20%22round%22%2C%20%22opacity%22%3A%201.0%2C%20%22radius%22%3A%200.7389%2C%20%22stroke%22%3A%20true%2C%20%22weight%22%3A%203%7D%0A%20%20%20%20%20%20%20%20%20%20%20%20%29.addTo%28map_873c7bf2610947a59b02631752d014e4%29%3B%0A%20%20%20%20%20%20%20%20%0A%20%20%20%20%0A%20%20%20%20%20%20%20%20var%20popup_50e2a08d30e94216a0e6dfb407221f68%20%3D%20L.popup%28%7B%22maxWidth%22%3A%20%22100%25%22%7D%29%3B%0A%0A%20%20%20%20%20%20%20%20%0A%20%20%20%20%20%20%20%20%20%20%20%20var%20html_43680a02d09e4a69819e72f335e2ee49%20%3D%20%24%28%60%3Cdiv%20id%3D%22html_43680a02d09e4a69819e72f335e2ee49%22%20style%3D%22width%3A%20100.0%25%3B%20height%3A%20100.0%25%3B%22%3E%C3%87aml%C4%B1dere%3C/div%3E%60%29%5B0%5D%3B%0A%20%20%20%20%20%20%20%20%20%20%20%20popup_50e2a08d30e94216a0e6dfb407221f68.setContent%28html_43680a02d09e4a69819e72f335e2ee49%29%3B%0A%20%20%20%20%20%20%20%20%0A%0A%20%20%20%20%20%20%20%20circle_marker_2cd5faf5b71d4e5889212878b77b7f68.bindPopup%28popup_50e2a08d30e94216a0e6dfb407221f68%29%0A%20%20%20%20%20%20%20%20%3B%0A%0A%20%20%20%20%20%20%20%20%0A%20%20%20%20%0A%20%20%20%20%0A%20%20%20%20%20%20%20%20%20%20%20%20var%20circle_marker_cc104c21367b4303ada8be02bfdfa696%20%3D%20L.circleMarker%28%0A%20%20%20%20%20%20%20%20%20%20%20%20%20%20%20%20%5B39.79809755%2C%2032.94560416986046%5D%2C%0A%20%20%20%20%20%20%20%20%20%20%20%20%20%20%20%20%7B%22bubblingMouseEvents%22%3A%20true%2C%20%22color%22%3A%20%22%2369b3a2%22%2C%20%22dashArray%22%3A%20null%2C%20%22dashOffset%22%3A%20null%2C%20%22fill%22%3A%20true%2C%20%22fillColor%22%3A%20%22%2369b3a2%22%2C%20%22fillOpacity%22%3A%200.2%2C%20%22fillRule%22%3A%20%22evenodd%22%2C%20%22lineCap%22%3A%20%22round%22%2C%20%22lineJoin%22%3A%20%22round%22%2C%20%22opacity%22%3A%201.0%2C%20%22radius%22%3A%2092.1999%2C%20%22stroke%22%3A%20true%2C%20%22weight%22%3A%203%7D%0A%20%20%20%20%20%20%20%20%20%20%20%20%29.addTo%28map_873c7bf2610947a59b02631752d014e4%29%3B%0A%20%20%20%20%20%20%20%20%0A%20%20%20%20%0A%20%20%20%20%20%20%20%20var%20popup_8dd17671383c4467822d05f6a7f5020c%20%3D%20L.popup%28%7B%22maxWidth%22%3A%20%22100%25%22%7D%29%3B%0A%0A%20%20%20%20%20%20%20%20%0A%20%20%20%20%20%20%20%20%20%20%20%20var%20html_d9aac583f6174510a27019b5d8764d19%20%3D%20%24%28%60%3Cdiv%20id%3D%22html_d9aac583f6174510a27019b5d8764d19%22%20style%3D%22width%3A%20100.0%25%3B%20height%3A%20100.0%25%3B%22%3E%C3%87ankaya%3C/div%3E%60%29%5B0%5D%3B%0A%20%20%20%20%20%20%20%20%20%20%20%20popup_8dd17671383c4467822d05f6a7f5020c.setContent%28html_d9aac583f6174510a27019b5d8764d19%29%3B%0A%20%20%20%20%20%20%20%20%0A%0A%20%20%20%20%20%20%20%20circle_marker_cc104c21367b4303ada8be02bfdfa696.bindPopup%28popup_8dd17671383c4467822d05f6a7f5020c%29%0A%20%20%20%20%20%20%20%20%3B%0A%0A%20%20%20%20%20%20%20%20%0A%20%20%20%20%0A%20%20%20%20%0A%20%20%20%20%20%20%20%20%20%20%20%20var%20circle_marker_c097a08120f745ac87e0bbc57f43d25f%20%3D%20L.circleMarker%28%0A%20%20%20%20%20%20%20%20%20%20%20%20%20%20%20%20%5B40.3187919%2C%2033.061920358677796%5D%2C%0A%20%20%20%20%20%20%20%20%20%20%20%20%20%20%20%20%7B%22bubblingMouseEvents%22%3A%20true%2C%20%22color%22%3A%20%22%2369b3a2%22%2C%20%22dashArray%22%3A%20null%2C%20%22dashOffset%22%3A%20null%2C%20%22fill%22%3A%20true%2C%20%22fillColor%22%3A%20%22%2369b3a2%22%2C%20%22fillOpacity%22%3A%200.2%2C%20%22fillRule%22%3A%20%22evenodd%22%2C%20%22lineCap%22%3A%20%22round%22%2C%20%22lineJoin%22%3A%20%22round%22%2C%20%22opacity%22%3A%201.0%2C%20%22radius%22%3A%209.0063%2C%20%22stroke%22%3A%20true%2C%20%22weight%22%3A%203%7D%0A%20%20%20%20%20%20%20%20%20%20%20%20%29.addTo%28map_873c7bf2610947a59b02631752d014e4%29%3B%0A%20%20%20%20%20%20%20%20%0A%20%20%20%20%0A%20%20%20%20%20%20%20%20var%20popup_1cc10469b0fb4d58ac2e31ff51c82c50%20%3D%20L.popup%28%7B%22maxWidth%22%3A%20%22100%25%22%7D%29%3B%0A%0A%20%20%20%20%20%20%20%20%0A%20%20%20%20%20%20%20%20%20%20%20%20var%20html_3f831c96ab4a4da8a60da798c2328f88%20%3D%20%24%28%60%3Cdiv%20id%3D%22html_3f831c96ab4a4da8a60da798c2328f88%22%20style%3D%22width%3A%20100.0%25%3B%20height%3A%20100.0%25%3B%22%3E%C3%87ubuk%3C/div%3E%60%29%5B0%5D%3B%0A%20%20%20%20%20%20%20%20%20%20%20%20popup_1cc10469b0fb4d58ac2e31ff51c82c50.setContent%28html_3f831c96ab4a4da8a60da798c2328f88%29%3B%0A%20%20%20%20%20%20%20%20%0A%0A%20%20%20%20%20%20%20%20circle_marker_c097a08120f745ac87e0bbc57f43d25f.bindPopup%28popup_1cc10469b0fb4d58ac2e31ff51c82c50%29%0A%20%20%20%20%20%20%20%20%3B%0A%0A%20%20%20%20%20%20%20%20%0A%20%20%20%20%0A%20%20%20%20%0A%20%20%20%20%20%20%20%20%20%20%20%20var%20circle_marker_b61e2d5250db4e96a2e704beadf20ab7%20%3D%20L.circleMarker%28%0A%20%20%20%20%20%20%20%20%20%20%20%20%20%20%20%20%5B39.88146175%2C%2033.22867084186021%5D%2C%0A%20%20%20%20%20%20%20%20%20%20%20%20%20%20%20%20%7B%22bubblingMouseEvents%22%3A%20true%2C%20%22color%22%3A%20%22%2369b3a2%22%2C%20%22dashArray%22%3A%20null%2C%20%22dashOffset%22%3A%20null%2C%20%22fill%22%3A%20true%2C%20%22fillColor%22%3A%20%22%2369b3a2%22%2C%20%22fillOpacity%22%3A%200.2%2C%20%22fillRule%22%3A%20%22evenodd%22%2C%20%22lineCap%22%3A%20%22round%22%2C%20%22lineJoin%22%3A%20%22round%22%2C%20%22opacity%22%3A%201.0%2C%20%22radius%22%3A%204.5512999999999995%2C%20%22stroke%22%3A%20true%2C%20%22weight%22%3A%203%7D%0A%20%20%20%20%20%20%20%20%20%20%20%20%29.addTo%28map_873c7bf2610947a59b02631752d014e4%29%3B%0A%20%20%20%20%20%20%20%20%0A%20%20%20%20%0A%20%20%20%20%20%20%20%20var%20popup_e2046bf782fe4362bbd525f401c9ad46%20%3D%20L.popup%28%7B%22maxWidth%22%3A%20%22100%25%22%7D%29%3B%0A%0A%20%20%20%20%20%20%20%20%0A%20%20%20%20%20%20%20%20%20%20%20%20var%20html_2e291e941d8c415fbcdc7d2c92b26783%20%3D%20%24%28%60%3Cdiv%20id%3D%22html_2e291e941d8c415fbcdc7d2c92b26783%22%20style%3D%22width%3A%20100.0%25%3B%20height%3A%20100.0%25%3B%22%3EElmada%C4%9F%3C/div%3E%60%29%5B0%5D%3B%0A%20%20%20%20%20%20%20%20%20%20%20%20popup_e2046bf782fe4362bbd525f401c9ad46.setContent%28html_2e291e941d8c415fbcdc7d2c92b26783%29%3B%0A%20%20%20%20%20%20%20%20%0A%0A%20%20%20%20%20%20%20%20circle_marker_b61e2d5250db4e96a2e704beadf20ab7.bindPopup%28popup_e2046bf782fe4362bbd525f401c9ad46%29%0A%20%20%20%20%20%20%20%20%3B%0A%0A%20%20%20%20%20%20%20%20%0A%20%20%20%20%0A%20%20%20%20%0A%20%20%20%20%20%20%20%20%20%20%20%20var%20circle_marker_d5f1d88adddb4308bb86d914e26ff609%20%3D%20L.circleMarker%28%0A%20%20%20%20%20%20%20%20%20%20%20%20%20%20%20%20%5B39.86718835%2C%2032.602279499077%5D%2C%0A%20%20%20%20%20%20%20%20%20%20%20%20%20%20%20%20%7B%22bubblingMouseEvents%22%3A%20true%2C%20%22color%22%3A%20%22%2369b3a2%22%2C%20%22dashArray%22%3A%20null%2C%20%22dashOffset%22%3A%20null%2C%20%22fill%22%3A%20true%2C%20%22fillColor%22%3A%20%22%2369b3a2%22%2C%20%22fillOpacity%22%3A%200.2%2C%20%22fillRule%22%3A%20%22evenodd%22%2C%20%22lineCap%22%3A%20%22round%22%2C%20%22lineJoin%22%3A%20%22round%22%2C%20%22opacity%22%3A%201.0%2C%20%22radius%22%3A%2056.65%2C%20%22stroke%22%3A%20true%2C%20%22weight%22%3A%203%7D%0A%20%20%20%20%20%20%20%20%20%20%20%20%29.addTo%28map_873c7bf2610947a59b02631752d014e4%29%3B%0A%20%20%20%20%20%20%20%20%0A%20%20%20%20%0A%20%20%20%20%20%20%20%20var%20popup_d1a28668236b421fac0b8c5afe133eb7%20%3D%20L.popup%28%7B%22maxWidth%22%3A%20%22100%25%22%7D%29%3B%0A%0A%20%20%20%20%20%20%20%20%0A%20%20%20%20%20%20%20%20%20%20%20%20var%20html_60142950dd1b4ce989b1475da754ef9f%20%3D%20%24%28%60%3Cdiv%20id%3D%22html_60142950dd1b4ce989b1475da754ef9f%22%20style%3D%22width%3A%20100.0%25%3B%20height%3A%20100.0%25%3B%22%3EEtimesgut%3C/div%3E%60%29%5B0%5D%3B%0A%20%20%20%20%20%20%20%20%20%20%20%20popup_d1a28668236b421fac0b8c5afe133eb7.setContent%28html_60142950dd1b4ce989b1475da754ef9f%29%3B%0A%20%20%20%20%20%20%20%20%0A%0A%20%20%20%20%20%20%20%20circle_marker_d5f1d88adddb4308bb86d914e26ff609.bindPopup%28popup_d1a28668236b421fac0b8c5afe133eb7%29%0A%20%20%20%20%20%20%20%20%3B%0A%0A%20%20%20%20%20%20%20%20%0A%20%20%20%20%0A%20%20%20%20%0A%20%20%20%20%20%20%20%20%20%20%20%20var%20circle_marker_de83fb8305054a309b73059454f23800%20%3D%20L.circleMarker%28%0A%20%20%20%20%20%20%20%20%20%20%20%20%20%20%20%20%5B39.0221203%2C%2033.8078573%5D%2C%0A%20%20%20%20%20%20%20%20%20%20%20%20%20%20%20%20%7B%22bubblingMouseEvents%22%3A%20true%2C%20%22color%22%3A%20%22%2369b3a2%22%2C%20%22dashArray%22%3A%20null%2C%20%22dashOffset%22%3A%20null%2C%20%22fill%22%3A%20true%2C%20%22fillColor%22%3A%20%22%2369b3a2%22%2C%20%22fillOpacity%22%3A%200.2%2C%20%22fillRule%22%3A%20%22evenodd%22%2C%20%22lineCap%22%3A%20%22round%22%2C%20%22lineJoin%22%3A%20%22round%22%2C%20%22opacity%22%3A%201.0%2C%20%22radius%22%3A%200.2753%2C%20%22stroke%22%3A%20true%2C%20%22weight%22%3A%203%7D%0A%20%20%20%20%20%20%20%20%20%20%20%20%29.addTo%28map_873c7bf2610947a59b02631752d014e4%29%3B%0A%20%20%20%20%20%20%20%20%0A%20%20%20%20%0A%20%20%20%20%20%20%20%20var%20popup_eedce04c78d1408aa9f969a0fc73aae2%20%3D%20L.popup%28%7B%22maxWidth%22%3A%20%22100%25%22%7D%29%3B%0A%0A%20%20%20%20%20%20%20%20%0A%20%20%20%20%20%20%20%20%20%20%20%20var%20html_e21720e3048c4ba2a2326ad6adb7964f%20%3D%20%24%28%60%3Cdiv%20id%3D%22html_e21720e3048c4ba2a2326ad6adb7964f%22%20style%3D%22width%3A%20100.0%25%3B%20height%3A%20100.0%25%3B%22%3EEvren%3C/div%3E%60%29%5B0%5D%3B%0A%20%20%20%20%20%20%20%20%20%20%20%20popup_eedce04c78d1408aa9f969a0fc73aae2.setContent%28html_e21720e3048c4ba2a2326ad6adb7964f%29%3B%0A%20%20%20%20%20%20%20%20%0A%0A%20%20%20%20%20%20%20%20circle_marker_de83fb8305054a309b73059454f23800.bindPopup%28popup_eedce04c78d1408aa9f969a0fc73aae2%29%0A%20%20%20%20%20%20%20%20%3B%0A%0A%20%20%20%20%20%20%20%20%0A%20%20%20%20%0A%20%20%20%20%0A%20%20%20%20%20%20%20%20%20%20%20%20var%20circle_marker_f4c216b17dbb46bf9f6b1cb13a42b20d%20%3D%20L.circleMarker%28%0A%20%20%20%20%20%20%20%20%20%20%20%20%20%20%20%20%5B39.5326773%2C%2032.750224153853964%5D%2C%0A%20%20%20%20%20%20%20%20%20%20%20%20%20%20%20%20%7B%22bubblingMouseEvents%22%3A%20true%2C%20%22color%22%3A%20%22%2369b3a2%22%2C%20%22dashArray%22%3A%20null%2C%20%22dashOffset%22%3A%20null%2C%20%22fill%22%3A%20true%2C%20%22fillColor%22%3A%20%22%2369b3a2%22%2C%20%22fillOpacity%22%3A%200.2%2C%20%22fillRule%22%3A%20%22evenodd%22%2C%20%22lineCap%22%3A%20%22round%22%2C%20%22lineJoin%22%3A%20%22round%22%2C%20%22opacity%22%3A%201.0%2C%20%22radius%22%3A%2013.0363%2C%20%22stroke%22%3A%20true%2C%20%22weight%22%3A%203%7D%0A%20%20%20%20%20%20%20%20%20%20%20%20%29.addTo%28map_873c7bf2610947a59b02631752d014e4%29%3B%0A%20%20%20%20%20%20%20%20%0A%20%20%20%20%0A%20%20%20%20%20%20%20%20var%20popup_e516d4eb46414b89aceb5ace0b3b114e%20%3D%20L.popup%28%7B%22maxWidth%22%3A%20%22100%25%22%7D%29%3B%0A%0A%20%20%20%20%20%20%20%20%0A%20%20%20%20%20%20%20%20%20%20%20%20var%20html_1d3e6c8f70dd43f286b54b0773fda019%20%3D%20%24%28%60%3Cdiv%20id%3D%22html_1d3e6c8f70dd43f286b54b0773fda019%22%20style%3D%22width%3A%20100.0%25%3B%20height%3A%20100.0%25%3B%22%3EG%C3%B6lba%C5%9F%C4%B1%3C/div%3E%60%29%5B0%5D%3B%0A%20%20%20%20%20%20%20%20%20%20%20%20popup_e516d4eb46414b89aceb5ace0b3b114e.setContent%28html_1d3e6c8f70dd43f286b54b0773fda019%29%3B%0A%20%20%20%20%20%20%20%20%0A%0A%20%20%20%20%20%20%20%20circle_marker_f4c216b17dbb46bf9f6b1cb13a42b20d.bindPopup%28popup_e516d4eb46414b89aceb5ace0b3b114e%29%0A%20%20%20%20%20%20%20%20%3B%0A%0A%20%20%20%20%20%20%20%20%0A%20%20%20%20%0A%20%20%20%20%0A%20%20%20%20%20%20%20%20%20%20%20%20var%20circle_marker_4f51d7a407024d2ab1745ebca6c844e2%20%3D%20L.circleMarker%28%0A%20%20%20%20%20%20%20%20%20%20%20%20%20%20%20%20%5B40.201166099999995%2C%2032.23581972045762%5D%2C%0A%20%20%20%20%20%20%20%20%20%20%20%20%20%20%20%20%7B%22bubblingMouseEvents%22%3A%20true%2C%20%22color%22%3A%20%22%2369b3a2%22%2C%20%22dashArray%22%3A%20null%2C%20%22dashOffset%22%3A%20null%2C%20%22fill%22%3A%20true%2C%20%22fillColor%22%3A%20%22%2369b3a2%22%2C%20%22fillOpacity%22%3A%200.2%2C%20%22fillRule%22%3A%20%22evenodd%22%2C%20%22lineCap%22%3A%20%22round%22%2C%20%22lineJoin%22%3A%20%22round%22%2C%20%22opacity%22%3A%201.0%2C%20%22radius%22%3A%200.805%2C%20%22stroke%22%3A%20true%2C%20%22weight%22%3A%203%7D%0A%20%20%20%20%20%20%20%20%20%20%20%20%29.addTo%28map_873c7bf2610947a59b02631752d014e4%29%3B%0A%20%20%20%20%20%20%20%20%0A%20%20%20%20%0A%20%20%20%20%20%20%20%20var%20popup_2c2ec8397d634a13807963f41ca8ced0%20%3D%20L.popup%28%7B%22maxWidth%22%3A%20%22100%25%22%7D%29%3B%0A%0A%20%20%20%20%20%20%20%20%0A%20%20%20%20%20%20%20%20%20%20%20%20var%20html_1f1c1a7daa2f41b59baeef4df661ee01%20%3D%20%24%28%60%3Cdiv%20id%3D%22html_1f1c1a7daa2f41b59baeef4df661ee01%22%20style%3D%22width%3A%20100.0%25%3B%20height%3A%20100.0%25%3B%22%3EG%C3%BCd%C3%BCl%3C/div%3E%60%29%5B0%5D%3B%0A%20%20%20%20%20%20%20%20%20%20%20%20popup_2c2ec8397d634a13807963f41ca8ced0.setContent%28html_1f1c1a7daa2f41b59baeef4df661ee01%29%3B%0A%20%20%20%20%20%20%20%20%0A%0A%20%20%20%20%20%20%20%20circle_marker_4f51d7a407024d2ab1745ebca6c844e2.bindPopup%28popup_2c2ec8397d634a13807963f41ca8ced0%29%0A%20%20%20%20%20%20%20%20%3B%0A%0A%20%20%20%20%20%20%20%20%0A%20%20%20%20%0A%20%20%20%20%0A%20%20%20%20%20%20%20%20%20%20%20%20var%20circle_marker_746959b2d9344806b1fbcc9edf57d6bc%20%3D%20L.circleMarker%28%0A%20%20%20%20%20%20%20%20%20%20%20%20%20%20%20%20%5B39.4342821%2C%2032.5004065%5D%2C%0A%20%20%20%20%20%20%20%20%20%20%20%20%20%20%20%20%7B%22bubblingMouseEvents%22%3A%20true%2C%20%22color%22%3A%20%22%2369b3a2%22%2C%20%22dashArray%22%3A%20null%2C%20%22dashOffset%22%3A%20null%2C%20%22fill%22%3A%20true%2C%20%22fillColor%22%3A%20%22%2369b3a2%22%2C%20%22fillOpacity%22%3A%200.2%2C%20%22fillRule%22%3A%20%22evenodd%22%2C%20%22lineCap%22%3A%20%22round%22%2C%20%22lineJoin%22%3A%20%22round%22%2C%20%22opacity%22%3A%201.0%2C%20%22radius%22%3A%202.7277%2C%20%22stroke%22%3A%20true%2C%20%22weight%22%3A%203%7D%0A%20%20%20%20%20%20%20%20%20%20%20%20%29.addTo%28map_873c7bf2610947a59b02631752d014e4%29%3B%0A%20%20%20%20%20%20%20%20%0A%20%20%20%20%0A%20%20%20%20%20%20%20%20var%20popup_7e1ac6b7fe9c4364ba62c89af03b52c1%20%3D%20L.popup%28%7B%22maxWidth%22%3A%20%22100%25%22%7D%29%3B%0A%0A%20%20%20%20%20%20%20%20%0A%20%20%20%20%20%20%20%20%20%20%20%20var%20html_175d37ac52914ba3ac41f11b9560959a%20%3D%20%24%28%60%3Cdiv%20id%3D%22html_175d37ac52914ba3ac41f11b9560959a%22%20style%3D%22width%3A%20100.0%25%3B%20height%3A%20100.0%25%3B%22%3EHaymana%3C/div%3E%60%29%5B0%5D%3B%0A%20%20%20%20%20%20%20%20%20%20%20%20popup_7e1ac6b7fe9c4364ba62c89af03b52c1.setContent%28html_175d37ac52914ba3ac41f11b9560959a%29%3B%0A%20%20%20%20%20%20%20%20%0A%0A%20%20%20%20%20%20%20%20circle_marker_746959b2d9344806b1fbcc9edf57d6bc.bindPopup%28popup_7e1ac6b7fe9c4364ba62c89af03b52c1%29%0A%20%20%20%20%20%20%20%20%3B%0A%0A%20%20%20%20%20%20%20%20%0A%20%20%20%20%0A%20%20%20%20%0A%20%20%20%20%20%20%20%20%20%20%20%20var%20circle_marker_a9a70e43dfe3422caf95c31dcfc2ff7a%20%3D%20L.circleMarker%28%0A%20%20%20%20%20%20%20%20%20%20%20%20%20%20%20%20%5B40.1863626%2C%2032.66192281501395%5D%2C%0A%20%20%20%20%20%20%20%20%20%20%20%20%20%20%20%20%7B%22bubblingMouseEvents%22%3A%20true%2C%20%22color%22%3A%20%22%2369b3a2%22%2C%20%22dashArray%22%3A%20null%2C%20%22dashOffset%22%3A%20null%2C%20%22fill%22%3A%20true%2C%20%22fillColor%22%3A%20%22%2369b3a2%22%2C%20%22fillOpacity%22%3A%200.2%2C%20%22fillRule%22%3A%20%22evenodd%22%2C%20%22lineCap%22%3A%20%22round%22%2C%20%22lineJoin%22%3A%20%22round%22%2C%20%22opacity%22%3A%201.0%2C%20%22radius%22%3A%205.2079%2C%20%22stroke%22%3A%20true%2C%20%22weight%22%3A%203%7D%0A%20%20%20%20%20%20%20%20%20%20%20%20%29.addTo%28map_873c7bf2610947a59b02631752d014e4%29%3B%0A%20%20%20%20%20%20%20%20%0A%20%20%20%20%0A%20%20%20%20%20%20%20%20var%20popup_0bd3789967ff453c9df3d46e071a70e3%20%3D%20L.popup%28%7B%22maxWidth%22%3A%20%22100%25%22%7D%29%3B%0A%0A%20%20%20%20%20%20%20%20%0A%20%20%20%20%20%20%20%20%20%20%20%20var%20html_25ce68c1952f40ed8a9ce00cd0cc1e68%20%3D%20%24%28%60%3Cdiv%20id%3D%22html_25ce68c1952f40ed8a9ce00cd0cc1e68%22%20style%3D%22width%3A%20100.0%25%3B%20height%3A%20100.0%25%3B%22%3EKahramankazan%3C/div%3E%60%29%5B0%5D%3B%0A%20%20%20%20%20%20%20%20%20%20%20%20popup_0bd3789967ff453c9df3d46e071a70e3.setContent%28html_25ce68c1952f40ed8a9ce00cd0cc1e68%29%3B%0A%20%20%20%20%20%20%20%20%0A%0A%20%20%20%20%20%20%20%20circle_marker_a9a70e43dfe3422caf95c31dcfc2ff7a.bindPopup%28popup_0bd3789967ff453c9df3d46e071a70e3%29%0A%20%20%20%20%20%20%20%20%3B%0A%0A%20%20%20%20%20%20%20%20%0A%20%20%20%20%0A%20%20%20%20%0A%20%20%20%20%20%20%20%20%20%20%20%20var%20circle_marker_069dc3eebd004537a93e386a0689ec50%20%3D%20L.circleMarker%28%0A%20%20%20%20%20%20%20%20%20%20%20%20%20%20%20%20%5B40.1774962%2C%2033.45093807207213%5D%2C%0A%20%20%20%20%20%20%20%20%20%20%20%20%20%20%20%20%7B%22bubblingMouseEvents%22%3A%20true%2C%20%22color%22%3A%20%22%2369b3a2%22%2C%20%22dashArray%22%3A%20null%2C%20%22dashOffset%22%3A%20null%2C%20%22fill%22%3A%20true%2C%20%22fillColor%22%3A%20%22%2369b3a2%22%2C%20%22fillOpacity%22%3A%200.2%2C%20%22fillRule%22%3A%20%22evenodd%22%2C%20%22lineCap%22%3A%20%22round%22%2C%20%22lineJoin%22%3A%20%22round%22%2C%20%22opacity%22%3A%201.0%2C%20%22radius%22%3A%201.2897%2C%20%22stroke%22%3A%20true%2C%20%22weight%22%3A%203%7D%0A%20%20%20%20%20%20%20%20%20%20%20%20%29.addTo%28map_873c7bf2610947a59b02631752d014e4%29%3B%0A%20%20%20%20%20%20%20%20%0A%20%20%20%20%0A%20%20%20%20%20%20%20%20var%20popup_900bdf69a10e4d30807949d62629da93%20%3D%20L.popup%28%7B%22maxWidth%22%3A%20%22100%25%22%7D%29%3B%0A%0A%20%20%20%20%20%20%20%20%0A%20%20%20%20%20%20%20%20%20%20%20%20var%20html_6559226d7c1a493a9b9bb1e9e6cdaa73%20%3D%20%24%28%60%3Cdiv%20id%3D%22html_6559226d7c1a493a9b9bb1e9e6cdaa73%22%20style%3D%22width%3A%20100.0%25%3B%20height%3A%20100.0%25%3B%22%3EKalecik%3C/div%3E%60%29%5B0%5D%3B%0A%20%20%20%20%20%20%20%20%20%20%20%20popup_900bdf69a10e4d30807949d62629da93.setContent%28html_6559226d7c1a493a9b9bb1e9e6cdaa73%29%3B%0A%20%20%20%20%20%20%20%20%0A%0A%20%20%20%20%20%20%20%20circle_marker_069dc3eebd004537a93e386a0689ec50.bindPopup%28popup_900bdf69a10e4d30807949d62629da93%29%0A%20%20%20%20%20%20%20%20%3B%0A%0A%20%20%20%20%20%20%20%20%0A%20%20%20%20%0A%20%20%20%20%0A%20%20%20%20%20%20%20%20%20%20%20%20var%20circle_marker_7003c6b544f445a4ab39d6913a0d89f0%20%3D%20L.circleMarker%28%0A%20%20%20%20%20%20%20%20%20%20%20%20%20%20%20%20%5B39.9909199%2C%2032.8518185%5D%2C%0A%20%20%20%20%20%20%20%20%20%20%20%20%20%20%20%20%7B%22bubblingMouseEvents%22%3A%20true%2C%20%22color%22%3A%20%22%2369b3a2%22%2C%20%22dashArray%22%3A%20null%2C%20%22dashOffset%22%3A%20null%2C%20%22fill%22%3A%20true%2C%20%22fillColor%22%3A%20%22%2369b3a2%22%2C%20%22fillOpacity%22%3A%200.2%2C%20%22fillRule%22%3A%20%22evenodd%22%2C%20%22lineCap%22%3A%20%22round%22%2C%20%22lineJoin%22%3A%20%22round%22%2C%20%22opacity%22%3A%201.0%2C%20%22radius%22%3A%2091.77590000000001%2C%20%22stroke%22%3A%20true%2C%20%22weight%22%3A%203%7D%0A%20%20%20%20%20%20%20%20%20%20%20%20%29.addTo%28map_873c7bf2610947a59b02631752d014e4%29%3B%0A%20%20%20%20%20%20%20%20%0A%20%20%20%20%0A%20%20%20%20%20%20%20%20var%20popup_a14d3e6e11a74d3187088e7262f4d7d4%20%3D%20L.popup%28%7B%22maxWidth%22%3A%20%22100%25%22%7D%29%3B%0A%0A%20%20%20%20%20%20%20%20%0A%20%20%20%20%20%20%20%20%20%20%20%20var%20html_87a9786005074606b04f524208103538%20%3D%20%24%28%60%3Cdiv%20id%3D%22html_87a9786005074606b04f524208103538%22%20style%3D%22width%3A%20100.0%25%3B%20height%3A%20100.0%25%3B%22%3EKe%C3%A7i%C3%B6ren%3C/div%3E%60%29%5B0%5D%3B%0A%20%20%20%20%20%20%20%20%20%20%20%20popup_a14d3e6e11a74d3187088e7262f4d7d4.setContent%28html_87a9786005074606b04f524208103538%29%3B%0A%20%20%20%20%20%20%20%20%0A%0A%20%20%20%20%20%20%20%20circle_marker_7003c6b544f445a4ab39d6913a0d89f0.bindPopup%28popup_a14d3e6e11a74d3187088e7262f4d7d4%29%0A%20%20%20%20%20%20%20%20%3B%0A%0A%20%20%20%20%20%20%20%20%0A%20%20%20%20%0A%20%20%20%20%0A%20%20%20%20%20%20%20%20%20%20%20%20var%20circle_marker_f96d7f1805ff410b93e86df3feae2cf4%20%3D%20L.circleMarker%28%0A%20%20%20%20%20%20%20%20%20%20%20%20%20%20%20%20%5B40.48322135%2C%2032.727048031840965%5D%2C%0A%20%20%20%20%20%20%20%20%20%20%20%20%20%20%20%20%7B%22bubblingMouseEvents%22%3A%20true%2C%20%22color%22%3A%20%22%2369b3a2%22%2C%20%22dashArray%22%3A%20null%2C%20%22dashOffset%22%3A%20null%2C%20%22fill%22%3A%20true%2C%20%22fillColor%22%3A%20%22%2369b3a2%22%2C%20%22fillOpacity%22%3A%200.2%2C%20%22fillRule%22%3A%20%22evenodd%22%2C%20%22lineCap%22%3A%20%22round%22%2C%20%22lineJoin%22%3A%20%22round%22%2C%20%22opacity%22%3A%201.0%2C%20%22radius%22%3A%202.4947%2C%20%22stroke%22%3A%20true%2C%20%22weight%22%3A%203%7D%0A%20%20%20%20%20%20%20%20%20%20%20%20%29.addTo%28map_873c7bf2610947a59b02631752d014e4%29%3B%0A%20%20%20%20%20%20%20%20%0A%20%20%20%20%0A%20%20%20%20%20%20%20%20var%20popup_b384de2d672b4f46a75418dec287dd1d%20%3D%20L.popup%28%7B%22maxWidth%22%3A%20%22100%25%22%7D%29%3B%0A%0A%20%20%20%20%20%20%20%20%0A%20%20%20%20%20%20%20%20%20%20%20%20var%20html_bc82c1e93cef49efafddaf906e80a4f3%20%3D%20%24%28%60%3Cdiv%20id%3D%22html_bc82c1e93cef49efafddaf906e80a4f3%22%20style%3D%22width%3A%20100.0%25%3B%20height%3A%20100.0%25%3B%22%3EK%C4%B1z%C4%B1lcahamam%3C/div%3E%60%29%5B0%5D%3B%0A%20%20%20%20%20%20%20%20%20%20%20%20popup_b384de2d672b4f46a75418dec287dd1d.setContent%28html_bc82c1e93cef49efafddaf906e80a4f3%29%3B%0A%20%20%20%20%20%20%20%20%0A%0A%20%20%20%20%20%20%20%20circle_marker_f96d7f1805ff410b93e86df3feae2cf4.bindPopup%28popup_b384de2d672b4f46a75418dec287dd1d%29%0A%20%20%20%20%20%20%20%20%3B%0A%0A%20%20%20%20%20%20%20%20%0A%20%20%20%20%0A%20%20%20%20%0A%20%20%20%20%20%20%20%20%20%20%20%20var%20circle_marker_355e2584c9ec4f70b1bfe056dd481f83%20%3D%20L.circleMarker%28%0A%20%20%20%20%20%20%20%20%20%20%20%20%20%20%20%20%5B39.9214356%2C%2032.9179539%5D%2C%0A%20%20%20%20%20%20%20%20%20%20%20%20%20%20%20%20%7B%22bubblingMouseEvents%22%3A%20true%2C%20%22color%22%3A%20%22%2369b3a2%22%2C%20%22dashArray%22%3A%20null%2C%20%22dashOffset%22%3A%20null%2C%20%22fill%22%3A%20true%2C%20%22fillColor%22%3A%20%22%2369b3a2%22%2C%20%22fillOpacity%22%3A%200.2%2C%20%22fillRule%22%3A%20%22evenodd%22%2C%20%22lineCap%22%3A%20%22round%22%2C%20%22lineJoin%22%3A%20%22round%22%2C%20%22opacity%22%3A%201.0%2C%20%22radius%22%3A%2063.793499999999995%2C%20%22stroke%22%3A%20true%2C%20%22weight%22%3A%203%7D%0A%20%20%20%20%20%20%20%20%20%20%20%20%29.addTo%28map_873c7bf2610947a59b02631752d014e4%29%3B%0A%20%20%20%20%20%20%20%20%0A%20%20%20%20%0A%20%20%20%20%20%20%20%20var%20popup_93bae7d864ae4211b351d268fa1e4f5c%20%3D%20L.popup%28%7B%22maxWidth%22%3A%20%22100%25%22%7D%29%3B%0A%0A%20%20%20%20%20%20%20%20%0A%20%20%20%20%20%20%20%20%20%20%20%20var%20html_87fdbb2a8e9442a3889b43b5b3352688%20%3D%20%24%28%60%3Cdiv%20id%3D%22html_87fdbb2a8e9442a3889b43b5b3352688%22%20style%3D%22width%3A%20100.0%25%3B%20height%3A%20100.0%25%3B%22%3EMamak%3C/div%3E%60%29%5B0%5D%3B%0A%20%20%20%20%20%20%20%20%20%20%20%20popup_93bae7d864ae4211b351d268fa1e4f5c.setContent%28html_87fdbb2a8e9442a3889b43b5b3352688%29%3B%0A%20%20%20%20%20%20%20%20%0A%0A%20%20%20%20%20%20%20%20circle_marker_355e2584c9ec4f70b1bfe056dd481f83.bindPopup%28popup_93bae7d864ae4211b351d268fa1e4f5c%29%0A%20%20%20%20%20%20%20%20%3B%0A%0A%20%20%20%20%20%20%20%20%0A%20%20%20%20%0A%20%20%20%20%0A%20%20%20%20%20%20%20%20%20%20%20%20var%20circle_marker_1ae15856f2ba45b88f28841548f897ce%20%3D%20L.circleMarker%28%0A%20%20%20%20%20%20%20%20%20%20%20%20%20%20%20%20%5B40.1872424%2C%2031.3512768%5D%2C%0A%20%20%20%20%20%20%20%20%20%20%20%20%20%20%20%20%7B%22bubblingMouseEvents%22%3A%20true%2C%20%22color%22%3A%20%22%2369b3a2%22%2C%20%22dashArray%22%3A%20null%2C%20%22dashOffset%22%3A%20null%2C%20%22fill%22%3A%20true%2C%20%22fillColor%22%3A%20%22%2369b3a2%22%2C%20%22fillOpacity%22%3A%200.2%2C%20%22fillRule%22%3A%20%22evenodd%22%2C%20%22lineCap%22%3A%20%22round%22%2C%20%22lineJoin%22%3A%20%22round%22%2C%20%22opacity%22%3A%201.0%2C%20%22radius%22%3A%202.8621%2C%20%22stroke%22%3A%20true%2C%20%22weight%22%3A%203%7D%0A%20%20%20%20%20%20%20%20%20%20%20%20%29.addTo%28map_873c7bf2610947a59b02631752d014e4%29%3B%0A%20%20%20%20%20%20%20%20%0A%20%20%20%20%0A%20%20%20%20%20%20%20%20var%20popup_46f8b98e87a6446ca26df50039fe8136%20%3D%20L.popup%28%7B%22maxWidth%22%3A%20%22100%25%22%7D%29%3B%0A%0A%20%20%20%20%20%20%20%20%0A%20%20%20%20%20%20%20%20%20%20%20%20var%20html_aebaa19681784cf5aa1967a139bba256%20%3D%20%24%28%60%3Cdiv%20id%3D%22html_aebaa19681784cf5aa1967a139bba256%22%20style%3D%22width%3A%20100.0%25%3B%20height%3A%20100.0%25%3B%22%3ENall%C4%B1han%3C/div%3E%60%29%5B0%5D%3B%0A%20%20%20%20%20%20%20%20%20%20%20%20popup_46f8b98e87a6446ca26df50039fe8136.setContent%28html_aebaa19681784cf5aa1967a139bba256%29%3B%0A%20%20%20%20%20%20%20%20%0A%0A%20%20%20%20%20%20%20%20circle_marker_1ae15856f2ba45b88f28841548f897ce.bindPopup%28popup_46f8b98e87a6446ca26df50039fe8136%29%0A%20%20%20%20%20%20%20%20%3B%0A%0A%20%20%20%20%20%20%20%20%0A%20%20%20%20%0A%20%20%20%20%0A%20%20%20%20%20%20%20%20%20%20%20%20var%20circle_marker_14a064bc2e5b406ca0d4ec686dd0cf4a%20%3D%20L.circleMarker%28%0A%20%20%20%20%20%20%20%20%20%20%20%20%20%20%20%20%5B39.4579327%2C%2032.17548926450625%5D%2C%0A%20%20%20%20%20%20%20%20%20%20%20%20%20%20%20%20%7B%22bubblingMouseEvents%22%3A%20true%2C%20%22color%22%3A%20%22%2369b3a2%22%2C%20%22dashArray%22%3A%20null%2C%20%22dashOffset%22%3A%20null%2C%20%22fill%22%3A%20true%2C%20%22fillColor%22%3A%20%22%2369b3a2%22%2C%20%22fillOpacity%22%3A%200.2%2C%20%22fillRule%22%3A%20%22evenodd%22%2C%20%22lineCap%22%3A%20%22round%22%2C%20%22lineJoin%22%3A%20%22round%22%2C%20%22opacity%22%3A%201.0%2C%20%22radius%22%3A%2012.4464%2C%20%22stroke%22%3A%20true%2C%20%22weight%22%3A%203%7D%0A%20%20%20%20%20%20%20%20%20%20%20%20%29.addTo%28map_873c7bf2610947a59b02631752d014e4%29%3B%0A%20%20%20%20%20%20%20%20%0A%20%20%20%20%0A%20%20%20%20%20%20%20%20var%20popup_e1bee9775c75466699b8a3322d773c08%20%3D%20L.popup%28%7B%22maxWidth%22%3A%20%22100%25%22%7D%29%3B%0A%0A%20%20%20%20%20%20%20%20%0A%20%20%20%20%20%20%20%20%20%20%20%20var%20html_f085607810114d0a8348a4e1138452f5%20%3D%20%24%28%60%3Cdiv%20id%3D%22html_f085607810114d0a8348a4e1138452f5%22%20style%3D%22width%3A%20100.0%25%3B%20height%3A%20100.0%25%3B%22%3EPolatl%C4%B1%3C/div%3E%60%29%5B0%5D%3B%0A%20%20%20%20%20%20%20%20%20%20%20%20popup_e1bee9775c75466699b8a3322d773c08.setContent%28html_f085607810114d0a8348a4e1138452f5%29%3B%0A%20%20%20%20%20%20%20%20%0A%0A%20%20%20%20%20%20%20%20circle_marker_14a064bc2e5b406ca0d4ec686dd0cf4a.bindPopup%28popup_e1bee9775c75466699b8a3322d773c08%29%0A%20%20%20%20%20%20%20%20%3B%0A%0A%20%20%20%20%20%20%20%20%0A%20%20%20%20%0A%20%20%20%20%0A%20%20%20%20%20%20%20%20%20%20%20%20var%20circle_marker_5773fe57ed0e49f18d9649dd7f1349fb%20%3D%20L.circleMarker%28%0A%20%20%20%20%20%20%20%20%20%20%20%20%20%20%20%20%5B40.1099398%2C%2032.865985470968134%5D%2C%0A%20%20%20%20%20%20%20%20%20%20%20%20%20%20%20%20%7B%22bubblingMouseEvents%22%3A%20true%2C%20%22color%22%3A%20%22%2369b3a2%22%2C%20%22dashArray%22%3A%20null%2C%20%22dashOffset%22%3A%20null%2C%20%22fill%22%3A%20true%2C%20%22fillColor%22%3A%20%22%2369b3a2%22%2C%20%22fillOpacity%22%3A%200.2%2C%20%22fillRule%22%3A%20%22evenodd%22%2C%20%22lineCap%22%3A%20%22round%22%2C%20%22lineJoin%22%3A%20%22round%22%2C%20%22opacity%22%3A%201.0%2C%20%22radius%22%3A%2014.2317%2C%20%22stroke%22%3A%20true%2C%20%22weight%22%3A%203%7D%0A%20%20%20%20%20%20%20%20%20%20%20%20%29.addTo%28map_873c7bf2610947a59b02631752d014e4%29%3B%0A%20%20%20%20%20%20%20%20%0A%20%20%20%20%0A%20%20%20%20%20%20%20%20var%20popup_ffd4a758f23b4b7689a407aa1ccdc48f%20%3D%20L.popup%28%7B%22maxWidth%22%3A%20%22100%25%22%7D%29%3B%0A%0A%20%20%20%20%20%20%20%20%0A%20%20%20%20%20%20%20%20%20%20%20%20var%20html_3ad6e69c94684ba3ac25529c48a0cf6f%20%3D%20%24%28%60%3Cdiv%20id%3D%22html_3ad6e69c94684ba3ac25529c48a0cf6f%22%20style%3D%22width%3A%20100.0%25%3B%20height%3A%20100.0%25%3B%22%3EPursaklar%3C/div%3E%60%29%5B0%5D%3B%0A%20%20%20%20%20%20%20%20%20%20%20%20popup_ffd4a758f23b4b7689a407aa1ccdc48f.setContent%28html_3ad6e69c94684ba3ac25529c48a0cf6f%29%3B%0A%20%20%20%20%20%20%20%20%0A%0A%20%20%20%20%20%20%20%20circle_marker_5773fe57ed0e49f18d9649dd7f1349fb.bindPopup%28popup_ffd4a758f23b4b7689a407aa1ccdc48f%29%0A%20%20%20%20%20%20%20%20%3B%0A%0A%20%20%20%20%20%20%20%20%0A%20%20%20%20%0A%20%20%20%20%0A%20%20%20%20%20%20%20%20%20%20%20%20var%20circle_marker_830f04995303496aa8e1e497c17a9fea%20%3D%20L.circleMarker%28%0A%20%20%20%20%20%20%20%20%20%20%20%20%20%20%20%20%5B39.8879777%2C%2032.521480905793695%5D%2C%0A%20%20%20%20%20%20%20%20%20%20%20%20%20%20%20%20%7B%22bubblingMouseEvents%22%3A%20true%2C%20%22color%22%3A%20%22%2369b3a2%22%2C%20%22dashArray%22%3A%20null%2C%20%22dashOffset%22%3A%20null%2C%20%22fill%22%3A%20true%2C%20%22fillColor%22%3A%20%22%2369b3a2%22%2C%20%22fillOpacity%22%3A%200.2%2C%20%22fillRule%22%3A%20%22evenodd%22%2C%20%22lineCap%22%3A%20%22round%22%2C%20%22lineJoin%22%3A%20%22round%22%2C%20%22opacity%22%3A%201.0%2C%20%22radius%22%3A%2052.4222%2C%20%22stroke%22%3A%20true%2C%20%22weight%22%3A%203%7D%0A%20%20%20%20%20%20%20%20%20%20%20%20%29.addTo%28map_873c7bf2610947a59b02631752d014e4%29%3B%0A%20%20%20%20%20%20%20%20%0A%20%20%20%20%0A%20%20%20%20%20%20%20%20var%20popup_3da6804fe5374e66b84b73a0dac0cb6a%20%3D%20L.popup%28%7B%22maxWidth%22%3A%20%22100%25%22%7D%29%3B%0A%0A%20%20%20%20%20%20%20%20%0A%20%20%20%20%20%20%20%20%20%20%20%20var%20html_9a42cbc00aaa426dac6775df46d694a7%20%3D%20%24%28%60%3Cdiv%20id%3D%22html_9a42cbc00aaa426dac6775df46d694a7%22%20style%3D%22width%3A%20100.0%25%3B%20height%3A%20100.0%25%3B%22%3ESincan%3C/div%3E%60%29%5B0%5D%3B%0A%20%20%20%20%20%20%20%20%20%20%20%20popup_3da6804fe5374e66b84b73a0dac0cb6a.setContent%28html_9a42cbc00aaa426dac6775df46d694a7%29%3B%0A%20%20%20%20%20%20%20%20%0A%0A%20%20%20%20%20%20%20%20circle_marker_830f04995303496aa8e1e497c17a9fea.bindPopup%28popup_3da6804fe5374e66b84b73a0dac0cb6a%29%0A%20%20%20%20%20%20%20%20%3B%0A%0A%20%20%20%20%20%20%20%20%0A%20%20%20%20%0A%20%20%20%20%0A%20%20%20%20%20%20%20%20%20%20%20%20var%20circle_marker_b136ead3088740169a22e8828cd1f26f%20%3D%20L.circleMarker%28%0A%20%20%20%20%20%20%20%20%20%20%20%20%20%20%20%20%5B38.9400595%2C%2033.5415722%5D%2C%0A%20%20%20%20%20%20%20%20%20%20%20%20%20%20%20%20%7B%22bubblingMouseEvents%22%3A%20true%2C%20%22color%22%3A%20%22%2369b3a2%22%2C%20%22dashArray%22%3A%20null%2C%20%22dashOffset%22%3A%20null%2C%20%22fill%22%3A%20true%2C%20%22fillColor%22%3A%20%22%2369b3a2%22%2C%20%22fillOpacity%22%3A%200.2%2C%20%22fillRule%22%3A%20%22evenodd%22%2C%20%22lineCap%22%3A%20%22round%22%2C%20%22lineJoin%22%3A%20%22round%22%2C%20%22opacity%22%3A%201.0%2C%20%22radius%22%3A%203.3598999999999997%2C%20%22stroke%22%3A%20true%2C%20%22weight%22%3A%203%7D%0A%20%20%20%20%20%20%20%20%20%20%20%20%29.addTo%28map_873c7bf2610947a59b02631752d014e4%29%3B%0A%20%20%20%20%20%20%20%20%0A%20%20%20%20%0A%20%20%20%20%20%20%20%20var%20popup_0cab1a9a6aa046c58a86383c6ec35ef0%20%3D%20L.popup%28%7B%22maxWidth%22%3A%20%22100%25%22%7D%29%3B%0A%0A%20%20%20%20%20%20%20%20%0A%20%20%20%20%20%20%20%20%20%20%20%20var%20html_38a4f8a811c84ac884fde4739316a8e6%20%3D%20%24%28%60%3Cdiv%20id%3D%22html_38a4f8a811c84ac884fde4739316a8e6%22%20style%3D%22width%3A%20100.0%25%3B%20height%3A%20100.0%25%3B%22%3E%C5%9Eerefliko%C3%A7hisar%3C/div%3E%60%29%5B0%5D%3B%0A%20%20%20%20%20%20%20%20%20%20%20%20popup_0cab1a9a6aa046c58a86383c6ec35ef0.setContent%28html_38a4f8a811c84ac884fde4739316a8e6%29%3B%0A%20%20%20%20%20%20%20%20%0A%0A%20%20%20%20%20%20%20%20circle_marker_b136ead3088740169a22e8828cd1f26f.bindPopup%28popup_0cab1a9a6aa046c58a86383c6ec35ef0%29%0A%20%20%20%20%20%20%20%20%3B%0A%0A%20%20%20%20%20%20%20%20%0A%20%20%20%20%0A%20%20%20%20%0A%20%20%20%20%20%20%20%20%20%20%20%20var%20circle_marker_a267d79767974989a9eed8430f2eb779%20%3D%20L.circleMarker%28%0A%20%20%20%20%20%20%20%20%20%20%20%20%20%20%20%20%5B40.00873125%2C%2032.6824433703666%5D%2C%0A%20%20%20%20%20%20%20%20%20%20%20%20%20%20%20%20%7B%22bubblingMouseEvents%22%3A%20true%2C%20%22color%22%3A%20%22%2369b3a2%22%2C%20%22dashArray%22%3A%20null%2C%20%22dashOffset%22%3A%20null%2C%20%22fill%22%3A%20true%2C%20%22fillColor%22%3A%20%22%2369b3a2%22%2C%20%22fillOpacity%22%3A%200.2%2C%20%22fillRule%22%3A%20%22evenodd%22%2C%20%22lineCap%22%3A%20%22round%22%2C%20%22lineJoin%22%3A%20%22round%22%2C%20%22opacity%22%3A%201.0%2C%20%22radius%22%3A%2065.96029999999999%2C%20%22stroke%22%3A%20true%2C%20%22weight%22%3A%203%7D%0A%20%20%20%20%20%20%20%20%20%20%20%20%29.addTo%28map_873c7bf2610947a59b02631752d014e4%29%3B%0A%20%20%20%20%20%20%20%20%0A%20%20%20%20%0A%20%20%20%20%20%20%20%20var%20popup_e9f91025de9449d0bce36023e3d74220%20%3D%20L.popup%28%7B%22maxWidth%22%3A%20%22100%25%22%7D%29%3B%0A%0A%20%20%20%20%20%20%20%20%0A%20%20%20%20%20%20%20%20%20%20%20%20var%20html_21a76fbed530445db9a2070b5e006b5a%20%3D%20%24%28%60%3Cdiv%20id%3D%22html_21a76fbed530445db9a2070b5e006b5a%22%20style%3D%22width%3A%20100.0%25%3B%20height%3A%20100.0%25%3B%22%3EYenimahalle%3C/div%3E%60%29%5B0%5D%3B%0A%20%20%20%20%20%20%20%20%20%20%20%20popup_e9f91025de9449d0bce36023e3d74220.setContent%28html_21a76fbed530445db9a2070b5e006b5a%29%3B%0A%20%20%20%20%20%20%20%20%0A%0A%20%20%20%20%20%20%20%20circle_marker_a267d79767974989a9eed8430f2eb779.bindPopup%28popup_e9f91025de9449d0bce36023e3d74220%29%0A%20%20%20%20%20%20%20%20%3B%0A%0A%20%20%20%20%20%20%20%20%0A%20%20%20%20%0A%20%20%20%20%0A%20%20%20%20%20%20%20%20%20%20%20%20var%20marker_2f21b3a8911644d69b48c49f89889b2d%20%3D%20L.marker%28%0A%20%20%20%20%20%20%20%20%20%20%20%20%20%20%20%20%5B39.93703755%2C%2032.875750300840544%5D%2C%0A%20%20%20%20%20%20%20%20%20%20%20%20%20%20%20%20%7B%7D%0A%20%20%20%20%20%20%20%20%20%20%20%20%29.addTo%28map_873c7bf2610947a59b02631752d014e4%29%3B%0A%20%20%20%20%20%20%20%20%0A%20%20%20%20%0A%20%20%20%20%20%20%20%20var%20popup_c6c2a608924041b68a4ce69c0d6681ac%20%3D%20L.popup%28%7B%22maxWidth%22%3A%20%22100%25%22%7D%29%3B%0A%0A%20%20%20%20%20%20%20%20%0A%20%20%20%20%20%20%20%20%20%20%20%20var%20html_2618abf3ed4c442a834486b9d51792e4%20%3D%20%24%28%60%3Cdiv%20id%3D%22html_2618abf3ed4c442a834486b9d51792e4%22%20style%3D%22width%3A%20100.0%25%3B%20height%3A%20100.0%25%3B%22%3EAnkara%20Egitim%20Ve%20Arastirma%20Hastanesi%20%3C/div%3E%60%29%5B0%5D%3B%0A%20%20%20%20%20%20%20%20%20%20%20%20popup_c6c2a608924041b68a4ce69c0d6681ac.setContent%28html_2618abf3ed4c442a834486b9d51792e4%29%3B%0A%20%20%20%20%20%20%20%20%0A%0A%20%20%20%20%20%20%20%20marker_2f21b3a8911644d69b48c49f89889b2d.bindPopup%28popup_c6c2a608924041b68a4ce69c0d6681ac%29%0A%20%20%20%20%20%20%20%20%3B%0A%0A%20%20%20%20%20%20%20%20%0A%20%20%20%20%0A%20%20%20%20%0A%20%20%20%20%20%20%20%20%20%20%20%20var%20marker_2e5e716a133a464bb6345a4a372ce275%20%3D%20L.marker%28%0A%20%20%20%20%20%20%20%20%20%20%20%20%20%20%20%20%5B39.9305489%2C%2032.8452211%5D%2C%0A%20%20%20%20%20%20%20%20%20%20%20%20%20%20%20%20%7B%7D%0A%20%20%20%20%20%20%20%20%20%20%20%20%29.addTo%28map_873c7bf2610947a59b02631752d014e4%29%3B%0A%20%20%20%20%20%20%20%20%0A%20%20%20%20%0A%20%20%20%20%20%20%20%20var%20popup_d293f820e6d347cbab153fa394ba9d7f%20%3D%20L.popup%28%7B%22maxWidth%22%3A%20%22100%25%22%7D%29%3B%0A%0A%20%20%20%20%20%20%20%20%0A%20%20%20%20%20%20%20%20%20%20%20%20var%20html_75379eb29ac645cba7af63290c14c7d6%20%3D%20%24%28%60%3Cdiv%20id%3D%22html_75379eb29ac645cba7af63290c14c7d6%22%20style%3D%22width%3A%20100.0%25%3B%20height%3A%20100.0%25%3B%22%3EAnkara%20Fizik%20Tedavi%20Ve%20Rehabilitasyon%20Merkezi%20%3C/div%3E%60%29%5B0%5D%3B%0A%20%20%20%20%20%20%20%20%20%20%20%20popup_d293f820e6d347cbab153fa394ba9d7f.setContent%28html_75379eb29ac645cba7af63290c14c7d6%29%3B%0A%20%20%20%20%20%20%20%20%0A%0A%20%20%20%20%20%20%20%20marker_2e5e716a133a464bb6345a4a372ce275.bindPopup%28popup_d293f820e6d347cbab153fa394ba9d7f%29%0A%20%20%20%20%20%20%20%20%3B%0A%0A%20%20%20%20%20%20%20%20%0A%20%20%20%20%0A%20%20%20%20%0A%20%20%20%20%20%20%20%20%20%20%20%20var%20marker_fc26e47c1a1645bfa1bf2a2b2204d36a%20%3D%20L.marker%28%0A%20%20%20%20%20%20%20%20%20%20%20%20%20%20%20%20%5B39.926589%2C%2032.852425965762116%5D%2C%0A%20%20%20%20%20%20%20%20%20%20%20%20%20%20%20%20%7B%7D%0A%20%20%20%20%20%20%20%20%20%20%20%20%29.addTo%28map_873c7bf2610947a59b02631752d014e4%29%3B%0A%20%20%20%20%20%20%20%20%0A%20%20%20%20%0A%20%20%20%20%20%20%20%20var%20popup_4351e26184854ee791eb90f4bb735b3e%20%3D%20L.popup%28%7B%22maxWidth%22%3A%20%22100%25%22%7D%29%3B%0A%0A%20%20%20%20%20%20%20%20%0A%20%20%20%20%20%20%20%20%20%20%20%20var%20html_e6829fa09dc94e369d18a0fe97e44852%20%3D%20%24%28%60%3Cdiv%20id%3D%22html_e6829fa09dc94e369d18a0fe97e44852%22%20style%3D%22width%3A%20100.0%25%3B%20height%3A%20100.0%25%3B%22%3EAnkara%20Numune%20Hastanesi%20%3C/div%3E%60%29%5B0%5D%3B%0A%20%20%20%20%20%20%20%20%20%20%20%20popup_4351e26184854ee791eb90f4bb735b3e.setContent%28html_e6829fa09dc94e369d18a0fe97e44852%29%3B%0A%20%20%20%20%20%20%20%20%0A%0A%20%20%20%20%20%20%20%20marker_fc26e47c1a1645bfa1bf2a2b2204d36a.bindPopup%28popup_4351e26184854ee791eb90f4bb735b3e%29%0A%20%20%20%20%20%20%20%20%3B%0A%0A%20%20%20%20%20%20%20%20%0A%20%20%20%20%0A%20%20%20%20%0A%20%20%20%20%20%20%20%20%20%20%20%20var%20marker_f6ed367f4d0a40c8a4bd71c17ccdbf3b%20%3D%20L.marker%28%0A%20%20%20%20%20%20%20%20%20%20%20%20%20%20%20%20%5B39.9228985%2C%2032.8634291%5D%2C%0A%20%20%20%20%20%20%20%20%20%20%20%20%20%20%20%20%7B%7D%0A%20%20%20%20%20%20%20%20%20%20%20%20%29.addTo%28map_873c7bf2610947a59b02631752d014e4%29%3B%0A%20%20%20%20%20%20%20%20%0A%20%20%20%20%0A%20%20%20%20%20%20%20%20var%20popup_1a534ed6754e4f219ca66b930af9b955%20%3D%20L.popup%28%7B%22maxWidth%22%3A%20%22100%25%22%7D%29%3B%0A%0A%20%20%20%20%20%20%20%20%0A%20%20%20%20%20%20%20%20%20%20%20%20var%20html_d436ea5e9b804749ab6192f2345de367%20%3D%20%24%28%60%3Cdiv%20id%3D%22html_d436ea5e9b804749ab6192f2345de367%22%20style%3D%22width%3A%20100.0%25%3B%20height%3A%20100.0%25%3B%22%3EAnkara%20Onkoloji%20Hastanesi%20%3C/div%3E%60%29%5B0%5D%3B%0A%20%20%20%20%20%20%20%20%20%20%20%20popup_1a534ed6754e4f219ca66b930af9b955.setContent%28html_d436ea5e9b804749ab6192f2345de367%29%3B%0A%20%20%20%20%20%20%20%20%0A%0A%20%20%20%20%20%20%20%20marker_f6ed367f4d0a40c8a4bd71c17ccdbf3b.bindPopup%28popup_1a534ed6754e4f219ca66b930af9b955%29%0A%20%20%20%20%20%20%20%20%3B%0A%0A%20%20%20%20%20%20%20%20%0A%20%20%20%20%0A%20%20%20%20%0A%20%20%20%20%20%20%20%20%20%20%20%20var%20marker_73616bc97420403eb62f940ee6becdc9%20%3D%20L.marker%28%0A%20%20%20%20%20%20%20%20%20%20%20%20%20%20%20%20%5B38.3941054%2C%2027.006971266377235%5D%2C%0A%20%20%20%20%20%20%20%20%20%20%20%20%20%20%20%20%7B%7D%0A%20%20%20%20%20%20%20%20%20%20%20%20%29.addTo%28map_873c7bf2610947a59b02631752d014e4%29%3B%0A%20%20%20%20%20%20%20%20%0A%20%20%20%20%0A%20%20%20%20%20%20%20%20var%20popup_c62a83cfc67445d79e82181a0e572700%20%3D%20L.popup%28%7B%22maxWidth%22%3A%20%22100%25%22%7D%29%3B%0A%0A%20%20%20%20%20%20%20%20%0A%20%20%20%20%20%20%20%20%20%20%20%20var%20html_29c8a858c5574e14ac4177b749dd94ce%20%3D%20%24%28%60%3Cdiv%20id%3D%22html_29c8a858c5574e14ac4177b749dd94ce%22%20style%3D%22width%3A%20100.0%25%3B%20height%3A%20100.0%25%3B%22%3EAtat%C3%BCrk%20Ara%C5%9Ft%C4%B1rma%20Hastanesi%20%3C/div%3E%60%29%5B0%5D%3B%0A%20%20%20%20%20%20%20%20%20%20%20%20popup_c62a83cfc67445d79e82181a0e572700.setContent%28html_29c8a858c5574e14ac4177b749dd94ce%29%3B%0A%20%20%20%20%20%20%20%20%0A%0A%20%20%20%20%20%20%20%20marker_73616bc97420403eb62f940ee6becdc9.bindPopup%28popup_c62a83cfc67445d79e82181a0e572700%29%0A%20%20%20%20%20%20%20%20%3B%0A%0A%20%20%20%20%20%20%20%20%0A%20%20%20%20%0A%20%20%20%20%0A%20%20%20%20%20%20%20%20%20%20%20%20var%20marker_594a4306a97d45a7bb466e9f734b391c%20%3D%20L.marker%28%0A%20%20%20%20%20%20%20%20%20%20%20%20%20%20%20%20%5B39.86211575%2C%2033.482253790918136%5D%2C%0A%20%20%20%20%20%20%20%20%20%20%20%20%20%20%20%20%7B%7D%0A%20%20%20%20%20%20%20%20%20%20%20%20%29.addTo%28map_873c7bf2610947a59b02631752d014e4%29%3B%0A%20%20%20%20%20%20%20%20%0A%20%20%20%20%0A%20%20%20%20%20%20%20%20var%20popup_79f78cbd5eb243ffa99b02b380b70b5f%20%3D%20L.popup%28%7B%22maxWidth%22%3A%20%22100%25%22%7D%29%3B%0A%0A%20%20%20%20%20%20%20%20%0A%20%20%20%20%20%20%20%20%20%20%20%20var%20html_6643ff126cdb43d99e1b74d432ed8a04%20%3D%20%24%28%60%3Cdiv%20id%3D%22html_6643ff126cdb43d99e1b74d432ed8a04%22%20style%3D%22width%3A%20100.0%25%3B%20height%3A%20100.0%25%3B%22%3ET%C3%BCrkiye%20Y%C3%BCksek%20%C4%B0htisas%20Hastanesi%20%3C/div%3E%60%29%5B0%5D%3B%0A%20%20%20%20%20%20%20%20%20%20%20%20popup_79f78cbd5eb243ffa99b02b380b70b5f.setContent%28html_6643ff126cdb43d99e1b74d432ed8a04%29%3B%0A%20%20%20%20%20%20%20%20%0A%0A%20%20%20%20%20%20%20%20marker_594a4306a97d45a7bb466e9f734b391c.bindPopup%28popup_79f78cbd5eb243ffa99b02b380b70b5f%29%0A%20%20%20%20%20%20%20%20%3B%0A%0A%20%20%20%20%20%20%20%20%0A%20%20%20%20%0A%20%20%20%20%0A%20%20%20%20%20%20%20%20%20%20%20%20var%20marker_7597e359fa374eb1b8054d5e34ee4968%20%3D%20L.marker%28%0A%20%20%20%20%20%20%20%20%20%20%20%20%20%20%20%20%5B40.00792095%2C%2032.86109197629394%5D%2C%0A%20%20%20%20%20%20%20%20%20%20%20%20%20%20%20%20%7B%7D%0A%20%20%20%20%20%20%20%20%20%20%20%20%29.addTo%28map_873c7bf2610947a59b02631752d014e4%29%3B%0A%20%20%20%20%20%20%20%20%0A%20%20%20%20%0A%20%20%20%20%20%20%20%20var%20popup_768ad95a6d7d4c8595dc159f096082c4%20%3D%20L.popup%28%7B%22maxWidth%22%3A%20%22100%25%22%7D%29%3B%0A%0A%20%20%20%20%20%20%20%20%0A%20%20%20%20%20%20%20%20%20%20%20%20var%20html_a82ca7b96fe9454aab749e24d5e7b301%20%3D%20%24%28%60%3Cdiv%20id%3D%22html_a82ca7b96fe9454aab749e24d5e7b301%22%20style%3D%22width%3A%20100.0%25%3B%20height%3A%20100.0%25%3B%22%3EAnkara%20Meslek%20Hastanesi%20%3C/div%3E%60%29%5B0%5D%3B%0A%20%20%20%20%20%20%20%20%20%20%20%20popup_768ad95a6d7d4c8595dc159f096082c4.setContent%28html_a82ca7b96fe9454aab749e24d5e7b301%29%3B%0A%20%20%20%20%20%20%20%20%0A%0A%20%20%20%20%20%20%20%20marker_7597e359fa374eb1b8054d5e34ee4968.bindPopup%28popup_768ad95a6d7d4c8595dc159f096082c4%29%0A%20%20%20%20%20%20%20%20%3B%0A%0A%20%20%20%20%20%20%20%20%0A%20%20%20%20%0A%20%20%20%20%0A%20%20%20%20%20%20%20%20%20%20%20%20var%20marker_8943cde4bdf54084868f95e87ecf44e0%20%3D%20L.marker%28%0A%20%20%20%20%20%20%20%20%20%20%20%20%20%20%20%20%5B39.9047963%2C%2032.8633166%5D%2C%0A%20%20%20%20%20%20%20%20%20%20%20%20%20%20%20%20%7B%7D%0A%20%20%20%20%20%20%20%20%20%20%20%20%29.addTo%28map_873c7bf2610947a59b02631752d014e4%29%3B%0A%20%20%20%20%20%20%20%20%0A%20%20%20%20%0A%20%20%20%20%20%20%20%20var%20popup_2668f0e650a3489bae7d0470b8c95561%20%3D%20L.popup%28%7B%22maxWidth%22%3A%20%22100%25%22%7D%29%3B%0A%0A%20%20%20%20%20%20%20%20%0A%20%20%20%20%20%20%20%20%20%20%20%20var%20html_6101215487e24458831e4670d9c43d92%20%3D%20%24%28%60%3Cdiv%20id%3D%22html_6101215487e24458831e4670d9c43d92%22%20style%3D%22width%3A%20100.0%25%3B%20height%3A%20100.0%25%3B%22%3E%C3%87ANKAYA%20HASTANES%C4%B0%3C/div%3E%60%29%5B0%5D%3B%0A%20%20%20%20%20%20%20%20%20%20%20%20popup_2668f0e650a3489bae7d0470b8c95561.setContent%28html_6101215487e24458831e4670d9c43d92%29%3B%0A%20%20%20%20%20%20%20%20%0A%0A%20%20%20%20%20%20%20%20marker_8943cde4bdf54084868f95e87ecf44e0.bindPopup%28popup_2668f0e650a3489bae7d0470b8c95561%29%0A%20%20%20%20%20%20%20%20%3B%0A%0A%20%20%20%20%20%20%20%20%0A%20%20%20%20%0A%20%20%20%20%0A%20%20%20%20%20%20%20%20%20%20%20%20var%20marker_d35b7d9dd9c84906ae20dca2220bf79e%20%3D%20L.marker%28%0A%20%20%20%20%20%20%20%20%20%20%20%20%20%20%20%20%5B39.91258875%2C%2032.8577683685065%5D%2C%0A%20%20%20%20%20%20%20%20%20%20%20%20%20%20%20%20%7B%7D%0A%20%20%20%20%20%20%20%20%20%20%20%20%29.addTo%28map_873c7bf2610947a59b02631752d014e4%29%3B%0A%20%20%20%20%20%20%20%20%0A%20%20%20%20%0A%20%20%20%20%20%20%20%20var%20popup_aa6e6f3340bd4c6f95ddad0a62a7479c%20%3D%20L.popup%28%7B%22maxWidth%22%3A%20%22100%25%22%7D%29%3B%0A%0A%20%20%20%20%20%20%20%20%0A%20%20%20%20%20%20%20%20%20%20%20%20var%20html_2279b6b8678a4202b3df9d726e7c3481%20%3D%20%24%28%60%3Cdiv%20id%3D%22html_2279b6b8678a4202b3df9d726e7c3481%22%20style%3D%22width%3A%20100.0%25%3B%20height%3A%20100.0%25%3B%22%3E%C3%96ZEL%20AKAY%20HASTANES%C4%B0%3C/div%3E%60%29%5B0%5D%3B%0A%20%20%20%20%20%20%20%20%20%20%20%20popup_aa6e6f3340bd4c6f95ddad0a62a7479c.setContent%28html_2279b6b8678a4202b3df9d726e7c3481%29%3B%0A%20%20%20%20%20%20%20%20%0A%0A%20%20%20%20%20%20%20%20marker_d35b7d9dd9c84906ae20dca2220bf79e.bindPopup%28popup_aa6e6f3340bd4c6f95ddad0a62a7479c%29%0A%20%20%20%20%20%20%20%20%3B%0A%0A%20%20%20%20%20%20%20%20%0A%20%20%20%20%0A%20%20%20%20%0A%20%20%20%20%20%20%20%20%20%20%20%20var%20marker_00bf40af5f91462da1ac0d452fb0ff58%20%3D%20L.marker%28%0A%20%20%20%20%20%20%20%20%20%20%20%20%20%20%20%20%5B37.0477776%2C%2037.33210427691449%5D%2C%0A%20%20%20%20%20%20%20%20%20%20%20%20%20%20%20%20%7B%7D%0A%20%20%20%20%20%20%20%20%20%20%20%20%29.addTo%28map_873c7bf2610947a59b02631752d014e4%29%3B%0A%20%20%20%20%20%20%20%20%0A%20%20%20%20%0A%20%20%20%20%20%20%20%20var%20popup_7ef2c351e61b4342950b476a7fb6f427%20%3D%20L.popup%28%7B%22maxWidth%22%3A%20%22100%25%22%7D%29%3B%0A%0A%20%20%20%20%20%20%20%20%0A%20%20%20%20%20%20%20%20%20%20%20%20var%20html_e9b29ed072e240d1bce1358f46785af7%20%3D%20%24%28%60%3Cdiv%20id%3D%22html_e9b29ed072e240d1bce1358f46785af7%22%20style%3D%22width%3A%20100.0%25%3B%20height%3A%20100.0%25%3B%22%3E%C3%96ZEL%20BAYINDIR%20HASTANES%C4%B0%3C/div%3E%60%29%5B0%5D%3B%0A%20%20%20%20%20%20%20%20%20%20%20%20popup_7ef2c351e61b4342950b476a7fb6f427.setContent%28html_e9b29ed072e240d1bce1358f46785af7%29%3B%0A%20%20%20%20%20%20%20%20%0A%0A%20%20%20%20%20%20%20%20marker_00bf40af5f91462da1ac0d452fb0ff58.bindPopup%28popup_7ef2c351e61b4342950b476a7fb6f427%29%0A%20%20%20%20%20%20%20%20%3B%0A%0A%20%20%20%20%20%20%20%20%0A%20%20%20%20%0A%20%20%20%20%0A%20%20%20%20%20%20%20%20%20%20%20%20var%20marker_c28200875aad4c42a88d0bd8d95fd765%20%3D%20L.marker%28%0A%20%20%20%20%20%20%20%20%20%20%20%20%20%20%20%20%5B37.87756865%2C%2032.50664577023804%5D%2C%0A%20%20%20%20%20%20%20%20%20%20%20%20%20%20%20%20%7B%7D%0A%20%20%20%20%20%20%20%20%20%20%20%20%29.addTo%28map_873c7bf2610947a59b02631752d014e4%29%3B%0A%20%20%20%20%20%20%20%20%0A%20%20%20%20%0A%20%20%20%20%20%20%20%20var%20popup_356617515b3844ec8869552b05c09dc3%20%3D%20L.popup%28%7B%22maxWidth%22%3A%20%22100%25%22%7D%29%3B%0A%0A%20%20%20%20%20%20%20%20%0A%20%20%20%20%20%20%20%20%20%20%20%20var%20html_06b58f044aff48299011f7e23b43e264%20%3D%20%24%28%60%3Cdiv%20id%3D%22html_06b58f044aff48299011f7e23b43e264%22%20style%3D%22width%3A%20100.0%25%3B%20height%3A%20100.0%25%3B%22%3E%C3%96ZEL%20B%C4%B0LG%C4%B0%20HASTANES%C4%B0%3C/div%3E%60%29%5B0%5D%3B%0A%20%20%20%20%20%20%20%20%20%20%20%20popup_356617515b3844ec8869552b05c09dc3.setContent%28html_06b58f044aff48299011f7e23b43e264%29%3B%0A%20%20%20%20%20%20%20%20%0A%0A%20%20%20%20%20%20%20%20marker_c28200875aad4c42a88d0bd8d95fd765.bindPopup%28popup_356617515b3844ec8869552b05c09dc3%29%0A%20%20%20%20%20%20%20%20%3B%0A%0A%20%20%20%20%20%20%20%20%0A%20%20%20%20%0A%20%20%20%20%0A%20%20%20%20%20%20%20%20%20%20%20%20var%20marker_626b648730fa45e3b66ab3801cabe60e%20%3D%20L.marker%28%0A%20%20%20%20%20%20%20%20%20%20%20%20%20%20%20%20%5B39.9717794%2C%2032.652336784998255%5D%2C%0A%20%20%20%20%20%20%20%20%20%20%20%20%20%20%20%20%7B%7D%0A%20%20%20%20%20%20%20%20%20%20%20%20%29.addTo%28map_873c7bf2610947a59b02631752d014e4%29%3B%0A%20%20%20%20%20%20%20%20%0A%20%20%20%20%0A%20%20%20%20%20%20%20%20var%20popup_0eeb4188f3f744158c4ad83bd1d8a57f%20%3D%20L.popup%28%7B%22maxWidth%22%3A%20%22100%25%22%7D%29%3B%0A%0A%20%20%20%20%20%20%20%20%0A%20%20%20%20%20%20%20%20%20%20%20%20var%20html_1501937debf04c199446c1ded5ddc6fa%20%3D%20%24%28%60%3Cdiv%20id%3D%22html_1501937debf04c199446c1ded5ddc6fa%22%20style%3D%22width%3A%20100.0%25%3B%20height%3A%20100.0%25%3B%22%3E%C3%96ZEL%20ERYAMAN%20HASTANES%C4%B0%3C/div%3E%60%29%5B0%5D%3B%0A%20%20%20%20%20%20%20%20%20%20%20%20popup_0eeb4188f3f744158c4ad83bd1d8a57f.setContent%28html_1501937debf04c199446c1ded5ddc6fa%29%3B%0A%20%20%20%20%20%20%20%20%0A%0A%20%20%20%20%20%20%20%20marker_626b648730fa45e3b66ab3801cabe60e.bindPopup%28popup_0eeb4188f3f744158c4ad83bd1d8a57f%29%0A%20%20%20%20%20%20%20%20%3B%0A%0A%20%20%20%20%20%20%20%20%0A%20%20%20%20%0A%20%20%20%20%0A%20%20%20%20%20%20%20%20%20%20%20%20var%20marker_b2bad43aef1f4f51a9de1958b3a5e1e6%20%3D%20L.marker%28%0A%20%20%20%20%20%20%20%20%20%20%20%20%20%20%20%20%5B39.953771399999994%2C%2032.62821101318643%5D%2C%0A%20%20%20%20%20%20%20%20%20%20%20%20%20%20%20%20%7B%7D%0A%20%20%20%20%20%20%20%20%20%20%20%20%29.addTo%28map_873c7bf2610947a59b02631752d014e4%29%3B%0A%20%20%20%20%20%20%20%20%0A%20%20%20%20%0A%20%20%20%20%20%20%20%20var%20popup_11782e9e35d3401996118e621202bbf0%20%3D%20L.popup%28%7B%22maxWidth%22%3A%20%22100%25%22%7D%29%3B%0A%0A%20%20%20%20%20%20%20%20%0A%20%20%20%20%20%20%20%20%20%20%20%20var%20html_7b0d52aec8514ec2962c74a832b9ac34%20%3D%20%24%28%60%3Cdiv%20id%3D%22html_7b0d52aec8514ec2962c74a832b9ac34%22%20style%3D%22width%3A%20100.0%25%3B%20height%3A%20100.0%25%3B%22%3E%C3%96ZEL%20ET%C4%B0MED%20HASTANESI%3C/div%3E%60%29%5B0%5D%3B%0A%20%20%20%20%20%20%20%20%20%20%20%20popup_11782e9e35d3401996118e621202bbf0.setContent%28html_7b0d52aec8514ec2962c74a832b9ac34%29%3B%0A%20%20%20%20%20%20%20%20%0A%0A%20%20%20%20%20%20%20%20marker_b2bad43aef1f4f51a9de1958b3a5e1e6.bindPopup%28popup_11782e9e35d3401996118e621202bbf0%29%0A%20%20%20%20%20%20%20%20%3B%0A%0A%20%20%20%20%20%20%20%20%0A%20%20%20%20%0A%20%20%20%20%0A%20%20%20%20%20%20%20%20%20%20%20%20var%20marker_4bae913f32a745faa28c2e34cb22525a%20%3D%20L.marker%28%0A%20%20%20%20%20%20%20%20%20%20%20%20%20%20%20%20%5B40.0022099%2C%2032.87355884579063%5D%2C%0A%20%20%20%20%20%20%20%20%20%20%20%20%20%20%20%20%7B%7D%0A%20%20%20%20%20%20%20%20%20%20%20%20%29.addTo%28map_873c7bf2610947a59b02631752d014e4%29%3B%0A%20%20%20%20%20%20%20%20%0A%20%20%20%20%0A%20%20%20%20%20%20%20%20var%20popup_72a38523c61d4b5bb0781120975c78cf%20%3D%20L.popup%28%7B%22maxWidth%22%3A%20%22100%25%22%7D%29%3B%0A%0A%20%20%20%20%20%20%20%20%0A%20%20%20%20%20%20%20%20%20%20%20%20var%20html_320b90bbcaa7472a89ff24161cf9b4d5%20%3D%20%24%28%60%3Cdiv%20id%3D%22html_320b90bbcaa7472a89ff24161cf9b4d5%22%20style%3D%22width%3A%20100.0%25%3B%20height%3A%20100.0%25%3B%22%3E%C3%96ZEL%20KE%C3%87%C4%B0%C3%96REN%20HASTANES%C4%B0%3C/div%3E%60%29%5B0%5D%3B%0A%20%20%20%20%20%20%20%20%20%20%20%20popup_72a38523c61d4b5bb0781120975c78cf.setContent%28html_320b90bbcaa7472a89ff24161cf9b4d5%29%3B%0A%20%20%20%20%20%20%20%20%0A%0A%20%20%20%20%20%20%20%20marker_4bae913f32a745faa28c2e34cb22525a.bindPopup%28popup_72a38523c61d4b5bb0781120975c78cf%29%0A%20%20%20%20%20%20%20%20%3B%0A%0A%20%20%20%20%20%20%20%20%0A%20%20%20%20%0A%20%20%20%20%0A%20%20%20%20%20%20%20%20%20%20%20%20var%20marker_34c1423aba6a4a98b191e528a8d6df7a%20%3D%20L.marker%28%0A%20%20%20%20%20%20%20%20%20%20%20%20%20%20%20%20%5B37.0140333%2C%2035.32555913784009%5D%2C%0A%20%20%20%20%20%20%20%20%20%20%20%20%20%20%20%20%7B%7D%0A%20%20%20%20%20%20%20%20%20%20%20%20%29.addTo%28map_873c7bf2610947a59b02631752d014e4%29%3B%0A%20%20%20%20%20%20%20%20%0A%20%20%20%20%0A%20%20%20%20%20%20%20%20var%20popup_c21493c061e04a969f41aba176186c7c%20%3D%20L.popup%28%7B%22maxWidth%22%3A%20%22100%25%22%7D%29%3B%0A%0A%20%20%20%20%20%20%20%20%0A%20%20%20%20%20%20%20%20%20%20%20%20var%20html_8b90321d40cf48c3998bb76fd8284956%20%3D%20%24%28%60%3Cdiv%20id%3D%22html_8b90321d40cf48c3998bb76fd8284956%22%20style%3D%22width%3A%20100.0%25%3B%20height%3A%20100.0%25%3B%22%3E%C3%96ZEL%20ORTADO%C4%9EU%20HASTANES%C4%B0%3C/div%3E%60%29%5B0%5D%3B%0A%20%20%20%20%20%20%20%20%20%20%20%20popup_c21493c061e04a969f41aba176186c7c.setContent%28html_8b90321d40cf48c3998bb76fd8284956%29%3B%0A%20%20%20%20%20%20%20%20%0A%0A%20%20%20%20%20%20%20%20marker_34c1423aba6a4a98b191e528a8d6df7a.bindPopup%28popup_c21493c061e04a969f41aba176186c7c%29%0A%20%20%20%20%20%20%20%20%3B%0A%0A%20%20%20%20%20%20%20%20%0A%20%20%20%20%0A%3C/script%3E onload=\"this.contentDocument.open();this.contentDocument.write(    decodeURIComponent(this.getAttribute('data-html')));this.contentDocument.close();\" allowfullscreen webkitallowfullscreen mozallowfullscreen></iframe></div></div>"
      ],
      "text/plain": [
       "<folium.folium.Map at 0x24c23e1af10>"
      ]
     },
     "execution_count": 22,
     "metadata": {},
     "output_type": "execute_result"
    }
   ],
   "source": [
    "turkey_map_t"
   ]
  },
  {
   "cell_type": "code",
   "execution_count": null,
   "metadata": {},
   "outputs": [],
   "source": []
  }
 ],
 "metadata": {
  "kernelspec": {
   "display_name": "Python 3",
   "language": "python",
   "name": "python3"
  },
  "language_info": {
   "codemirror_mode": {
    "name": "ipython",
    "version": 3
   },
   "file_extension": ".py",
   "mimetype": "text/x-python",
   "name": "python",
   "nbconvert_exporter": "python",
   "pygments_lexer": "ipython3",
   "version": "3.8.3"
  }
 },
 "nbformat": 4,
 "nbformat_minor": 4
}
