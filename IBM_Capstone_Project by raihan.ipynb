{
 "cells": [
  {
   "cell_type": "markdown",
   "metadata": {},
   "source": [
    "<h1>The Battle of Neighborhoods - Coursera IBM capstone Project"
   ]
  },
  {
   "cell_type": "markdown",
   "metadata": {},
   "source": [
    "Author: Raihan Insan Habibi"
   ]
  },
  {
   "cell_type": "markdown",
   "metadata": {},
   "source": [
    "Project Title:"
   ]
  },
  {
   "cell_type": "markdown",
   "metadata": {},
   "source": [
    "## Visual Approach to Determine Strategic Location for a New Covid-19 Testing Center in Ankara Using Data Science / Data Analytics Tool Kits"
   ]
  },
  {
   "cell_type": "markdown",
   "metadata": {},
   "source": [
    "<h3>1.Introduction / Business Problem"
   ]
  },
  {
   "cell_type": "markdown",
   "metadata": {},
   "source": [
    "At the beginning of 2020, cities around the globe were under attack by an invisible army called 'Novel Corona Virus'  known as 'Covid-19'. While every effort has focused on solving or minimizing problems at hand, other professionals such as Data scientists may need to assess the current situations in the city, such as the availability, the number, and the geographical distribution (location) of health infrastructures such as virus testing centers or 'specialist' hospital capable of handling and detecting such disease that standard hospitals cannot. It is due to the nature of the viral infection requiring more sophisticated instruments, reagents,  assay techniques, and high-throughput sample analysis platforms. In this article, I would like to describe a simple analysis for determining a strategic location for a new Covid-19 testing center in any city (Ankara in this case) using data science/data analytics toolsets. To show you a better understanding what we are dealing with, here is a highlighted map of Ankara city in Turkey"
   ]
  },
  {
   "cell_type": "code",
   "execution_count": 1,
   "metadata": {},
   "outputs": [
    {
     "data": {
      "text/html": [
       "<div style=\"width:100%;\"><div style=\"position:relative;width:100%;height:0;padding-bottom:60%;\"><span style=\"color:#565656\">Make this Notebook Trusted to load map: File -> Trust Notebook</span><iframe src=\"about:blank\" style=\"position:absolute;width:100%;height:100%;left:0;top:0;border:none !important;\" data-html=%3C%21DOCTYPE%20html%3E%0A%3Chead%3E%20%20%20%20%0A%20%20%20%20%3Cmeta%20http-equiv%3D%22content-type%22%20content%3D%22text/html%3B%20charset%3DUTF-8%22%20/%3E%0A%20%20%20%20%0A%20%20%20%20%20%20%20%20%3Cscript%3E%0A%20%20%20%20%20%20%20%20%20%20%20%20L_NO_TOUCH%20%3D%20false%3B%0A%20%20%20%20%20%20%20%20%20%20%20%20L_DISABLE_3D%20%3D%20false%3B%0A%20%20%20%20%20%20%20%20%3C/script%3E%0A%20%20%20%20%0A%20%20%20%20%3Cstyle%3Ehtml%2C%20body%20%7Bwidth%3A%20100%25%3Bheight%3A%20100%25%3Bmargin%3A%200%3Bpadding%3A%200%3B%7D%3C/style%3E%0A%20%20%20%20%3Cstyle%3E%23map%20%7Bposition%3Aabsolute%3Btop%3A0%3Bbottom%3A0%3Bright%3A0%3Bleft%3A0%3B%7D%3C/style%3E%0A%20%20%20%20%3Cscript%20src%3D%22https%3A//cdn.jsdelivr.net/npm/leaflet%401.6.0/dist/leaflet.js%22%3E%3C/script%3E%0A%20%20%20%20%3Cscript%20src%3D%22https%3A//code.jquery.com/jquery-1.12.4.min.js%22%3E%3C/script%3E%0A%20%20%20%20%3Cscript%20src%3D%22https%3A//maxcdn.bootstrapcdn.com/bootstrap/3.2.0/js/bootstrap.min.js%22%3E%3C/script%3E%0A%20%20%20%20%3Cscript%20src%3D%22https%3A//cdnjs.cloudflare.com/ajax/libs/Leaflet.awesome-markers/2.0.2/leaflet.awesome-markers.js%22%3E%3C/script%3E%0A%20%20%20%20%3Clink%20rel%3D%22stylesheet%22%20href%3D%22https%3A//cdn.jsdelivr.net/npm/leaflet%401.6.0/dist/leaflet.css%22/%3E%0A%20%20%20%20%3Clink%20rel%3D%22stylesheet%22%20href%3D%22https%3A//maxcdn.bootstrapcdn.com/bootstrap/3.2.0/css/bootstrap.min.css%22/%3E%0A%20%20%20%20%3Clink%20rel%3D%22stylesheet%22%20href%3D%22https%3A//maxcdn.bootstrapcdn.com/bootstrap/3.2.0/css/bootstrap-theme.min.css%22/%3E%0A%20%20%20%20%3Clink%20rel%3D%22stylesheet%22%20href%3D%22https%3A//maxcdn.bootstrapcdn.com/font-awesome/4.6.3/css/font-awesome.min.css%22/%3E%0A%20%20%20%20%3Clink%20rel%3D%22stylesheet%22%20href%3D%22https%3A//cdnjs.cloudflare.com/ajax/libs/Leaflet.awesome-markers/2.0.2/leaflet.awesome-markers.css%22/%3E%0A%20%20%20%20%3Clink%20rel%3D%22stylesheet%22%20href%3D%22https%3A//cdn.jsdelivr.net/gh/python-visualization/folium/folium/templates/leaflet.awesome.rotate.min.css%22/%3E%0A%20%20%20%20%0A%20%20%20%20%20%20%20%20%20%20%20%20%3Cmeta%20name%3D%22viewport%22%20content%3D%22width%3Ddevice-width%2C%0A%20%20%20%20%20%20%20%20%20%20%20%20%20%20%20%20initial-scale%3D1.0%2C%20maximum-scale%3D1.0%2C%20user-scalable%3Dno%22%20/%3E%0A%20%20%20%20%20%20%20%20%20%20%20%20%3Cstyle%3E%0A%20%20%20%20%20%20%20%20%20%20%20%20%20%20%20%20%23map_a0e1ada358a240fb875cd3c57d806e01%20%7B%0A%20%20%20%20%20%20%20%20%20%20%20%20%20%20%20%20%20%20%20%20position%3A%20relative%3B%0A%20%20%20%20%20%20%20%20%20%20%20%20%20%20%20%20%20%20%20%20width%3A%20100.0%25%3B%0A%20%20%20%20%20%20%20%20%20%20%20%20%20%20%20%20%20%20%20%20height%3A%20100.0%25%3B%0A%20%20%20%20%20%20%20%20%20%20%20%20%20%20%20%20%20%20%20%20left%3A%200.0%25%3B%0A%20%20%20%20%20%20%20%20%20%20%20%20%20%20%20%20%20%20%20%20top%3A%200.0%25%3B%0A%20%20%20%20%20%20%20%20%20%20%20%20%20%20%20%20%7D%0A%20%20%20%20%20%20%20%20%20%20%20%20%3C/style%3E%0A%20%20%20%20%20%20%20%20%0A%3C/head%3E%0A%3Cbody%3E%20%20%20%20%0A%20%20%20%20%0A%20%20%20%20%20%20%20%20%20%20%20%20%3Cdiv%20class%3D%22folium-map%22%20id%3D%22map_a0e1ada358a240fb875cd3c57d806e01%22%20%3E%3C/div%3E%0A%20%20%20%20%20%20%20%20%0A%3C/body%3E%0A%3Cscript%3E%20%20%20%20%0A%20%20%20%20%0A%20%20%20%20%20%20%20%20%20%20%20%20var%20map_a0e1ada358a240fb875cd3c57d806e01%20%3D%20L.map%28%0A%20%20%20%20%20%20%20%20%20%20%20%20%20%20%20%20%22map_a0e1ada358a240fb875cd3c57d806e01%22%2C%0A%20%20%20%20%20%20%20%20%20%20%20%20%20%20%20%20%7B%0A%20%20%20%20%20%20%20%20%20%20%20%20%20%20%20%20%20%20%20%20center%3A%20%5B39.7334%2C%2032.8597%5D%2C%0A%20%20%20%20%20%20%20%20%20%20%20%20%20%20%20%20%20%20%20%20crs%3A%20L.CRS.EPSG3857%2C%0A%20%20%20%20%20%20%20%20%20%20%20%20%20%20%20%20%20%20%20%20zoom%3A%208%2C%0A%20%20%20%20%20%20%20%20%20%20%20%20%20%20%20%20%20%20%20%20zoomControl%3A%20true%2C%0A%20%20%20%20%20%20%20%20%20%20%20%20%20%20%20%20%20%20%20%20preferCanvas%3A%20false%2C%0A%20%20%20%20%20%20%20%20%20%20%20%20%20%20%20%20%7D%0A%20%20%20%20%20%20%20%20%20%20%20%20%29%3B%0A%0A%20%20%20%20%20%20%20%20%20%20%20%20%0A%0A%20%20%20%20%20%20%20%20%0A%20%20%20%20%0A%20%20%20%20%20%20%20%20%20%20%20%20var%20tile_layer_6714873b29134dbabc3e21c04411d1ff%20%3D%20L.tileLayer%28%0A%20%20%20%20%20%20%20%20%20%20%20%20%20%20%20%20%22https%3A//%7Bs%7D.tile.openstreetmap.org/%7Bz%7D/%7Bx%7D/%7By%7D.png%22%2C%0A%20%20%20%20%20%20%20%20%20%20%20%20%20%20%20%20%7B%22attribution%22%3A%20%22Data%20by%20%5Cu0026copy%3B%20%5Cu003ca%20href%3D%5C%22http%3A//openstreetmap.org%5C%22%5Cu003eOpenStreetMap%5Cu003c/a%5Cu003e%2C%20under%20%5Cu003ca%20href%3D%5C%22http%3A//www.openstreetmap.org/copyright%5C%22%5Cu003eODbL%5Cu003c/a%5Cu003e.%22%2C%20%22detectRetina%22%3A%20false%2C%20%22maxNativeZoom%22%3A%2018%2C%20%22maxZoom%22%3A%2018%2C%20%22minZoom%22%3A%200%2C%20%22noWrap%22%3A%20false%2C%20%22opacity%22%3A%201%2C%20%22subdomains%22%3A%20%22abc%22%2C%20%22tms%22%3A%20false%7D%0A%20%20%20%20%20%20%20%20%20%20%20%20%29.addTo%28map_a0e1ada358a240fb875cd3c57d806e01%29%3B%0A%20%20%20%20%20%20%20%20%0A%20%20%20%20%0A%0A%20%20%20%20%20%20%20%20function%20geo_json_a854f35900654479909eb9d655b5826e_onEachFeature%28feature%2C%20layer%29%20%7B%0A%20%20%20%20%20%20%20%20%20%20%20%20layer.on%28%7B%0A%20%20%20%20%20%20%20%20%20%20%20%20%7D%29%3B%0A%20%20%20%20%20%20%20%20%7D%3B%0A%20%20%20%20%20%20%20%20var%20geo_json_a854f35900654479909eb9d655b5826e%20%3D%20L.geoJson%28null%2C%20%7B%0A%20%20%20%20%20%20%20%20%20%20%20%20%20%20%20%20onEachFeature%3A%20geo_json_a854f35900654479909eb9d655b5826e_onEachFeature%2C%0A%20%20%20%20%20%20%20%20%20%20%20%20%0A%20%20%20%20%20%20%20%20%7D%29%3B%0A%0A%20%20%20%20%20%20%20%20function%20geo_json_a854f35900654479909eb9d655b5826e_add%20%28data%29%20%7B%0A%20%20%20%20%20%20%20%20%20%20%20%20geo_json_a854f35900654479909eb9d655b5826e%0A%20%20%20%20%20%20%20%20%20%20%20%20%20%20%20%20.addData%28data%29%0A%20%20%20%20%20%20%20%20%20%20%20%20%20%20%20%20.addTo%28map_a0e1ada358a240fb875cd3c57d806e01%29%3B%0A%20%20%20%20%20%20%20%20%7D%0A%20%20%20%20%20%20%20%20%20%20%20%20geo_json_a854f35900654479909eb9d655b5826e_add%28%7B%22features%22%3A%20%5B%7B%22geometry%22%3A%20%7B%22coordinates%22%3A%20%5B%5B%5B33.187957763672046%2C%2040.41364669799805%5D%2C%20%5B33.22098541259771%2C%2040.351249694824446%5D%2C%20%5B33.2674293518067%2C%2040.331134796142805%5D%2C%20%5B33.330764770507756%2C%2040.33474349975609%5D%2C%20%5B33.364143371581974%2C%2040.38593292236334%5D%2C%20%5B33.40986251831072%2C%2040.38897705078125%5D%2C%20%5B33.72912216186518%2C%2040.27840805053711%5D%2C%20%5B33.652736663818416%2C%2040.201866149902344%5D%2C%20%5B33.57646942138689%2C%2040.048053741455135%5D%2C%20%5B33.61725234985357%2C%2039.966354370117415%5D%2C%20%5B33.616443634033374%2C%2039.91255950927757%5D%2C%20%5B33.59539413452177%2C%2039.884044647217024%5D%2C%20%5B33.43414688110357%2C%2039.81398773193371%5D%2C%20%5B33.356254577636776%2C%2039.751121520996094%5D%2C%20%5B33.31986618041992%2C%2039.64878463745117%5D%2C%20%5B33.317638397216854%2C%2039.574645996094034%5D%2C%20%5B33.2855339050293%2C%2039.46186065673851%5D%2C%20%5B33.23331832885748%2C%2039.37669372558594%5D%2C%20%5B33.28668594360357%2C%2039.33038711547863%5D%2C%20%5B33.36938476562506%2C%2039.317165374755916%5D%2C%20%5B33.390270233154354%2C%2039.27744674682617%5D%2C%20%5B33.36560821533209%2C%2039.22562789917015%5D%2C%20%5B33.41689682006836%2C%2039.16110992431652%5D%2C%20%5B33.52802276611345%2C%2039.2547988891601%5D%2C%20%5B33.59801483154314%2C%2039.17142486572277%5D%2C%20%5B33.942905426025675%2C%2039.03599166870117%5D%2C%20%5B33.8883056640625%2C%2038.954170227050895%5D%2C%20%5B33.946762084960994%2C%2038.81260299682617%5D%2C%20%5B33.923976898193416%2C%2038.78068542480486%5D%2C%20%5B33.82899475097673%2C%2038.716121673584155%5D%2C%20%5B33.68149948120117%2C%2038.711006164550895%5D%2C%20%5B33.465042114257756%2C%2038.63647079467779%5D%2C%20%5B33.36212921142584%2C%2038.791782379150504%5D%2C%20%5B33.37403869628935%2C%2039.037906646728516%5D%2C%20%5B33.18780136108427%2C%2039.276828765869084%5D%2C%20%5B33.115245819091854%2C%2039.22088241577154%5D%2C%20%5B33.05522155761719%2C%2039.218933105468864%5D%2C%20%5B33.021648406982706%2C%2039.15932846069347%5D%2C%20%5B32.96263122558622%2C%2039.126510620117244%5D%2C%20%5B32.89254760742193%2C%2039.154331207275504%5D%2C%20%5B32.83474731445318%2C%2039.15232849121105%5D%2C%20%5B32.742153167724666%2C%2039.082061767578125%5D%2C%20%5B32.70268630981451%2C%2039.03284835815441%5D%2C%20%5B32.5559196472168%2C%2039.04980850219738%5D%2C%20%5B32.46858978271496%2C%2038.99460601806652%5D%2C%20%5B32.2944526672365%2C%2039.06810379028326%5D%2C%20%5B32.129978179931925%2C%2039.0306282043457%5D%2C%20%5B32.083663940429744%2C%2039.04292297363281%5D%2C%20%5B31.883207321167276%2C%2039.173801422119254%5D%2C%20%5B31.99277877807623%2C%2039.22740173339844%5D%2C%20%5B32.011322021484546%2C%2039.38178634643572%5D%2C%20%5B31.99344062805193%2C%2039.50458908081055%5D%2C%20%5B31.907976150512866%2C%2039.613700866699276%5D%2C%20%5B31.849052429199276%2C%2039.730388641357536%5D%2C%20%5B31.847255706787166%2C%2039.76829147338873%5D%2C%20%5B31.88599014282238%2C%2039.808479309082145%5D%2C%20%5B31.857683181762752%2C%2039.87451553344749%5D%2C%20%5B31.797164916992244%2C%2039.8831901550293%5D%2C%20%5B31.695951461791992%2C%2039.98823165893566%5D%2C%20%5B31.617036819458292%2C%2040.01634979248058%5D%2C%20%5B31.175989151001033%2C%2040.04402542114258%5D%2C%20%5B31.02343177795416%2C%2040.019157409668026%5D%2C%20%5B30.94405746459978%2C%2040.02215957641607%5D%2C%20%5B30.919401168823356%2C%2040.035682678222656%5D%2C%20%5B30.913637161254826%2C%2040.0991401672365%5D%2C%20%5B30.873971939086914%2C%2040.14034652709961%5D%2C%20%5B30.955003738403605%2C%2040.22293853759777%5D%2C%20%5B31.047548294067383%2C%2040.2725639343264%5D%2C%20%5B31.037288665771484%2C%2040.37631988525385%5D%2C%20%5B31.06073379516596%2C%2040.41575241088867%5D%2C%20%5B31.14426994323742%2C%2040.39905548095703%5D%2C%20%5B31.26392936706543%2C%2040.346771240234375%5D%2C%20%5B31.566928863525675%2C%2040.30855178833008%5D%2C%20%5B31.705093383789347%2C%2040.34394454956066%5D%2C%20%5B31.79364585876482%2C%2040.33181762695318%5D%2C%20%5B31.9033527374267%2C%2040.34561157226557%5D%2C%20%5B32.14555358886719%2C%2040.424667358398494%5D%2C%20%5B32.37283325195318%2C%2040.4155387878418%5D%2C%20%5B32.47593688964861%2C%2040.5302276611331%5D%2C%20%5B32.430423736572266%2C%2040.65179443359392%5D%2C%20%5B32.50134658813505%2C%2040.704257965088004%5D%2C%20%5B32.65491485595709%2C%2040.702560424804744%5D%2C%20%5B32.955661773681925%2C%2040.59830474853527%5D%2C%20%5B33.187957763672046%2C%2040.41364669799805%5D%5D%5D%2C%20%22type%22%3A%20%22Polygon%22%7D%2C%20%22properties%22%3A%20%7B%22name%22%3A%20%22Ankara%22%2C%20%22number%22%3A%206%7D%2C%20%22type%22%3A%20%22Feature%22%7D%5D%2C%20%22type%22%3A%20%22FeatureCollection%22%7D%29%3B%0A%0A%20%20%20%20%20%20%20%20%0A%3C/script%3E onload=\"this.contentDocument.open();this.contentDocument.write(    decodeURIComponent(this.getAttribute('data-html')));this.contentDocument.close();\" allowfullscreen webkitallowfullscreen mozallowfullscreen></iframe></div></div>"
      ],
      "text/plain": [
       "<folium.folium.Map at 0x2039b4b7340>"
      ]
     },
     "execution_count": 1,
     "metadata": {},
     "output_type": "execute_result"
    }
   ],
   "source": [
    "import folium\n",
    "import json\n",
    "\n",
    "turkey_map = folium.Map([39.7334, 32.8597], zoom_start=8)\n",
    "f = open(\"tr-cities.json\")\n",
    "data = json.load(f)\n",
    "data[\"features\"] = [data[\"features\"][6]]\n",
    "folium.GeoJson(data).add_to(turkey_map)\n",
    "turkey_map\n",
    "#data"
   ]
  },
  {
   "cell_type": "markdown",
   "metadata": {},
   "source": [
    "**Case Scenario**:\n",
    "\n",
    "After doing Research, the government of the city may need to better allocate an additional resource such as building a new testing center to better prepare the city for future potential outbreak of another evolved virus. Alternatively, private investors could take the business investment opportunity, especially in a big city like Ankara. Typically, the investors may be interested to know:\n",
    "\n",
    "1. The number or the extent of Covid-19 positive cases patients and their relative distribution within the city.\n",
    "2. The number and locations of the existing and approved Covid-19 testing centers in the city (i.e. the competitors).\n",
    "3. TWO (2) candidate strategic locations for the new Covid-19 testing center relatively far from the competition.\n",
    "4. Population density of the proposed area (Social distancing indicator).\n",
    "5. Basic profile of the proposed neighborhood (e.g. the presence of unique clustering such as residential areas, business / office areas, the number and types of other businesses venues, etc).\n",
    "\n",
    "For point (1), the investor obviously would like to know the extent of epidemics in the area. For Point 2, they need to make sure that their investment is located in an area relatively far away from any competitors having similar facilities at the time their business venture starts. The 3rd point requires visualization that we will discuss below. The 4th point also indicates the potential target customers. The higher the population density, the higher the potential users of the facility. The 5th point indicates the current level of business activity in the proposed area. The higher the number of business venues, the higher the number of business activity in the area. Certainly, all investors would like the area to have many different business ventures already established in the proposed neighborhood. we will begin this artice by importing all the modules needed for the whole report."
   ]
  },
  {
   "cell_type": "code",
   "execution_count": 2,
   "metadata": {},
   "outputs": [
    {
     "name": "stdout",
     "output_type": "stream",
     "text": [
      "done importing request\n",
      "done importing urlib\n",
      "done importing pandas\n",
      "done importing numpy\n",
      "done importing random\n",
      "done importing math\n"
     ]
    }
   ],
   "source": [
    "import requests # library to handle requests\n",
    "print(\"done importing request\")\n",
    "from urllib.request import urlopen as uReq \n",
    "print(\"done importing urlib\")\n",
    "import pandas as pd # library for data analsysis\n",
    "print(\"done importing pandas\")\n",
    "import numpy as np # library to handle data in a vectorized manner\n",
    "print(\"done importing numpy\")\n",
    "import random # library for random number generation\n",
    "print(\"done importing random\")\n",
    "import math as mt\n",
    "print(\"done importing math\")"
   ]
  },
  {
   "cell_type": "code",
   "execution_count": 3,
   "metadata": {},
   "outputs": [
    {
     "name": "stdout",
     "output_type": "stream",
     "text": [
      "done importing geopy\n",
      "done import container\n",
      "done functools\n",
      "done importing partial from functool\n",
      "done importing read excel pandas\n",
      "done importing json stringify\n"
     ]
    }
   ],
   "source": [
    "from geopy.geocoders import Nominatim # module to convert an address into latitude and longitude values\n",
    "print(\"done importing geopy\")\n",
    "from typing import Container\n",
    "print(\"done import container\")\n",
    "import functools\n",
    "print(\"done functools\")\n",
    "from functools import partial\n",
    "print(\"done importing partial from functool\")\n",
    "from pandas import read_excel\n",
    "print(\"done importing read excel pandas\")\n",
    "import json\n",
    "print(\"done importing json stringify\")\n"
   ]
  },
  {
   "cell_type": "code",
   "execution_count": 4,
   "metadata": {},
   "outputs": [
    {
     "name": "stdout",
     "output_type": "stream",
     "text": [
      "done importinhg image\n",
      "done importing  image from ipython\n",
      "done importing display html\n",
      "done importing pandas\n",
      "done impoering numpy\n",
      "done importing Nan value\n"
     ]
    }
   ],
   "source": [
    "# libraries for displaying images\n",
    "from IPython.display import Image \n",
    "print(\"done importinhg image\")\n",
    "from IPython.core.display import HTML \n",
    "print(\"done importing  image from ipython\")\n",
    "from IPython.display import display_html\n",
    "print(\"done importing display html\")\n",
    "import pandas as pd\n",
    "print(\"done importing pandas\")\n",
    "import numpy as np\n",
    "print(\"done impoering numpy\")\n",
    "from numpy.core.numeric import NaN\n",
    "print(\"done importing Nan value\")\n"
   ]
  },
  {
   "cell_type": "code",
   "execution_count": 5,
   "metadata": {},
   "outputs": [
    {
     "name": "stdout",
     "output_type": "stream",
     "text": [
      "done importing pandas json\n",
      "done importing folium\n",
      "done importing bs4\n",
      "done importing sklearn cluster\n",
      "done importing cm from matplotlib\n",
      "done importing matplotlib colorss\n",
      "done importing matplotlib\n",
      "done installing all the packages successfully\n"
     ]
    }
   ],
   "source": [
    "# tranforming json file into a pandas dataframe library\n",
    "from pandas.io.json import json_normalize\n",
    "print(\"done importing pandas json\")\n",
    "import folium # plotting library\n",
    "print(\"done importing folium\")\n",
    "from bs4 import BeautifulSoup as BS\n",
    "print(\"done importing bs4\")\n",
    "from sklearn.cluster import KMeans\n",
    "print(\"done importing sklearn cluster\")\n",
    "import matplotlib.cm as cm\n",
    "print(\"done importing cm from matplotlib\")\n",
    "import matplotlib.colors as colors\n",
    "print(\"done importing matplotlib colorss\")\n",
    "import matplotlib.pyplot as plt\n",
    "print('done importing matplotlib')\n",
    "\n",
    "print(\"done installing all the packages successfully\")"
   ]
  },
  {
   "cell_type": "markdown",
   "metadata": {},
   "source": [
    "### 2. Data"
   ]
  },
  {
   "cell_type": "markdown",
   "metadata": {},
   "source": [
    "Based on the requirements from the potential investors above, the necessary information needed for this analysis will come from the following online sources:\n",
    "\n",
    "1. The number of positive cases patients in each province: https://en.wikipedia.org/wiki/COVID-19_pandemic_in_Turkey, that shows the number of positive Covid-19 patients\n",
    "<p>\n",
    "2. The population density will be obtained from Wikipedia for Ankara (https://en.wikipedia.org/wiki/Ankara_Province). As can be seen, Ankara is the special capital region of Turkey having a total area 25,706 square kilometers  and a total of 5,503,985 population in 2020. However, I will scrap the Table in the Wikipedia showing the population density in 2017 only. Ankara has 81 main cities.\n",
    "<p>\n",
    "\n",
    "3. The number of existing and approved Covid-19 testing centers or 'Specialist' hospitals from the Ministry of Health website (https://en.wikipedia.org/wiki/List_of_hospitals_in_Ankara_Province) in Turkey\n",
    "<p>\n",
    "\n",
    "4. the number of positive cases in Ankara province(https://covid19.saglik.gov.tr/)\n",
    "<p>\n",
    "\n",
    "5. OpenCage Geocoder API to collect latitude and longitude of cities, area or facility (e.g. hospitals)\n",
    "<p>\n",
    "\n",
    "6. the population growth affect the rate of covid 19 cases (https://www.ncbi.nlm.nih.gov/pmc/articles/PMC7553801/)\n",
    "<p>\n",
    "7. list of hospitals in Ankara (https://en.wikipedia.org/wiki/List_of_hospitals_in_Ankara_Province)\n",
    "  <p>\n",
    "\n",
    "<b>additional data:</b>\n",
    "<p>\n",
    "\n",
    "1. number of available hospital beds for patients. This can be obtained (for future reference) from Ministry of Health website (https://healtheconomicsreview.biomedcentral.com/articles/10.1186/s13561-021-00338-8)\n",
    "<p>\n",
    "\n",
    "2. the spread of Covid 19 (https://journals.plos.org/plosone/article?id=10.1371/journal.pone.0242398)\n",
    "<p>\n",
    "\n",
    "3. how population relate to the spread of covid 19 (https://www.ncbi.nlm.nih.gov/pmc/articles/PMC7882903/)\n",
    "<p>\n",
    "4. impact of population density (https://www.ncbi.nlm.nih.gov/pmc/articles/PMC7553801/)\n",
    "<p>\n",
    "5. information about the virus (https://www.who.int/emergencies/diseases/novel-coronavirus-2019)  \n",
    "<p>\n",
    "6. live data about the number of virus of each country around the globe (https://www.worldometers.info/coronavirus/)\n",
    "<p>\n",
    "In addition to these resources or websites, there are also other potential or highly relevant sources which can be used.\n",
    "I also used other resources such as Folium which can be used for Visualization purposes and BeautifulSoup for scrapping website as described in more details in the following sections."
   ]
  },
  {
   "cell_type": "markdown",
   "metadata": {},
   "source": [
    "### 2.1. Covid - 19  Data Analysis of Turkey"
   ]
  },
  {
   "cell_type": "markdown",
   "metadata": {},
   "source": [
    "The following describes a web scrapping technique commonly used by data scientist to get the information from public website. After inspecting the original Wikipedia page, one would need to isolate the relevant HTML codes for the desired Table using Requests, BeautifulSoup library and etc. this data shows the number of postive covid - 19 in every city in Turkey, from this information we can tell the ranking of Ankara city compared to other city. First I will write a python code to use beutiful soup (BS I made for a shortcut) to request a HTML from a wikipedia website that contain the information we need."
   ]
  },
  {
   "cell_type": "code",
   "execution_count": 6,
   "metadata": {},
   "outputs": [
    {
     "data": {
      "image/png": "[encoded data removed]",
      "text/plain": [
       "<Figure size 864x648 with 2 Axes>"
      ]
     },
     "metadata": {
      "needs_background": "light"
     },
     "output_type": "display_data"
    }
   ],
   "source": [
    "myurl = \"https://en.wikipedia.org/wiki/COVID-19_pandemic_in_Turkey\"\n",
    "\n",
    "#grabbing information from the page\n",
    "uclient = uReq(myurl)\n",
    "page_html = uclient.read()\n",
    "uclient.close()\n",
    "page_BS = BS(page_html, \"html.parser\")\n",
    "\n",
    "whole_id_container = page_BS.find_all(\"div\", {\"id\":\"covid19-container\"})\n",
    "\n",
    "content = whole_id_container[0]\n",
    "\n",
    "rows = content.table.find_all(\"tr\")\n",
    "\n",
    "table_name_content = []\n",
    "\n",
    "number_cases_in_city = []\n",
    "\n",
    "\n",
    "#cleaning the row in the list\n",
    "\n",
    "for row in rows[3:]:\n",
    "    for x in row.find_all(\"th\"):\n",
    "        try:\n",
    "            table_name_content.append(x.a.text)\n",
    "        except:\n",
    "            pass\n",
    "\n",
    "for row in rows[3:]:\n",
    "    try:\n",
    "        word = row.td.text.replace(\"\\n\", \"\")\n",
    "        number = int(word.replace(\",\", \"\"))\n",
    "        number_cases_in_city.append(number)\n",
    "\n",
    "    except:\n",
    "        pass\n",
    "\n",
    "#making database\n",
    "\n",
    "table_name_content = list(table_name_content)\n",
    "\n",
    "number_cases_in_city = list(number_cases_in_city)\n",
    "\n",
    "turkey_DB =  {\"city names\":table_name_content, \"number of postive cases\":number_cases_in_city}\n",
    "\n",
    "TDF = pd.DataFrame(turkey_DB)\n",
    "\n",
    "#making graph\n",
    "\n",
    "plt.rcParams[\"figure.figsize\"] = (12, 9) # (w, h)\n",
    "\n",
    "TDF = TDF.sort_values(by=[\"number of postive cases\"],ascending = False)\n",
    "\n",
    "plt.subplot(1, 2, 1)\n",
    "\n",
    "plt.bar(TDF[\"city names\"][:5], TDF[\"number of postive cases\"][:5])\n",
    "\n",
    "plt.title(\"Top 5 highest cases in COVID-19 in Turkey\")\n",
    "plt.xlabel(\"Province\")\n",
    "plt.ylabel(\"Cases per 100,000 residents\")\n",
    "\n",
    "TDF = TDF.sort_values(by=[\"number of postive cases\"],ascending = True)\n",
    "\n",
    "plt.subplot(1, 2, 2)\n",
    "\n",
    "plt.bar(TDF[\"city names\"][:5], TDF[\"number of postive cases\"][:5])\n",
    "\n",
    "plt.title(\"Top 5 lowest cases in COVID-19 in Turkey\")\n",
    "plt.xlabel(\"Province\")\n",
    "plt.ylabel(\"Cases per 100,000 residents\")\n",
    "\n",
    "\n",
    "TDF = TDF.sort_values(by=[\"number of postive cases\"],ascending = False)"
   ]
  },
  {
   "cell_type": "markdown",
   "metadata": {},
   "source": [
    "We can also make a database from this whole data so we can tell more accurate information. using this idea, we can determine the ranking of each city in turkey. This is important because now we will better understand what enviromental features effects the growth of the virus and what decreases it. Since this data is not live and was web scraped from wikipedia edited in 2020, we can assume that in that year, the city of Trabzon had the most effected enviromental features compared to other cities. this  could potentially be caused by lack of social distancing or health aviability. Furthur analysis will be descirbed in the methodology and discussion section."
   ]
  },
  {
   "cell_type": "code",
   "execution_count": 7,
   "metadata": {},
   "outputs": [
    {
     "data": {
      "text/html": [
       "<div>\n",
       "<style scoped>\n",
       "    .dataframe tbody tr th:only-of-type {\n",
       "        vertical-align: middle;\n",
       "    }\n",
       "\n",
       "    .dataframe tbody tr th {\n",
       "        vertical-align: top;\n",
       "    }\n",
       "\n",
       "    .dataframe thead th {\n",
       "        text-align: right;\n",
       "    }\n",
       "</style>\n",
       "<table border=\"1\" class=\"dataframe\">\n",
       "  <thead>\n",
       "    <tr style=\"text-align: right;\">\n",
       "      <th></th>\n",
       "      <th>city names</th>\n",
       "      <th>number of postive cases</th>\n",
       "    </tr>\n",
       "  </thead>\n",
       "  <tbody>\n",
       "    <tr>\n",
       "      <th>73</th>\n",
       "      <td>Trabzon</td>\n",
       "      <td>22802</td>\n",
       "    </tr>\n",
       "    <tr>\n",
       "      <th>63</th>\n",
       "      <td>Rize</td>\n",
       "      <td>20244</td>\n",
       "    </tr>\n",
       "    <tr>\n",
       "      <th>61</th>\n",
       "      <td>Ordu</td>\n",
       "      <td>19442</td>\n",
       "    </tr>\n",
       "    <tr>\n",
       "      <th>32</th>\n",
       "      <td>Giresun</td>\n",
       "      <td>18434</td>\n",
       "    </tr>\n",
       "    <tr>\n",
       "      <th>65</th>\n",
       "      <td>Samsun</td>\n",
       "      <td>17129</td>\n",
       "    </tr>\n",
       "    <tr>\n",
       "      <th>...</th>\n",
       "      <td>...</td>\n",
       "      <td>...</td>\n",
       "    </tr>\n",
       "    <tr>\n",
       "      <th>76</th>\n",
       "      <td>Van</td>\n",
       "      <td>1489</td>\n",
       "    </tr>\n",
       "    <tr>\n",
       "      <th>13</th>\n",
       "      <td>Batman</td>\n",
       "      <td>1249</td>\n",
       "    </tr>\n",
       "    <tr>\n",
       "      <th>16</th>\n",
       "      <td>Bitlis</td>\n",
       "      <td>1035</td>\n",
       "    </tr>\n",
       "    <tr>\n",
       "      <th>34</th>\n",
       "      <td>Hakkari</td>\n",
       "      <td>955</td>\n",
       "    </tr>\n",
       "    <tr>\n",
       "      <th>70</th>\n",
       "      <td>Şırnak</td>\n",
       "      <td>782</td>\n",
       "    </tr>\n",
       "  </tbody>\n",
       "</table>\n",
       "<p>80 rows × 2 columns</p>\n",
       "</div>"
      ],
      "text/plain": [
       "   city names  number of postive cases\n",
       "73    Trabzon                    22802\n",
       "63       Rize                    20244\n",
       "61       Ordu                    19442\n",
       "32    Giresun                    18434\n",
       "65     Samsun                    17129\n",
       "..        ...                      ...\n",
       "76        Van                     1489\n",
       "13     Batman                     1249\n",
       "16     Bitlis                     1035\n",
       "34    Hakkari                      955\n",
       "70     Şırnak                      782\n",
       "\n",
       "[80 rows x 2 columns]"
      ]
     },
     "execution_count": 7,
     "metadata": {},
     "output_type": "execute_result"
    }
   ],
   "source": [
    "#a database showing the top 5 highest and lowest case of positive cases\n",
    "TDF"
   ]
  },
  {
   "cell_type": "markdown",
   "metadata": {},
   "source": [
    "using simple python index method to find the ranking of Ankara in  the list of city in turkey"
   ]
  },
  {
   "cell_type": "code",
   "execution_count": 8,
   "metadata": {},
   "outputs": [
    {
     "name": "stdout",
     "output_type": "stream",
     "text": [
      "Ankara is number 50 in the higest number of positive cases\n"
     ]
    }
   ],
   "source": [
    "print(\"Ankara is number \"+str(list(TDF[\"city names\"]).index(\"Ankara\")) + \" in the higest number of positive cases\")"
   ]
  },
  {
   "cell_type": "markdown",
   "metadata": {},
   "source": [
    "### 2.2 covid 19 analysis in each province of Ankara "
   ]
  },
  {
   "cell_type": "markdown",
   "metadata": {},
   "source": [
    "Again I will be using the same method for extracting the data like section 2.1. This time, I will be using a different resource so the data will be different, in this section I extracted the population data between the population in each province. This python code will demonstrate how."
   ]
  },
  {
   "cell_type": "code",
   "execution_count": null,
   "metadata": {},
   "outputs": [],
   "source": [
    "myurl = \"https://en.wikipedia.org/wiki/Ankara_Province\"\n",
    "\n",
    "# grapbs the page\n",
    "uclient = uReq(myurl)\n",
    "page_html = uclient.read()\n",
    "uclient.close()\n",
    "page_BS = BS(page_html, \"html.parser\")\n",
    "#content>body content>mw content text>output> table\n",
    "div1 = page_BS.find(\"div\", {\"id\": \"content\"})\n",
    "div2 = div1.find(\"div\", {\"id\": \"bodyContent\"})\n",
    "div3 = div2.find(\"div\", {\"id\": \"mw-content-text\"})\n",
    "div4 = div3.find(\"div\", {\"class\": \"mw-parser-output\"})\n",
    "table = div4.find(\"table\", {\"class\": \"wikitable sortable\"})\n",
    "rows = table.find_all(\"tr\")\n",
    "table_df = {\"province name\": [], \"population\": [],\n",
    "            \"area in KM^2\": [], \"Density in KM^2\": []}\n"
   ]
  },
  {
   "cell_type": "code",
   "execution_count": null,
   "metadata": {},
   "outputs": [],
   "source": [
    "province_name = []\n",
    "\n",
    "#putting everything iniside the dictionary table_df\n",
    "for row in rows[1:-2]:\n",
    "    try:\n",
    "        table_df[\"province name\"].append(\n",
    "            row.find_all(\"td\")[0].text.replace(\"\\n\", \"\"))\n",
    "\n",
    "        province_name.append(row.find_all(\"td\")[0].text.replace(\"\\n\", \"\"))\n",
    "\n",
    "        table_df[\"population\"].append(\n",
    "            row.find_all(\"td\")[1].text.replace(\"\\n\", \"\"))\n",
    "\n",
    "        table_df[\"area in KM^2\"].append(\n",
    "            row.find_all(\"td\")[2].text.replace(\"\\n\", \"\"))\n",
    "\n",
    "        table_df[\"Density in KM^2\"].append(\n",
    "            row.find_all(\"td\")[3].text.replace(\"\\n\", \"\"))\n",
    "\n",
    "    except:\n",
    "        pass"
   ]
  },
  {
   "cell_type": "code",
   "execution_count": null,
   "metadata": {},
   "outputs": [],
   "source": [
    "table_df"
   ]
  },
  {
   "cell_type": "markdown",
   "metadata": {},
   "source": [
    "in here I extracted the population rate for each year from 1940 to 2020. I then take the population growth rate between 2020 and 2021 which will be used later in the methodolgy section. the data will be used for telling us the rate differennce caused by the covid-19 virus."
   ]
  },
  {
   "cell_type": "code",
   "execution_count": null,
   "metadata": {},
   "outputs": [],
   "source": [
    "dfs = pd.read_html(myurl)\n",
    "population_rate = dfs[1]\n",
    "population_rate.drop([0,11], inplace = True)\n",
    "population_rate"
   ]
  },
  {
   "cell_type": "code",
   "execution_count": null,
   "metadata": {},
   "outputs": [],
   "source": [
    "population_rate_2019 = float(population_rate.iloc[8].tolist()[2].replace(\"%\", \"\").replace(\"+\", \"\"))\n",
    "population_rate_2020 = float(population_rate.iloc[9].tolist()[2].replace(\"%\", \"\").replace(\"+\", \"\"))\n",
    "rate = population_rate_2019 -  population_rate_2020\n",
    "rate"
   ]
  },
  {
   "cell_type": "markdown",
   "metadata": {},
   "source": [
    "#### 2.3. list of state and private hospitals in the area"
   ]
  },
  {
   "cell_type": "markdown",
   "metadata": {},
   "source": [
    "according to https://en.wikipedia.org/wiki/List_of_hospitals_in_Ankara_Province, here are the list of hospitals that live in the loacal area of Ankara"
   ]
  },
  {
   "cell_type": "markdown",
   "metadata": {},
   "source": [
    "<ul><li>ANKARA VEREM SAVAŞ DERNEĞİ NUSRET KARASU GÖĞÜS HASTALIKLARI VE TÜBERKÜLOZ HASTANESİ</li>\n",
    "<li>KOLAN BRITISH HOSPITAL LTD. ŞTİ.</li>\n",
    "<li>LOKMAN HEKİM HAST.</li>\n",
    "<li>ÇANKAYA HASTANESİ</li>\n",
    "<li>ÖZEL AKAY HASTANESİ</li>\n",
    "<li>ÖZEL AKROPOL HASTANESİ</li>\n",
    "<li>ÖZEL ANKARA GÜVEN HASTANESİ</li>\n",
    "<li>ÖZEL ANKARA MEDICAL PARK HASTANESİ</li>\n",
    "<li>ÖZEL ANKARA MEMORIAL HASTANESI</li>\n",
    "<li>ÖZEL ANKARA UMUT HASTANESİ</li>\n",
    "<li>ÖZEL BAYINDIR HASTANESİ</li>\n",
    "<li>ÖZEL BİLGİ HASTANESİ</li>\n",
    "<li>ÖZEL ERYAMAN HASTANESİ</li>\n",
    "<li>ÖZEL ETİMED HASTANESI</li>\n",
    "<li>ÖZEL KEÇİÖREN HASTANESİ</li>\n",
    "<li>ÖZEL KORU ANKARA HASTANESİ</li>\n",
    "<li>ÖZEL KORU SİNCAN HASTANESİ</li>\n",
    "<li>ÖZEL KUDRET İNTERNATIONAL HOSPITAL</li>\n",
    "<li>ÖZEL LOKMAN HEKİM ANKARA HASTANESİ</li>\n",
    "<li>ÖZEL LÖSANTE LÖSEMİLİ ÇOCUKLAR HASTANESİ</li>\n",
    "<li>ÖZEL LİV HOSPITAL ANKARA</li>\n",
    "<li>ÖZEL MEDİCANA İNTERNATİONAL ANKARA HASTANESİ</li>\n",
    "<li>ÖZEL MİNASERA ALDAN HASTANESİ</li>\n",
    "<li>ÖZEL NATOMED HASTANESİ</li>\n",
    "<li>ÖZEL ORTADOĞU HASTANESİ</li>\n",
    "<li>ÖZEL ORTADOĞU 19 MAYIS HASTANESİ</li>\n",
    "<li>ÖZEL POLATLI CAN HASTANESİ</li>\n",
    "<li>ÖZEL TOBB ETÜ HASTANESİ</li>\n",
    "<li>ÖZEL YÜZÜNCÜYIL HASTANESİ</li>\n",
    "<li>ÖZEL ÇANKAYA YAŞAM HASTANESİ</li></ul>\n",
    "\n",
    "now we will construct a pandas dataframe for subsequent data analysis. This sums up our data mining and data exploration section. The following METHODOLOGY section, we will describe the prosess of how to do a 'Visual' approach in order to better understand our data using data science and data analytics tool kits. "
   ]
  },
  {
   "cell_type": "markdown",
   "metadata": {},
   "source": [
    "since this article is focused on Ankara, we will analyze each province by collecting data and information from the above resources. we will first extract the data from the wikipedia website using the request module and making a table out of it. we will then analyze the data in methodolgy section of this article "
   ]
  },
  {
   "cell_type": "code",
   "execution_count": null,
   "metadata": {},
   "outputs": [],
   "source": [
    "\n",
    "\n",
    "myurl = \"https://en.wikipedia.org/wiki/List_of_hospitals_in_Ankara_Province\"\n",
    "\n",
    "###### grapbs the page\n",
    "uclient = uReq(myurl)\n",
    "page_html = uclient.read()\n",
    "uclient.close()\n",
    "page_BS = BS(page_html, \"html.parser\")\n",
    "\n",
    "container = page_BS.find_all(\"div\", {\"id\": \"content\"})[0]\n",
    "container2 = container.find_all(\"div\", {\"id\": \"bodyContent\"})[0]\n",
    "container3 = container2.find_all(\"div\", {\"id\": \"mw-content-text\"})[0]\n",
    "container4 = container3.find_all(\"ul\")[1]\n",
    "container5 = container4.find_all(\"li\")\n",
    "\n",
    "list_of_hospital_names = []\n",
    "\n",
    "for x in range(len(container5)):\n",
    "    address = container4.find_all(\"li\")[x].text\n",
    "    list_of_hospital_names.append(address)\n",
    "\n",
    "nlist_of_hospital_names = []\n",
    "\n",
    "for hospital in list_of_hospital_names:\n",
    "    if \"(\" in hospital:\n",
    "        nhospital = hospital[:hospital.index(\"(\")]\n",
    "        list_of_hospital_names[list_of_hospital_names.index(\n",
    "            hospital)] = nhospital\n",
    "    elif \"/\" in hospital:\n",
    "        nhospital = hospital[:hospital.index(\"/\")]\n",
    "        list_of_hospital_names[list_of_hospital_names.index(\n",
    "            hospital)] = nhospital\n",
    "    elif \",\" in hospital:\n",
    "        nhospital = hospital.replace(\",\", )\n",
    "        list_of_hospital_names[list_of_hospital_names.index(\n",
    "            hospital)] = nhospital\n",
    "    else:\n",
    "        pass\n",
    "\n",
    "hospital_Dict = {\"hospital name\": [], \"longitude\": [], \"latitude\": []}\n",
    "longitude = []\n",
    "latitude = []\n",
    "hospitla_name = []\n",
    "\n",
    "\n",
    "#creating a for loop to get coordinates\n",
    "\n",
    "geolocator = Nominatim(user_agent=\"raihanhabibi2002@gmail.com\")\n",
    "\n",
    "for h in list_of_hospital_names:\n",
    "    geocode = partial(geolocator.geocode, language=\"es\")\n",
    "    location = geolocator.geocode(str(h))\n",
    "\n",
    "    try:\n",
    "        longitude.append(location.longitude)\n",
    "        latitude.append(location.latitude)\n",
    "        hospitla_name.append(\n",
    "            list_of_hospital_names[list_of_hospital_names.index(h)])\n",
    "    except:\n",
    "        pass\n",
    "\n",
    "hospital_Dict[\"hospital name\"] = hospitla_name\n",
    "hospital_Dict[\"longitude\"] = longitude\n",
    "hospital_Dict[\"latitude\"] = latitude\n",
    "\n",
    "#mw-content-text > bodyContent > content\n",
    "\n",
    "test1 = page_BS.find(\"div\", {\"id\": \"content\"})\n",
    "\n",
    "test2 = test1.find(\"div\", {\"id\": \"bodyContent\"})\n",
    "\n",
    "test3 = test2.find(\"div\", {\"id\": \"mw-content-text\"})\n",
    "\n",
    "hospital_list = test3.find_all(\"ul\")\n",
    "\n",
    "private_hos = hospital_list[6]\n",
    "\n",
    "list_private_hos = private_hos.find_all(\"li\")\n",
    "\n",
    "filtered_hospital = []\n",
    "\n",
    "for unfiltered_hospital in list_private_hos:\n",
    "    filtered_hospital.append(unfiltered_hospital.text)\n",
    "\n",
    "filter_hos = []\n",
    "long_private = []\n",
    "lat_private = []\n",
    "\n",
    "for hospital in filtered_hospital:\n",
    "    geocode = partial(geolocator.geocode, language=\"es\")\n",
    "    location = geolocator.geocode(str(hospital))\n",
    "\n",
    "    try:\n",
    "        long_private.append(location.longitude)\n",
    "        lat_private.append(location.latitude)\n",
    "        filter_hos.append(\n",
    "            filtered_hospital[filtered_hospital.index(hospital)])\n",
    "    except:\n",
    "        pass\n",
    "\n",
    "hospital_Dict[\"hospital name\"] += filter_hos\n",
    "hospital_Dict[\"longitude\"] += long_private\n",
    "hospital_Dict[\"latitude\"] += lat_private\n",
    "\n",
    "HDF = pd.DataFrame(hospital_Dict)"
   ]
  },
  {
   "cell_type": "code",
   "execution_count": null,
   "metadata": {},
   "outputs": [],
   "source": [
    "HDF"
   ]
  },
  {
   "cell_type": "markdown",
   "metadata": {},
   "source": [
    "### 2.4 correlation between positive cases and population"
   ]
  },
  {
   "cell_type": "markdown",
   "metadata": {},
   "source": [
    "population and positve cases are proportinal, "
   ]
  },
  {
   "cell_type": "code",
   "execution_count": null,
   "metadata": {},
   "outputs": [],
   "source": [
    "#read the csv file in installed from the website\n",
    "pc_df = pd.read_csv(r\"covid_19_table.csv\")"
   ]
  },
  {
   "cell_type": "code",
   "execution_count": null,
   "metadata": {},
   "outputs": [],
   "source": [
    "#renaming and dropping columns\n",
    "pc_df.drop(\"Unnamed: 0\",axis = 1, inplace = True)\n",
    "pc_df.rename({\"Cases/M\": \"cases\", \"Deaths/M\": \"deaths\", \"Tests/M\":\"tests\"}, axis = 1, inplace = True)"
   ]
  },
  {
   "cell_type": "code",
   "execution_count": null,
   "metadata": {},
   "outputs": [],
   "source": [
    "for x in pc_df[\"Total Cases\"]:\n",
    "    y = x.replace(\",\", \"\")\n",
    "    pc_df = pc_df.replace(to_replace = f\"{x}\", value= y)\n",
    "    \n",
    "    \n",
    "for x in pc_df[\"Population\"]:\n",
    "    y = x.replace(\",\", \"\")\n",
    "    pc_df = pc_df.replace(to_replace = f\"{x}\", value= y)\n",
    "    \n",
    "for x in pc_df[\"Total Deaths\"]:\n",
    "    y = x.replace(\",\", \"\")\n",
    "    pc_df = pc_df.replace(to_replace = f\"{x}\", value= y)\n",
    "    \n",
    "    \n",
    "for x in pc_df[\"Population\"]:\n",
    "    y = x.replace(\",\", \"\")\n",
    "    pc_df = pc_df.replace(to_replace = f\"{x}\", value= y)\n",
    "    \n",
    "for x in pc_df[\"Total Cases\"]:\n",
    "    y = x.replace(\",\", \"\")\n",
    "    pc_df = pc_df.replace(to_replace = f\"{x}\", value= y)\n",
    "    \n",
    "    \n",
    "for x in pc_df[\"Population\"]:\n",
    "    y = x.replace(\",\", \"\")\n",
    "    pc_df = pc_df.replace(to_replace = f\"{x}\", value= y)\n",
    "    \n",
    "\n",
    "    "
   ]
  },
  {
   "cell_type": "code",
   "execution_count": null,
   "metadata": {},
   "outputs": [],
   "source": [
    "column_pc = pc_df.columns.to_list()"
   ]
  },
  {
   "cell_type": "code",
   "execution_count": null,
   "metadata": {},
   "outputs": [],
   "source": [
    "for i in column_pc:\n",
    "    try:\n",
    "        pc_df[i] = pc_df[i].astype(int)\n",
    "    except:\n",
    "        pass"
   ]
  },
  {
   "cell_type": "code",
   "execution_count": null,
   "metadata": {},
   "outputs": [],
   "source": [
    "pc_df.sort_values(by=\"Population\", ascending = False)"
   ]
  },
  {
   "cell_type": "code",
   "execution_count": null,
   "metadata": {},
   "outputs": [],
   "source": [
    "pc_df.info()"
   ]
  },
  {
   "cell_type": "code",
   "execution_count": null,
   "metadata": {},
   "outputs": [],
   "source": [
    "pc_df.corr()"
   ]
  },
  {
   "cell_type": "markdown",
   "metadata": {},
   "source": [
    "### 3. Methodolgy"
   ]
  },
  {
   "cell_type": "markdown",
   "metadata": {},
   "source": [
    "Our primary objective is to use data analytical tools to find a suitable location for building a hospital  in Ankara, where there are more cases in the province area. Reseach shows give us the idea that the population growth rate is directly proportional to the positive cases. to show this i collected a raw data, i will demostrate the correlation between the population, total deaths and cases from all many across the world.\n",
    "<p>\n",
    "I will apply a circle to the map that represent the population growth rate caused by the virus, to find this i need to find the rate difference of population of each city, and multiply it by the current population. in other words:\n",
    "  <p>\n",
    "      population growth rate caused by the covid 19 virus= population x rate difference from the year caused by the covid-19 "
   ]
  },
  {
   "cell_type": "markdown",
   "metadata": {},
   "source": [
    "In order to assist in the analysis, I will use the '*'free services provided by Open Cage Geocode module (https://opencagedata.com/) to get the latitude and longitude of cities, districts, particular venues or neighborhoods. i have already imported geocode module in the begeinning of the paragraph."
   ]
  },
  {
   "cell_type": "code",
   "execution_count": null,
   "metadata": {},
   "outputs": [],
   "source": [
    "for province in province_name:\n",
    "    if \"(\" in province:\n",
    "        nprovince = province[:province.index(\"(\")]\n",
    "        province_name[province_name.index(\n",
    "            province)] = nprovince\n",
    "    elif \"/\" in province:\n",
    "        nprovince = province[:province.index(\"/\")]\n",
    "        province_name[province_name.index(\n",
    "            province)] = nprovince\n",
    "    elif \",\" in province:\n",
    "        nprovince = province.replace(\",\", )\n",
    "        province_name[province_name.index(\n",
    "            province)] = nprovince\n",
    "    else:\n",
    "        pass\n",
    "\n",
    "geolocator = Nominatim(user_agent=\"raihanhabibi2002@gmail.com\")\n",
    "longitude = []\n",
    "latitude = []\n",
    "\n",
    "\n",
    "for x in province_name:\n",
    "    geocode = partial(geolocator.geocode, language=\"es\")\n",
    "    location = geolocator.geocode(str(f\"turkey, {x}\"))\n",
    "\n",
    "    try:\n",
    "        longitude.append(location.longitude)\n",
    "        latitude.append(location.latitude)\n",
    "\n",
    "    except:\n",
    "        pass\n",
    "    \n",
    "\n",
    "table_df[\"longitude\"] = longitude\n",
    "table_df[\"latitude\"] = latitude\n",
    "\n",
    "\n",
    "P_DF = pd.DataFrame(table_df)"
   ]
  },
  {
   "cell_type": "code",
   "execution_count": null,
   "metadata": {},
   "outputs": [],
   "source": [
    "P_DF[\"area in KM^2\"] = P_DF[\"area in KM^2\"].astype(float)\n",
    "P_DF[\"Density in KM^2\"] = P_DF[\"Density in KM^2\"].astype(float)\n",
    "P_DF[\"population\"] = P_DF[\"population\"].astype(float)"
   ]
  },
  {
   "cell_type": "code",
   "execution_count": null,
   "metadata": {
    "scrolled": true
   },
   "outputs": [],
   "source": [
    "P_DF"
   ]
  },
  {
   "cell_type": "code",
   "execution_count": null,
   "metadata": {},
   "outputs": [],
   "source": [
    "turkey_map = folium.Map([39.7334, 32.8597], zoom_start=10)\n",
    "f = open(\"tr-cities.json\")\n",
    "data = json.load(f)\n",
    "data[\"features\"] = [data[\"features\"][6]]\n",
    "folium.GeoJson(data).add_to(turkey_map)"
   ]
  },
  {
   "cell_type": "markdown",
   "metadata": {},
   "source": [
    "We then need to know how to get a map of the city that we are interested in (i.e. Ankara) in order to present our data to the stakeholders using a 'Visualization' approach. We have downloaded all the required dependencies earlier in the report, and now we are ready to use the FOLIUM API service as described in the folIowing section. we will start by making a loop by plotting the marker of every hospital and province from the data into the turkey map I already created."
   ]
  },
  {
   "cell_type": "code",
   "execution_count": null,
   "metadata": {},
   "outputs": [],
   "source": [
    "turkey_map_t = folium.Map([ 39.925533, 32.866287], zoom_start=11, tiles='openstreetmap')\n",
    "f = open(\"tr-cities.json\")\n",
    "data = json.load(f)\n",
    "data[\"features\"] = [data[\"features\"][6]]\n",
    "folium.GeoJson(data).add_to(turkey_map)\n",
    "turkey_map_t"
   ]
  },
  {
   "cell_type": "markdown",
   "metadata": {},
   "source": [
    "The map shows upclose the main outer ring roads surrounding the city of Ankara, we want to propose a strategic location (i.e. neighborhood) for the investing group within the Ankara governmental area."
   ]
  },
  {
   "cell_type": "code",
   "execution_count": null,
   "metadata": {},
   "outputs": [],
   "source": [
    "for i in range(0,len(HDF)):\n",
    "    folium.Marker(location=[HDF.iloc[i]['latitude'], HDF.iloc[i]['longitude']], popup=HDF.iloc[i]['hospital name']).add_to(turkey_map_t)\n",
    "\n",
    "for i in range(0,len(P_DF)):\n",
    "    folium.Marker(location=[P_DF.iloc[i]['latitude'], P_DF.iloc[i]['longitude']], popup=P_DF.iloc[i]['province name'], icon=folium.Icon(color='red')).add_to(turkey_map_t)"
   ]
  },
  {
   "cell_type": "code",
   "execution_count": null,
   "metadata": {},
   "outputs": [],
   "source": [
    "P_DF.info()"
   ]
  },
  {
   "cell_type": "code",
   "execution_count": null,
   "metadata": {},
   "outputs": [],
   "source": [
    "relationship_table = P_DF.corr(method='pearson')\n",
    "relationship_table"
   ]
  },
  {
   "cell_type": "markdown",
   "metadata": {},
   "source": [
    "### 4. Results"
   ]
  },
  {
   "cell_type": "markdown",
   "metadata": {},
   "source": [
    "The primary objective is to answer the business problem. In this article i analyzed the correlation between demographic and healthcare availability indicators with the COVID-19 outcome as well with the rate of population growth and how these affects features the rate of positve cases."
   ]
  },
  {
   "cell_type": "code",
   "execution_count": null,
   "metadata": {},
   "outputs": [],
   "source": [
    "for i in range(0,len(P_DF)):\n",
    "   folium.CircleMarker(\n",
    "      location=[P_DF.iloc[i]['latitude'], P_DF.iloc[i]['longitude']],\n",
    "      popup=P_DF.iloc[i]['province name'],\n",
    "      radius=float(float(P_DF.iloc[i]['population'])/ 10) * rate ,\n",
    "      color='#69b3a2',\n",
    "      fill=True,\n",
    "      fill_color='#69b3a2', inplace = True\n",
    "   ).add_to(turkey_map_t)\n",
    "\n",
    "for i in range(0,len(HDF)):\n",
    "    folium.Marker(location=[HDF.iloc[i]['latitude'], HDF.iloc[i]['longitude']], popup=HDF.iloc[i]['hospital name']).add_to(turkey_map_t)\n"
   ]
  },
  {
   "cell_type": "code",
   "execution_count": null,
   "metadata": {},
   "outputs": [],
   "source": [
    "turkey_map_t"
   ]
  },
  {
   "cell_type": "markdown",
   "metadata": {},
   "source": [
    "As you can see from the above map, most of the districts are within the main outer ring roads (highway) surrounding the city and others are situated outside the main ring roads. the blue mark represents common hospitals that are in the ankara area, the red mark represent the province, and the circle represent the population size.\n",
    "\n",
    "In order to solve the 1st problem in our business case scenario, we will need to show the extent and the distribution of population growth rate, number of hospitals becasue this effects the rate of positive cases (covid-19). \n",
    "\n",
    "By analysing this hybrid map we can see that there is TWO (2) possible sites that lack Covid-19 testing center.\n",
    "\n",
    "1. Estimesgut neighborhood\n",
    "2. Yenimahalle neighborhood\n",
    "\n",
    "The TWO (2) proposed candidate neighborhoods for an investing group to invest in their business venture. The stakeholder could choose their own neighborhood based on this hybrid map. However, for illustration purposes, I will propose the above TWO (2) neighborhoods."
   ]
  },
  {
   "cell_type": "markdown",
   "metadata": {},
   "source": [
    "### 5. Discussion "
   ]
  },
  {
   "cell_type": "markdown",
   "metadata": {},
   "source": [
    "In our business scenario, we will have to propose (ONE) best candidate neighborhood to the investing group out of the TWO (2) chosen areas, which are:\n",
    "\n",
    "1. Estimesgut neighborhood\n",
    "2. Yenimahalle neighborhood\n",
    "\n",
    "In order to assist in our analysis, we will need to use the FOURSQUARE API to help us gather data relevant to a particular location. To do this, we need to open an account with them and go to the developer section to get client ID and client secret. We have downloaded all the required dependencies for this task earlier. in this section I will now demonstrate how I found 1 of the 2 neighborhood to propose building a new health facility in. To start, I will write the following code:"
   ]
  },
  {
   "cell_type": "code",
   "execution_count": null,
   "metadata": {},
   "outputs": [],
   "source": [
    "#extracting the coordinates from the P_DF dataframe\n",
    "print(P_DF.columns.tolist())\n",
    "print(P_DF.iloc[9].tolist())\n",
    "estimegut_longitiude = P_DF.iloc[9].tolist()[-1]\n",
    "estimegut_latitude = P_DF.iloc[9].tolist()[-2]\n",
    "query = \"resident\"\n",
    "\n",
    "print(\"estimesgut: \" + str(estimegut_longitiude) +\",\"+ str(estimegut_latitude))"
   ]
  },
  {
   "cell_type": "code",
   "execution_count": null,
   "metadata": {},
   "outputs": [],
   "source": [
    "# Define Foursquare Credentials and Version\n",
    "\n",
    "CLIENT_ID = '3JFXUOIT2XEWEKCDOKKXD1XCZGN0J3OBHEXTYTFUPJSBN5RB' # your Foursquare ID\n",
    "CLIENT_SECRET = 'A3MRSXRYXSZSX3OT1RXUPLPY2QGNE0ELMWEI2RBRQQQGUYCD' # your Foursquare Secret\n",
    "VERSION = '20211207' # Foursquare API version\n",
    "print('Your credentails:')\n",
    "print('CLIENT_ID: ' + CLIENT_ID)\n",
    "print('CLIENT_SECRET:' + CLIENT_SECRET)"
   ]
  },
  {
   "cell_type": "code",
   "execution_count": null,
   "metadata": {},
   "outputs": [],
   "source": [
    "#giving a header for the foursquare API\n",
    "Authorization = \"fsq3pGzD+AffhWYtSPxrkuGqOANTmh6zBc9zE6d4vIHGkuo=\""
   ]
  },
  {
   "cell_type": "code",
   "execution_count": null,
   "metadata": {},
   "outputs": [],
   "source": [
    "#implementing the information needed for the query\n",
    "url = \"https://api.foursquare.com/v3/places/search?query=hospital&ll=39.86718835%2C32.602279499077&radius=100000&categories=15014\"\n",
    "\n",
    "headers = {\n",
    "    \"Accept\": \"application/json\",\n",
    "    \"Authorization\": \"fsq3pGzD+AffhWYtSPxrkuGqOANTmh6zBc9zE6d4vIHGkuo=\"\n",
    "}\n",
    "\n",
    "response = requests.request(\"GET\", url, headers=headers)\n",
    "\n",
    "response.text"
   ]
  },
  {
   "cell_type": "code",
   "execution_count": null,
   "metadata": {},
   "outputs": [],
   "source": [
    "#extracting information from the JSON file\n",
    "request_info = json.loads(response.text)"
   ]
  },
  {
   "cell_type": "code",
   "execution_count": null,
   "metadata": {},
   "outputs": [],
   "source": [
    "request_info"
   ]
  },
  {
   "cell_type": "code",
   "execution_count": null,
   "metadata": {},
   "outputs": [],
   "source": [
    "#showing basic idea for each information to be extracted\n",
    "name = request_info[\"results\"][0][\"related_places\"][\"children\"][1][\"name\"]\n",
    "longitude = request_info[\"results\"][0][\"geocodes\"][\"main\"][\"longitude\"]\n",
    "latitude = request_info[\"results\"][0][\"geocodes\"][\"main\"][\"latitude\"]"
   ]
  },
  {
   "cell_type": "code",
   "execution_count": null,
   "metadata": {},
   "outputs": [],
   "source": [
    "#creating a for loop to extract information easily\n",
    "hospital_name = []\n",
    "longitude_list = []\n",
    "latitude_list = []\n",
    "\n",
    "for i in range(len(request_info[\"results\"])):\n",
    "    try:\n",
    "        name = request_info[\"results\"][i][\"related_places\"][\"children\"][0][\"name\"]\n",
    "        hospital_name.append(name)\n",
    "        longitude = request_info[\"results\"][i][\"geocodes\"][\"main\"][\"longitude\"]\n",
    "        longitude_list.append(longitude)\n",
    "        latitude = request_info[\"results\"][i][\"geocodes\"][\"main\"][\"latitude\"]\n",
    "        latitude_list.append(latitude)\n",
    "    except:\n",
    "        pass\n",
    "    \n",
    "print(hospital_name)\n",
    "print(longitude_list)\n",
    "print(latitude_list)\n"
   ]
  },
  {
   "cell_type": "code",
   "execution_count": null,
   "metadata": {},
   "outputs": [],
   "source": [
    "#turing all the information to a dataframe\n",
    "estimesgut_hosp = {\"hospital name\": [], \"longitude\":[], \"latitude\":[]}\n",
    "estimesgut_hosp[\"hospital name\"] = hospital_name\n",
    "estimesgut_hosp[\"longitude\"] = longitude_list\n",
    "estimesgut_hosp[\"latitude\"] = latitude_list\n",
    "e_df = pd.DataFrame(estimesgut_hosp)\n",
    "e_df"
   ]
  },
  {
   "cell_type": "code",
   "execution_count": null,
   "metadata": {},
   "outputs": [],
   "source": [
    "#add each location to the turkey map\n",
    "for i in range(0,len(e_df)):\n",
    "    folium.Marker(location=[e_df.iloc[i]['latitude'], e_df.iloc[i]['longitude']], popup=e_df.iloc[i]['hospital name'], icon=folium.Icon(color='darkred')).add_to(turkey_map_t)"
   ]
  },
  {
   "cell_type": "code",
   "execution_count": null,
   "metadata": {},
   "outputs": [],
   "source": [
    "turkey_map_t"
   ]
  },
  {
   "cell_type": "markdown",
   "metadata": {},
   "source": [
    "from the map here, the foursquare API has added 4 more hospitals (dark red marker) near etimesgut which are:\n",
    "\n",
    "1. Lösante Hastanesi Çocuk Kardiyoloji\n",
    "2. Güven Çayyolu Ameliyathane\n",
    "3. A Life Tüp Bebek Merkezi\n",
    "4. Lokman Hekim Hastanesi Göz Polikliniği\n",
    "\n",
    "now i will call out the neighborhood area near estimegut using the same foursquare API but different query. furthur analysis based on this information will be taken after all data is extracted."
   ]
  },
  {
   "cell_type": "code",
   "execution_count": null,
   "metadata": {},
   "outputs": [],
   "source": [
    "response.close()"
   ]
  },
  {
   "cell_type": "code",
   "execution_count": null,
   "metadata": {},
   "outputs": [],
   "source": [
    "url = \"https://api.foursquare.com/v3/places/search?query=house&ll=39.86718835%2C32.602279499077&radius=100000&categories=19014\"\n",
    "\n",
    "headers = {\n",
    "    \"Accept\": \"application/json\",\n",
    "    \"Authorization\": \"fsq3pGzD+AffhWYtSPxrkuGqOANTmh6zBc9zE6d4vIHGkuo=\"\n",
    "}\n",
    "\n",
    "response = requests.request(\"GET\", url, headers=headers)\n",
    "\n",
    "print(response.text)"
   ]
  },
  {
   "cell_type": "code",
   "execution_count": null,
   "metadata": {},
   "outputs": [],
   "source": [
    "request_info = json.loads(response.text)"
   ]
  },
  {
   "cell_type": "code",
   "execution_count": null,
   "metadata": {},
   "outputs": [],
   "source": [
    "#showing basic idea for each information to be extracted\n",
    "name = request_info[\"results\"][0][\"name\"]\n",
    "longitude = request_info[\"results\"][0][\"geocodes\"][\"main\"][\"longitude\"]\n",
    "latitude = request_info[\"results\"][0][\"geocodes\"][\"main\"][\"latitude\"]\n",
    "longitude"
   ]
  },
  {
   "cell_type": "code",
   "execution_count": null,
   "metadata": {},
   "outputs": [],
   "source": [
    "#creating a for loop to extract information easily\n",
    "neighborhood_list = []\n",
    "longitude_list = []\n",
    "latitude_list = []\n",
    "\n",
    "for i in range(len(request_info[\"results\"])):\n",
    "    try:\n",
    "        name = request_info[\"results\"][i][\"name\"]\n",
    "        neighborhood_list.append(name)\n",
    "        longitude = request_info[\"results\"][i][\"geocodes\"][\"main\"][\"longitude\"]\n",
    "        longitude_list.append(longitude)\n",
    "        latitude = request_info[\"results\"][i][\"geocodes\"][\"main\"][\"latitude\"]\n",
    "        latitude_list.append(latitude)\n",
    "    except:\n",
    "        pass\n",
    "    \n",
    "print(neighborhood_list)\n",
    "print(longitude_list)\n",
    "print(latitude_list)\n"
   ]
  },
  {
   "cell_type": "code",
   "execution_count": null,
   "metadata": {},
   "outputs": [],
   "source": [
    "#turing all the information to a dataframe\n",
    "estimesgut_neigh = {\"neighborhood name\": [], \"longitude\":[], \"latitude\":[]}\n",
    "estimesgut_neigh[\"neighborhood name\"] = neighborhood_list\n",
    "estimesgut_neigh[\"longitude\"] = longitude_list\n",
    "estimesgut_neigh[\"latitude\"] = latitude_list\n",
    "c_df = pd.DataFrame(estimesgut_neigh)\n",
    "c_df\n",
    "\n",
    "coordinate = []\n",
    "for c in range(len(neighborhood_list)):\n",
    "    coordinate.append((latitude_list[c], longitude_list[c]))"
   ]
  },
  {
   "cell_type": "code",
   "execution_count": null,
   "metadata": {},
   "outputs": [],
   "source": [
    "#add each location to the turkey map\n",
    "for i in range(0,len(c_df)):\n",
    "    folium.Marker(location=[c_df.iloc[i]['latitude'], c_df.iloc[i]['longitude']], popup=c_df.iloc[i]['neighborhood name'], icon=folium.Icon(color='purple')).add_to(turkey_map_t)"
   ]
  },
  {
   "cell_type": "code",
   "execution_count": null,
   "metadata": {},
   "outputs": [],
   "source": [
    "turkey_map_t"
   ]
  },
  {
   "cell_type": "markdown",
   "metadata": {},
   "source": [
    "the purple marker gives the location of the neighborhood in the area, now I will also take loction of neighborhood near Yenimahalle"
   ]
  },
  {
   "cell_type": "code",
   "execution_count": null,
   "metadata": {},
   "outputs": [],
   "source": [
    "#closing this request API to create a new one\n",
    "response.close()"
   ]
  },
  {
   "cell_type": "code",
   "execution_count": null,
   "metadata": {},
   "outputs": [],
   "source": [
    "#extracting the coordinates from the P_DF dataframe\n",
    "print(P_DF.columns.tolist())\n",
    "print(P_DF.iloc[24].tolist())\n",
    "Yenimahalle_longitiude = P_DF.iloc[24].tolist()[-1]\n",
    "Yenimahalle_latitude = P_DF.iloc[24].tolist()[-2]\n",
    "query = \"resident\"\n",
    "\n",
    "print(\"Yenimahalle: \" + str(Yenimahalle_longitiude) +\",\"+ str(Yenimahalle_latitude))"
   ]
  },
  {
   "cell_type": "code",
   "execution_count": null,
   "metadata": {},
   "outputs": [],
   "source": [
    "url = \"https://api.foursquare.com/v3/places/search?query=house&ll=40.00873125%2C32.6824433703666&radius=100000&categories=19015\"\n",
    "\n",
    "headers = {\n",
    "    \"Accept\": \"application/json\",\n",
    "    \"Authorization\": \"fsq3pGzD+AffhWYtSPxrkuGqOANTmh6zBc9zE6d4vIHGkuo=\"\n",
    "}\n",
    "\n",
    "response = requests.request(\"GET\", url, headers=headers)\n",
    "\n",
    "print(response.text)"
   ]
  },
  {
   "cell_type": "code",
   "execution_count": null,
   "metadata": {},
   "outputs": [],
   "source": [
    "request_info = json.loads(response.text)"
   ]
  },
  {
   "cell_type": "code",
   "execution_count": null,
   "metadata": {},
   "outputs": [],
   "source": [
    "#showing basic idea for each information to be extracted\n",
    "name = request_info[\"results\"][0][\"name\"]\n",
    "longitude = request_info[\"results\"][0][\"geocodes\"][\"main\"][\"longitude\"]\n",
    "latitude = request_info[\"results\"][0][\"geocodes\"][\"main\"][\"latitude\"]\n",
    "name"
   ]
  },
  {
   "cell_type": "code",
   "execution_count": null,
   "metadata": {},
   "outputs": [],
   "source": [
    "#creating a for loop to extract information easily\n",
    "neighborhood_list = []\n",
    "longitude_list = []\n",
    "latitude_list = []"
   ]
  },
  {
   "cell_type": "code",
   "execution_count": null,
   "metadata": {},
   "outputs": [],
   "source": [
    "for i in range(len(request_info[\"results\"])):\n",
    "    try:\n",
    "        name = request_info[\"results\"][i][\"name\"]\n",
    "        neighborhood_list.append(name)\n",
    "        longitude = request_info[\"results\"][i][\"geocodes\"][\"main\"][\"longitude\"]\n",
    "        longitude_list.append(longitude)\n",
    "        latitude = request_info[\"results\"][i][\"geocodes\"][\"main\"][\"latitude\"]\n",
    "        latitude_list.append(latitude)\n",
    "    except:\n",
    "        pass\n",
    "    \n",
    "for c in range(len(neighborhood_list)):\n",
    "    coordinate.append((latitude_list[c], longitude_list[c]))"
   ]
  },
  {
   "cell_type": "code",
   "execution_count": null,
   "metadata": {},
   "outputs": [],
   "source": [
    "#turing all the information to a dataframe\n",
    "Yenimahalle_neigh = {\"neighborhood name\": [], \"longitude\":[], \"latitude\":[]}\n",
    "Yenimahalle_neigh[\"neighborhood name\"] = neighborhood_list\n",
    "Yenimahalle_neigh[\"longitude\"] = longitude_list\n",
    "Yenimahalle_neigh[\"latitude\"] = latitude_list\n",
    "c_df1 = pd.DataFrame(Yenimahalle_neigh)\n",
    "c_df1"
   ]
  },
  {
   "cell_type": "code",
   "execution_count": null,
   "metadata": {},
   "outputs": [],
   "source": [
    "#combining the 2 neighborhood dataframe\n",
    "frames = [c_df1, c_df]\n",
    "result_neighbour = pd.concat(frames)\n",
    "result_neighbour.reset_index(inplace = True)\n",
    "result_neighbour.drop(\"index\", axis = 1)"
   ]
  },
  {
   "cell_type": "code",
   "execution_count": null,
   "metadata": {},
   "outputs": [],
   "source": [
    "for c in range(len(result_neighbour)):\n",
    "    coordinate.append((result_neighbour[\"latitude\"][c], result_neighbour[\"longitude\"][c]))"
   ]
  },
  {
   "cell_type": "code",
   "execution_count": null,
   "metadata": {},
   "outputs": [],
   "source": [
    "#add each location to the turkey map\n",
    "for i in range(0,len(c_df)):\n",
    "    folium.Marker(location=[c_df.iloc[i]['latitude'], c_df.iloc[i]['longitude']], popup=c_df.iloc[i]['neighborhood name'], icon=folium.Icon(color='purple')).add_to(turkey_map_t)"
   ]
  },
  {
   "cell_type": "code",
   "execution_count": null,
   "metadata": {
    "scrolled": true
   },
   "outputs": [],
   "source": [
    "turkey_map_t"
   ]
  },
  {
   "cell_type": "markdown",
   "metadata": {},
   "source": [
    "To determine 1 of the cases in the 2 neighborhood, I will now find the distance of the 2 neighborhoods with each province so it will give the most neighborhood in the closest range. "
   ]
  },
  {
   "cell_type": "code",
   "execution_count": null,
   "metadata": {},
   "outputs": [],
   "source": [
    "#creating a function to make a line in the map \n",
    "def distance(map1, latitude1, longitude1, latitude2, longitude2, line= True, inplace = False):\n",
    "    if line:\n",
    "        folium.PolyLine([(latitude1, longitude1), (latitude2, longitude2)]).add_to(map1)\n",
    "        coords = [(latitude1,longitude1), (latitude2, longitude2 )]\n",
    "        coords = []\n",
    "    else:\n",
    "        pass\n",
    "    dis = mt.sqrt( ((float(latitude1)-float(latitude2))**2)+((float(longitude1)-float(longitude2))**2) )\n",
    "    return dis"
   ]
  },
  {
   "cell_type": "code",
   "execution_count": null,
   "metadata": {},
   "outputs": [],
   "source": [
    "#list of coordinates\n",
    "coordinate"
   ]
  },
  {
   "cell_type": "code",
   "execution_count": null,
   "metadata": {},
   "outputs": [],
   "source": [
    "#make a for loop to put the lines in the coorinates \n",
    "Yenimahalle= [40.00873125, 32.6824433703666] \n",
    "Yenimahalle_df = {\"distance (km)\":[], \"coordinates\":[] }\n",
    "\n",
    "#latitude, longitude\n",
    "\n",
    "for x in range(len(coordinate)):\n",
    "    try:\n",
    "        a = distance(turkey_map_t, 40.00873125, 32.6824433703666, coordinate[x][0], coordinate[x][1])\n",
    "        Yenimahalle_df[\"distance (km)\"].append(float(a) * 100.0)\n",
    "        Yenimahalle_df[\"coordinates\"].append((coordinate[x][0],coordinate[x][1]) )\n",
    "        \n",
    "    except:\n",
    "        pass\n",
    "YDF = pd.DataFrame(Yenimahalle_df)\n",
    "YDF"
   ]
  },
  {
   "cell_type": "code",
   "execution_count": null,
   "metadata": {},
   "outputs": [],
   "source": [
    "turkey_map_t"
   ]
  },
  {
   "cell_type": "code",
   "execution_count": null,
   "metadata": {},
   "outputs": [],
   "source": [
    "#make a for loop to put the lines in the coorinates \n",
    "Etimesgut= [39.86718835,32.602279499077] \n",
    "Etimesgut_df = {\"distance (km)\":[], \"coordinates\":[] }\n",
    "\n",
    "#latitude, longitude\n",
    "\n",
    "for x in range(len(coordinate)):\n",
    "    try:\n",
    "        a = distance(turkey_map_t, 39.86718835, 32.602279499077, coordinate[x][0], coordinate[x][1])\n",
    "        Etimesgut_df[\"distance (km)\"].append(float(a) * 100.0)\n",
    "        Etimesgut_df[\"coordinates\"].append((coordinate[x][0],coordinate[x][1]) )\n",
    "        \n",
    "    except:\n",
    "        pass\n",
    "\n",
    "EDF_dis = pd.DataFrame(Etimesgut_df)\n",
    "EDF_dis"
   ]
  },
  {
   "cell_type": "code",
   "execution_count": null,
   "metadata": {},
   "outputs": [],
   "source": [
    "turkey_map_t"
   ]
  },
  {
   "cell_type": "code",
   "execution_count": null,
   "metadata": {},
   "outputs": [],
   "source": [
    "EDF_column_sum = EDF_dis[\"distance (km)\"].mean()\n",
    "print(\"etimesgut average distance: \" + str(EDF_column_sum))\n",
    "YDF_column_sum = YDF[\"distance (km)\"].mean()\n",
    "print(\"Yenimahalle average distance: \" + str(YDF_column_sum))"
   ]
  },
  {
   "cell_type": "markdown",
   "metadata": {},
   "source": [
    "as you can see here the neighborhoods is closer in Yenimahalle, so the reccommended area to implement is nearly between the lines of Yenimahalle and the neighborhood. "
   ]
  },
  {
   "cell_type": "markdown",
   "metadata": {},
   "source": [
    "### 6. Conclusion"
   ]
  },
  {
   "cell_type": "markdown",
   "metadata": {},
   "source": [
    "In this article or report, the author has demonstrated a 'Visual' approach to determine the best location for a business venture utilizing Data Science / Data Analytics tool kits. The same processes can be used for other cities in the world as long as the required datas are available. Certainly some improvements could be done here and there as briefly mentioned in the report. For example, how we can use a slider or animation to visualize the changes or growth of our data on daily basis or how we can use different algorithms to improve the clustering analysis that we discussed here. I think a visual approach is a better way to present our analysis to non-specialist such as to the investing group or any other stake holders."
   ]
  },
  {
   "cell_type": "code",
   "execution_count": null,
   "metadata": {},
   "outputs": [],
   "source": []
  }
 ],
 "metadata": {
  "kernelspec": {
   "display_name": "Python 3",
   "language": "python",
   "name": "python3"
  },
  "language_info": {
   "codemirror_mode": {
    "name": "ipython",
    "version": 3
   },
   "file_extension": ".py",
   "mimetype": "text/x-python",
   "name": "python",
   "nbconvert_exporter": "python",
   "pygments_lexer": "ipython3",
   "version": "3.8.3"
  }
 },
 "nbformat": 4,
 "nbformat_minor": 4
}
